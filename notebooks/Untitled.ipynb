{
 "cells": [
  {
   "cell_type": "code",
   "execution_count": 1,
   "id": "f7ee64bd-47d8-471a-9e7a-df33aec42ad4",
   "metadata": {},
   "outputs": [],
   "source": [
    "import pandas as pd"
   ]
  },
  {
   "cell_type": "code",
   "execution_count": 2,
   "id": "e42bb095-3fe7-4566-8ce6-c009e44d1c25",
   "metadata": {},
   "outputs": [],
   "source": [
    "df = pd.read_csv('fitness_exercises_500.csv')"
   ]
  },
  {
   "cell_type": "code",
   "execution_count": 3,
   "id": "f141847e-a06b-4083-b94c-2ae232a838b2",
   "metadata": {},
   "outputs": [
    {
     "data": {
      "text/html": [
       "<div>\n",
       "<style scoped>\n",
       "    .dataframe tbody tr th:only-of-type {\n",
       "        vertical-align: middle;\n",
       "    }\n",
       "\n",
       "    .dataframe tbody tr th {\n",
       "        vertical-align: top;\n",
       "    }\n",
       "\n",
       "    .dataframe thead th {\n",
       "        text-align: right;\n",
       "    }\n",
       "</style>\n",
       "<table border=\"1\" class=\"dataframe\">\n",
       "  <thead>\n",
       "    <tr style=\"text-align: right;\">\n",
       "      <th></th>\n",
       "      <th>exercise_name</th>\n",
       "      <th>type_of_activity</th>\n",
       "      <th>type_of_equipment</th>\n",
       "      <th>body_part</th>\n",
       "      <th>type</th>\n",
       "      <th>muscle_groups_activated</th>\n",
       "      <th>instruction</th>\n",
       "    </tr>\n",
       "  </thead>\n",
       "  <tbody>\n",
       "    <tr>\n",
       "      <th>0</th>\n",
       "      <td>Push-Up Hold</td>\n",
       "      <td>mobility</td>\n",
       "      <td>dip belt</td>\n",
       "      <td>lower</td>\n",
       "      <td>stretch</td>\n",
       "      <td>glutes, quads, hamstrings</td>\n",
       "      <td>Push-Up Hold: Setup — Use dip belt. Focus on s...</td>\n",
       "    </tr>\n",
       "    <tr>\n",
       "      <th>1</th>\n",
       "      <td>Explosive Lateral Raise Pulse</td>\n",
       "      <td>cardio</td>\n",
       "      <td>barbells</td>\n",
       "      <td>full body</td>\n",
       "      <td>hold</td>\n",
       "      <td>back, chest, legs</td>\n",
       "      <td>Explosive Lateral Raise Pulse: Setup — Use bar...</td>\n",
       "    </tr>\n",
       "    <tr>\n",
       "      <th>2</th>\n",
       "      <td>Rotational Jumping Jack Iso</td>\n",
       "      <td>warm-up</td>\n",
       "      <td>barbells</td>\n",
       "      <td>upper</td>\n",
       "      <td>push</td>\n",
       "      <td>biceps, forearms, chest</td>\n",
       "      <td>Rotational Jumping Jack Iso: Setup — Use barbe...</td>\n",
       "    </tr>\n",
       "    <tr>\n",
       "      <th>3</th>\n",
       "      <td>Wide-Grip Running</td>\n",
       "      <td>strength</td>\n",
       "      <td>kettlebells</td>\n",
       "      <td>upper</td>\n",
       "      <td>pull</td>\n",
       "      <td>deltoids, triceps, forearms</td>\n",
       "      <td>Wide-Grip Running: Setup — Use kettlebells. Fo...</td>\n",
       "    </tr>\n",
       "    <tr>\n",
       "      <th>4</th>\n",
       "      <td>Decline Dips</td>\n",
       "      <td>cardio</td>\n",
       "      <td>barbells</td>\n",
       "      <td>core</td>\n",
       "      <td>stretch</td>\n",
       "      <td>abs, lower back, obliques</td>\n",
       "      <td>Decline Dips: Setup — Use barbells. Focus on s...</td>\n",
       "    </tr>\n",
       "  </tbody>\n",
       "</table>\n",
       "</div>"
      ],
      "text/plain": [
       "                   exercise_name type_of_activity type_of_equipment  \\\n",
       "0                   Push-Up Hold         mobility          dip belt   \n",
       "1  Explosive Lateral Raise Pulse           cardio          barbells   \n",
       "2    Rotational Jumping Jack Iso          warm-up          barbells   \n",
       "3              Wide-Grip Running         strength       kettlebells   \n",
       "4                   Decline Dips           cardio          barbells   \n",
       "\n",
       "   body_part     type      muscle_groups_activated  \\\n",
       "0      lower  stretch    glutes, quads, hamstrings   \n",
       "1  full body     hold            back, chest, legs   \n",
       "2      upper     push      biceps, forearms, chest   \n",
       "3      upper     pull  deltoids, triceps, forearms   \n",
       "4       core  stretch    abs, lower back, obliques   \n",
       "\n",
       "                                         instruction  \n",
       "0  Push-Up Hold: Setup — Use dip belt. Focus on s...  \n",
       "1  Explosive Lateral Raise Pulse: Setup — Use bar...  \n",
       "2  Rotational Jumping Jack Iso: Setup — Use barbe...  \n",
       "3  Wide-Grip Running: Setup — Use kettlebells. Fo...  \n",
       "4  Decline Dips: Setup — Use barbells. Focus on s...  "
      ]
     },
     "execution_count": 3,
     "metadata": {},
     "output_type": "execute_result"
    }
   ],
   "source": [
    "df.head()"
   ]
  },
  {
   "cell_type": "markdown",
   "id": "20455af8-cb87-4865-9440-db4f0619f9fe",
   "metadata": {},
   "source": [
    "## Indexing using minsearch"
   ]
  },
  {
   "cell_type": "code",
   "execution_count": 4,
   "id": "7199db95-98bb-4ef4-82bf-bbb6f8a90eb4",
   "metadata": {},
   "outputs": [],
   "source": [
    "import minsearch"
   ]
  },
  {
   "cell_type": "code",
   "execution_count": 5,
   "id": "afd24071-f88a-490b-b5e8-601b7b073de2",
   "metadata": {},
   "outputs": [
    {
     "data": {
      "text/plain": [
       "Index(['exercise_name', 'type_of_activity', 'type_of_equipment', 'body_part',\n",
       "       'type', 'muscle_groups_activated', 'instruction'],\n",
       "      dtype='object')"
      ]
     },
     "execution_count": 5,
     "metadata": {},
     "output_type": "execute_result"
    }
   ],
   "source": [
    "df.columns"
   ]
  },
  {
   "cell_type": "code",
   "execution_count": 6,
   "id": "ec851d79-8617-480a-85d3-9fc364cc750b",
   "metadata": {},
   "outputs": [],
   "source": [
    "documents = df.to_dict(orient='records')"
   ]
  },
  {
   "cell_type": "code",
   "execution_count": 7,
   "id": "b6aa8b32-aab3-413e-99da-efba4ecadc62",
   "metadata": {},
   "outputs": [],
   "source": [
    "index = minsearch.Index(\n",
    "    text_fields=['exercise_name', 'type_of_activity', 'type_of_equipment', 'body_part',\n",
    "       'type', 'muscle_groups_activated', 'instruction'],\n",
    "    keyword_fields=[]\n",
    ")"
   ]
  },
  {
   "cell_type": "code",
   "execution_count": 8,
   "id": "48d951db-b450-4aab-9d49-93e65722e437",
   "metadata": {},
   "outputs": [
    {
     "data": {
      "text/plain": [
       "<minsearch.minsearch.Index at 0x12711965250>"
      ]
     },
     "execution_count": 8,
     "metadata": {},
     "output_type": "execute_result"
    }
   ],
   "source": [
    "index.fit(documents)"
   ]
  },
  {
   "cell_type": "code",
   "execution_count": 9,
   "id": "a6511f8a-c8f6-4a23-a63b-5d738b7434d9",
   "metadata": {},
   "outputs": [],
   "source": [
    "query = 'give me leg exercises for hamstrings'"
   ]
  },
  {
   "cell_type": "markdown",
   "id": "7e3bb792-a22f-45cb-8bc3-f45863d87fb7",
   "metadata": {},
   "source": [
    "## Implementing RAG Flow"
   ]
  },
  {
   "cell_type": "code",
   "execution_count": 10,
   "id": "8d7cff77-234f-4805-8838-a393b1fb0d20",
   "metadata": {},
   "outputs": [],
   "source": [
    "from google import genai"
   ]
  },
  {
   "cell_type": "code",
   "execution_count": 11,
   "id": "ef9f8451-5d0f-446e-b2de-9d052d8d84c2",
   "metadata": {},
   "outputs": [],
   "source": [
    "client = genai.Client()"
   ]
  },
  {
   "cell_type": "code",
   "execution_count": 19,
   "id": "029d41a7-9a6d-4e9e-ace3-a63d3628cf09",
   "metadata": {},
   "outputs": [],
   "source": [
    "def search(query):\n",
    "    boost = {}\n",
    "\n",
    "    results = index.search(\n",
    "        query=query,\n",
    "        boost_dict=boost,\n",
    "        filter_dict={},\n",
    "        num_results=10\n",
    "    )\n",
    "\n",
    "    return results"
   ]
  },
  {
   "cell_type": "code",
   "execution_count": 20,
   "id": "30ed1cae-81a3-4907-af28-5144065a440b",
   "metadata": {},
   "outputs": [
    {
     "data": {
      "text/plain": [
       "{'exercise_name': 'Push-Up Hold',\n",
       " 'type_of_activity': 'mobility',\n",
       " 'type_of_equipment': 'dip belt',\n",
       " 'body_part': 'lower',\n",
       " 'type': 'stretch',\n",
       " 'muscle_groups_activated': 'glutes, quads, hamstrings',\n",
       " 'instruction': 'Push-Up Hold: Setup — Use dip belt. Focus on stretch movement for lower. Engage glutes, quads, hamstrings. Control breathing.'}"
      ]
     },
     "execution_count": 20,
     "metadata": {},
     "output_type": "execute_result"
    }
   ],
   "source": [
    "documents[0]"
   ]
  },
  {
   "cell_type": "code",
   "execution_count": 31,
   "id": "12bd96e8-13cd-4063-94ca-1f6103221c6d",
   "metadata": {},
   "outputs": [],
   "source": [
    "#We want the LLM to put the document content in the context of the answer\n",
    "prompt_template = \"\"\"\n",
    "    You're a professional fitness assistant. Answer the QUESTION based only on the CONTEXT provided from the exercise & fitness database.  \n",
    "    \n",
    "    - Use only the facts from the CONTEXT when answering the QUESTION.  \n",
    "    - If the CONTEXT does not contain the answer, respond with: NONE.  \n",
    "    - Keep your answer clear, concise, and detail with instruction for fitness use.  \n",
    "    \n",
    "    QUESTION: {question}  \n",
    "    \n",
    "    CONTEXT:  \n",
    "    {context}  \n",
    "\"\"\".strip()\n",
    "\n",
    "entry_template = \"\"\"\n",
    "exercise_name: {exercise_name}',\n",
    "type_of_activity: {type_of_activity},\n",
    "type_of_equipment: {type_of_equipment},\n",
    "body_part: {body_part},\n",
    "type: {type},\n",
    "muscle_groups_activated: {muscle_groups_activated},\n",
    "instruction: {instruction}\n",
    "\"\"\".strip()\n",
    "\n",
    "def build_prompt(query, search_results):    \n",
    "    context = \"\"\n",
    "    \n",
    "    for doc in search_results:\n",
    "        context = context + entry_template.format(**doc) + \"\\n\\n\"\n",
    "    \n",
    "    prompt = prompt_template.format(question=query, context=context).strip()\n",
    "    return prompt"
   ]
  },
  {
   "cell_type": "code",
   "execution_count": 32,
   "id": "bc69caa8-966a-4d38-b519-e779ad8055fa",
   "metadata": {},
   "outputs": [],
   "source": [
    "def llm(prompt):\n",
    "    response = client.models.generate_content(\n",
    "    model=\"gemini-2.5-flash\",\n",
    "    contents=prompt\n",
    "    )\n",
    "\n",
    "    return response.text"
   ]
  },
  {
   "cell_type": "code",
   "execution_count": 33,
   "id": "24513518-6e49-49d1-80b5-088158b21395",
   "metadata": {},
   "outputs": [],
   "source": [
    "def rag(query):\n",
    "    search_results = search(query)\n",
    "    prompt = build_prompt(query, search_results)\n",
    "    answer = llm(prompt)\n",
    "    return answer"
   ]
  },
  {
   "cell_type": "code",
   "execution_count": 34,
   "id": "03a1cd39-82b5-40bb-b1df-6f0802207614",
   "metadata": {},
   "outputs": [
    {
     "name": "stdout",
     "output_type": "stream",
     "text": [
      "Here are several core exercises that also help your back:\n",
      "\n",
      "*   **Jump Rope**: Setup — Use treadmill. Focus on pull movement for core. Engage lower back, abs, obliques. Control breathing.\n",
      "*   **Plank**: Setup — Use assisted machine. Focus on push movement for core. Engage abs, lower back, obliques. Control breathing.\n",
      "*   **Rowing Hold**: Setup — Use kettlebells. Focus on pull movement for core. Engage abs, obliques, lower back. Control breathing.\n",
      "*   **Lateral Raise**: Setup — Use dumbbells. Focus on stretch movement for core. Engage abs, obliques, lower back. Control breathing.\n",
      "*   **Plank Twist**: Setup — Use treadmill. Focus on hold movement for core. Engage abs, lower back, obliques. Control breathing.\n",
      "*   **Calf Raise**: Setup — Use rower. Focus on push movement for core. Engage abs, obliques, lower back. Control breathing.\n",
      "*   **Squat**: Setup — Use assisted machine. Focus on stretch movement for core. Engage abs, lower back, obliques. Control breathing.\n",
      "*   **Plank Reach**: Setup — Use dumbbells. Focus on hold movement for core. Engage abs, lower back, obliques. Control breathing.\n",
      "*   **Bench Press**: Setup — Use barbells. Focus on stretch movement for core. Engage obliques, lower back, abs. Control breathing.\n",
      "*   **Dips Pulse**: Setup — Use treadmill. Focus on pull movement for core. Engage obliques, lower back, abs. Control breathing.\n"
     ]
    }
   ],
   "source": [
    "query = 'I want some core exercises that also help my back'\n",
    "\n",
    "answer = rag(query)\n",
    "print(answer)"
   ]
  },
  {
   "cell_type": "code",
   "execution_count": null,
   "id": "a2b8b55f-0bd5-4f0e-a60d-5e76114a63bd",
   "metadata": {},
   "outputs": [],
   "source": []
  }
 ],
 "metadata": {
  "kernelspec": {
   "display_name": "Python 3 (ipykernel)",
   "language": "python",
   "name": "python3"
  },
  "language_info": {
   "codemirror_mode": {
    "name": "ipython",
    "version": 3
   },
   "file_extension": ".py",
   "mimetype": "text/x-python",
   "name": "python",
   "nbconvert_exporter": "python",
   "pygments_lexer": "ipython3",
   "version": "3.12.0"
  }
 },
 "nbformat": 4,
 "nbformat_minor": 5
}
