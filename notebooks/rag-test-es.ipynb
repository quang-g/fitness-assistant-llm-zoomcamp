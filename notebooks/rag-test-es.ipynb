{
 "cells": [
  {
   "cell_type": "markdown",
   "id": "6bfe8493-3eb2-4ff8-a297-2cec67c0119d",
   "metadata": {},
   "source": [
    "## Ingestion"
   ]
  },
  {
   "cell_type": "code",
   "execution_count": 1,
   "id": "f7ee64bd-47d8-471a-9e7a-df33aec42ad4",
   "metadata": {},
   "outputs": [],
   "source": [
    "import pandas as pd\n",
    "import json\n",
    "from tqdm.auto import tqdm\n",
    "from sentence_transformers import SentenceTransformer\n",
    "from elasticsearch import Elasticsearch"
   ]
  },
  {
   "cell_type": "code",
   "execution_count": 2,
   "id": "e42bb095-3fe7-4566-8ce6-c009e44d1c25",
   "metadata": {},
   "outputs": [],
   "source": [
    "df = pd.read_csv('../data/fitness_exercises_500.csv')"
   ]
  },
  {
   "cell_type": "code",
   "execution_count": 3,
   "id": "f141847e-a06b-4083-b94c-2ae232a838b2",
   "metadata": {},
   "outputs": [
    {
     "data": {
      "text/html": [
       "<div>\n",
       "<style scoped>\n",
       "    .dataframe tbody tr th:only-of-type {\n",
       "        vertical-align: middle;\n",
       "    }\n",
       "\n",
       "    .dataframe tbody tr th {\n",
       "        vertical-align: top;\n",
       "    }\n",
       "\n",
       "    .dataframe thead th {\n",
       "        text-align: right;\n",
       "    }\n",
       "</style>\n",
       "<table border=\"1\" class=\"dataframe\">\n",
       "  <thead>\n",
       "    <tr style=\"text-align: right;\">\n",
       "      <th></th>\n",
       "      <th>id</th>\n",
       "      <th>exercise_name</th>\n",
       "      <th>type_of_activity</th>\n",
       "      <th>type_of_equipment</th>\n",
       "      <th>body_part</th>\n",
       "      <th>type</th>\n",
       "      <th>muscle_groups_activated</th>\n",
       "      <th>instruction</th>\n",
       "    </tr>\n",
       "  </thead>\n",
       "  <tbody>\n",
       "    <tr>\n",
       "      <th>0</th>\n",
       "      <td>0</td>\n",
       "      <td>Push-Up Hold</td>\n",
       "      <td>mobility</td>\n",
       "      <td>dip belt</td>\n",
       "      <td>lower</td>\n",
       "      <td>stretch</td>\n",
       "      <td>glutes, quads, hamstrings</td>\n",
       "      <td>Setup: Prepare equipment: dip belt. Ensure sta...</td>\n",
       "    </tr>\n",
       "    <tr>\n",
       "      <th>1</th>\n",
       "      <td>1</td>\n",
       "      <td>Explosive Lateral Raise Pulse</td>\n",
       "      <td>cardio</td>\n",
       "      <td>barbells</td>\n",
       "      <td>full body</td>\n",
       "      <td>hold</td>\n",
       "      <td>back, chest, legs</td>\n",
       "      <td>Setup: Set barbell with collars secured; grip ...</td>\n",
       "    </tr>\n",
       "    <tr>\n",
       "      <th>2</th>\n",
       "      <td>2</td>\n",
       "      <td>Rotational Jumping Jack Iso</td>\n",
       "      <td>warm-up</td>\n",
       "      <td>barbells</td>\n",
       "      <td>upper</td>\n",
       "      <td>push</td>\n",
       "      <td>biceps, forearms, chest</td>\n",
       "      <td>Setup: Set barbell with collars secured; grip ...</td>\n",
       "    </tr>\n",
       "    <tr>\n",
       "      <th>3</th>\n",
       "      <td>3</td>\n",
       "      <td>Wide-Grip Running</td>\n",
       "      <td>strength</td>\n",
       "      <td>kettlebells</td>\n",
       "      <td>upper</td>\n",
       "      <td>pull</td>\n",
       "      <td>deltoids, triceps, forearms</td>\n",
       "      <td>Setup: Place kettlebell close to midline; hing...</td>\n",
       "    </tr>\n",
       "    <tr>\n",
       "      <th>4</th>\n",
       "      <td>4</td>\n",
       "      <td>Decline Dips</td>\n",
       "      <td>cardio</td>\n",
       "      <td>barbells</td>\n",
       "      <td>core</td>\n",
       "      <td>stretch</td>\n",
       "      <td>abs, lower back, obliques</td>\n",
       "      <td>Setup: Set barbell with collars secured; grip ...</td>\n",
       "    </tr>\n",
       "  </tbody>\n",
       "</table>\n",
       "</div>"
      ],
      "text/plain": [
       "   id                  exercise_name type_of_activity type_of_equipment  \\\n",
       "0   0                   Push-Up Hold         mobility          dip belt   \n",
       "1   1  Explosive Lateral Raise Pulse           cardio          barbells   \n",
       "2   2    Rotational Jumping Jack Iso          warm-up          barbells   \n",
       "3   3              Wide-Grip Running         strength       kettlebells   \n",
       "4   4                   Decline Dips           cardio          barbells   \n",
       "\n",
       "   body_part     type      muscle_groups_activated  \\\n",
       "0      lower  stretch    glutes, quads, hamstrings   \n",
       "1  full body     hold            back, chest, legs   \n",
       "2      upper     push      biceps, forearms, chest   \n",
       "3      upper     pull  deltoids, triceps, forearms   \n",
       "4       core  stretch    abs, lower back, obliques   \n",
       "\n",
       "                                         instruction  \n",
       "0  Setup: Prepare equipment: dip belt. Ensure sta...  \n",
       "1  Setup: Set barbell with collars secured; grip ...  \n",
       "2  Setup: Set barbell with collars secured; grip ...  \n",
       "3  Setup: Place kettlebell close to midline; hing...  \n",
       "4  Setup: Set barbell with collars secured; grip ...  "
      ]
     },
     "execution_count": 3,
     "metadata": {},
     "output_type": "execute_result"
    }
   ],
   "source": [
    "df.head()"
   ]
  },
  {
   "cell_type": "code",
   "execution_count": 4,
   "id": "7199db95-98bb-4ef4-82bf-bbb6f8a90eb4",
   "metadata": {},
   "outputs": [],
   "source": [
    "# import minsearch\n",
    "model_name = 'multi-qa-MiniLM-L6-cos-v1'\n",
    "model = SentenceTransformer(model_name)"
   ]
  },
  {
   "cell_type": "code",
   "execution_count": 5,
   "id": "afd24071-f88a-490b-b5e8-601b7b073de2",
   "metadata": {},
   "outputs": [
    {
     "data": {
      "text/plain": [
       "Index(['id', 'exercise_name', 'type_of_activity', 'type_of_equipment',\n",
       "       'body_part', 'type', 'muscle_groups_activated', 'instruction'],\n",
       "      dtype='object')"
      ]
     },
     "execution_count": 5,
     "metadata": {},
     "output_type": "execute_result"
    }
   ],
   "source": [
    "df.columns"
   ]
  },
  {
   "cell_type": "code",
   "execution_count": 6,
   "id": "ec851d79-8617-480a-85d3-9fc364cc750b",
   "metadata": {},
   "outputs": [],
   "source": [
    "documents = df.to_dict(orient='records')"
   ]
  },
  {
   "cell_type": "code",
   "execution_count": 7,
   "id": "3acfbdb5-a15d-482c-92cd-960f3b156e5f",
   "metadata": {},
   "outputs": [
    {
     "data": {
      "text/plain": [
       "{'id': 0,\n",
       " 'exercise_name': 'Push-Up Hold',\n",
       " 'type_of_activity': 'mobility',\n",
       " 'type_of_equipment': 'dip belt',\n",
       " 'body_part': 'lower',\n",
       " 'type': 'stretch',\n",
       " 'muscle_groups_activated': 'glutes, quads, hamstrings',\n",
       " 'instruction': 'Setup: Prepare equipment: dip belt. Ensure stable setup and safe load. Brace core, keep neutral spine, drive through whole foot. Primary focus: glutes, quads, hamstrings. Movement: Gently enter the stretch until a mild pull is felt; hold without bouncing and keep breathing. Tempo: 2‑2‑2‑0. Dose: 1–2 sets × 30–60 sec each side. Rest 45–90s between sets. Breathing: Slow nasal breaths; exhale to deepen slightly, no pain. Coaching cues: keep neck long, ribs down, and knees tracking over toes. Common mistakes: avoid bouncing; stay within mild discomfort. Do not bounce or hyperextend joints. Safety: Never force end range; joints should feel stable.'}"
      ]
     },
     "execution_count": 7,
     "metadata": {},
     "output_type": "execute_result"
    }
   ],
   "source": [
    "documents[0]"
   ]
  },
  {
   "cell_type": "code",
   "execution_count": 8,
   "id": "b6aa8b32-aab3-413e-99da-efba4ecadc62",
   "metadata": {},
   "outputs": [
    {
     "data": {
      "application/vnd.jupyter.widget-view+json": {
       "model_id": "c7dfd1dbdf784d18821c17e5313d9465",
       "version_major": 2,
       "version_minor": 0
      },
      "text/plain": [
       "  0%|          | 0/500 [00:00<?, ?it/s]"
      ]
     },
     "metadata": {},
     "output_type": "display_data"
    }
   ],
   "source": [
    "for doc in tqdm(documents):\n",
    "    exercise_name = doc['exercise_name']\n",
    "    instruction  = doc['instruction']\n",
    "    ei = exercise_name + \" \" + instruction\n",
    "\n",
    "    doc['exercise_name_vector'] = model.encode(exercise_name)\n",
    "    doc['instruction_vector'] = model.encode(instruction)\n",
    "    doc['ei_vector'] = model.encode(ei)"
   ]
  },
  {
   "cell_type": "code",
   "execution_count": 10,
   "id": "448a4244-8310-4e71-a306-411f370f2283",
   "metadata": {},
   "outputs": [
    {
     "name": "stdout",
     "output_type": "stream",
     "text": [
      "Index '500_fitness_exercises' created.\n"
     ]
    }
   ],
   "source": [
    "es_client = Elasticsearch(\"http://localhost:9200\")\n",
    "index_name = \"500_fitness_exercises\"\n",
    "\n",
    "dims = 384  # embedding dimensionality\n",
    "\n",
    "body = {\n",
    "    \"settings\": {\n",
    "        \"number_of_shards\": 1,\n",
    "        \"number_of_replicas\": 0,\n",
    "        \"analysis\": {\n",
    "            \"normalizer\": {\n",
    "                \"lc\": {  # lowercase + ASCII fold for case-insensitive exact matching\n",
    "                    \"type\": \"custom\",\n",
    "                    \"char_filter\": [],\n",
    "                    \"filter\": [\"lowercase\", \"asciifolding\"]\n",
    "                }\n",
    "            }\n",
    "        }\n",
    "    },\n",
    "    \"mappings\": {\n",
    "        \"properties\": {\n",
    "            # Full-text + exact (keyword) for names\n",
    "            \"exercise_name\": {\n",
    "                \"type\": \"text\",\n",
    "                \"fields\": {\n",
    "                    \"keyword\": {\"type\": \"keyword\", \"normalizer\": \"lc\"}\n",
    "                }\n",
    "            },\n",
    "\n",
    "            # Facet-style attributes: exact match via keyword, plus optional .text for free-text search\n",
    "            \"type_of_activity\": {\n",
    "                \"type\": \"keyword\", \"normalizer\": \"lc\",\n",
    "                \"fields\": {\"text\": {\"type\": \"text\"}}\n",
    "            },\n",
    "            \"type_of_equipment\": {\n",
    "                \"type\": \"keyword\", \"normalizer\": \"lc\",\n",
    "                \"fields\": {\"text\": {\"type\": \"text\"}}\n",
    "            },\n",
    "            \"body_part\": {\"type\": \"keyword\", \"normalizer\": \"lc\"},\n",
    "            \"type\": {\"type\": \"keyword\", \"normalizer\": \"lc\"},\n",
    "\n",
    "            # IMPORTANT: index as an ARRAY of strings, e.g. [\"glutes\",\"hamstrings\"]\n",
    "            \"muscle_groups_activated\": {\"type\": \"keyword\", \"normalizer\": \"lc\"},\n",
    "\n",
    "            # Long free-text\n",
    "            \"instruction\": {\"type\": \"text\"},\n",
    "\n",
    "            # Vectors (kNN)\n",
    "            \"exercise_name_vector\": {\n",
    "                \"type\": \"dense_vector\",\n",
    "                \"dims\": dims,\n",
    "                \"index\": True,\n",
    "                \"similarity\": \"cosine\"\n",
    "            },\n",
    "            \"instruction_vector\": {\n",
    "                \"type\": \"dense_vector\",\n",
    "                \"dims\": dims,\n",
    "                \"index\": True,\n",
    "                \"similarity\": \"cosine\"\n",
    "            },\n",
    "            \"ei_vector\": {\n",
    "                \"type\": \"dense_vector\",\n",
    "                \"dims\": dims,\n",
    "                \"index\": True,\n",
    "                \"similarity\": \"cosine\"\n",
    "            }\n",
    "        }\n",
    "    }\n",
    "}\n",
    "\n",
    "# Recreate index\n",
    "es_client.indices.delete(index=index_name, ignore_unavailable=True)\n",
    "es_client.indices.create(index=index_name, body=body)\n",
    "\n",
    "print(f\"Index '{index_name}' created.\")\n"
   ]
  },
  {
   "cell_type": "code",
   "execution_count": 11,
   "id": "c434d0c2-d363-4c5a-9ecc-75d3b75b0f1a",
   "metadata": {},
   "outputs": [
    {
     "data": {
      "application/vnd.jupyter.widget-view+json": {
       "model_id": "0fbaf379aa9b4d9c83bffe8461d11234",
       "version_major": 2,
       "version_minor": 0
      },
      "text/plain": [
       "  0%|          | 0/500 [00:00<?, ?it/s]"
      ]
     },
     "metadata": {},
     "output_type": "display_data"
    }
   ],
   "source": [
    "for doc in tqdm(documents):\n",
    "    es_client.index(index=index_name, document=doc)"
   ]
  },
  {
   "cell_type": "markdown",
   "id": "02bce435-b224-475b-8b89-36517a459503",
   "metadata": {},
   "source": [
    "## Retrieval Stage"
   ]
  },
  {
   "cell_type": "code",
   "execution_count": 12,
   "id": "9a5f430f-02f1-4629-87a0-c68ba64f5ccf",
   "metadata": {},
   "outputs": [],
   "source": [
    "from langchain.embeddings import SentenceTransformerEmbeddings\n",
    "from typing import Dict\n",
    "from langchain_elasticsearch import ElasticsearchRetriever"
   ]
  },
  {
   "cell_type": "code",
   "execution_count": 13,
   "id": "fc86ac7b-3be4-4250-9c00-25bc6afbd636",
   "metadata": {},
   "outputs": [],
   "source": [
    "es_url = 'http://localhost:9200'"
   ]
  },
  {
   "cell_type": "code",
   "execution_count": 14,
   "id": "08bb9827-492d-4c24-9bc1-9c6f0d436c2b",
   "metadata": {},
   "outputs": [],
   "source": [
    "from langchain_huggingface import HuggingFaceEmbeddings\n",
    "\n",
    "model_name = \"sentence-transformers/multi-qa-MiniLM-L6-cos-v1\"\n",
    "embeddings = HuggingFaceEmbeddings(model_name=model_name)"
   ]
  },
  {
   "cell_type": "code",
   "execution_count": 15,
   "id": "317f4bdd-034b-4c45-9a57-b244ce22498c",
   "metadata": {},
   "outputs": [],
   "source": [
    "def hybrid_query(search_query: str) -> Dict:\n",
    "    vector = embeddings.embed_query(search_query)  # same embeddings as for indexing\n",
    "    return {\n",
    "        \"query\": {\n",
    "            \"bool\": {\n",
    "                \"must\": {\n",
    "                    \"multi_match\": {\n",
    "                        \"query\": search_query,\n",
    "                        \"type\": \"cross_fields\",         # better for attribute-style queries\n",
    "                        \"operator\": \"and\",              # tighten precision; try \"or\" if recall too low\n",
    "                        \"fields\": [\n",
    "                            \"exercise_name^4\",\n",
    "                            \"muscle_groups_activated^2\",\n",
    "                            \"type_of_equipment^1.5\",\n",
    "                            \"type_of_activity^1.3\",\n",
    "                            \"body_part^1.2\",\n",
    "                            \"type^1.2\",\n",
    "                            \"instruction^1\"\n",
    "                        ]\n",
    "                    }\n",
    "                }\n",
    "                # \"filter\": {\n",
    "                #     \"term\": {\n",
    "                #         \"course\": course\n",
    "                #     }\n",
    "                # }\n",
    "            }\n",
    "        },\n",
    "        \"knn\": {\n",
    "            \"field\": \"ei_vector\",\n",
    "            \"query_vector\": vector,\n",
    "            \"k\": 5,\n",
    "            \"num_candidates\": 10000,\n",
    "            \"boost\": 0.5,\n",
    "            # \"filter\": {\n",
    "            #     \"term\": {\n",
    "            #         \"course\": course\n",
    "            #     }\n",
    "            # }\n",
    "        },\n",
    "        \"size\": 5\n",
    "        # \"rank\": {\"rrf\": {}},\n",
    "    }\n",
    "\n",
    "\n",
    "hybrid_retriever = ElasticsearchRetriever.from_es_params(\n",
    "    index_name=index_name,\n",
    "    body_func=hybrid_query,\n",
    "    content_field='instruction',\n",
    "    url=es_url,\n",
    ")"
   ]
  },
  {
   "cell_type": "code",
   "execution_count": 16,
   "id": "a6511f8a-c8f6-4a23-a63b-5d738b7434d9",
   "metadata": {},
   "outputs": [],
   "source": [
    "query = 'give me leg exercises for hamstrings'"
   ]
  },
  {
   "cell_type": "code",
   "execution_count": 17,
   "id": "2da32670-f8bf-430c-9beb-5f77d9acd64e",
   "metadata": {},
   "outputs": [],
   "source": [
    "query = 'What equipment do I need to perform the Push-Up Hold exercise?'"
   ]
  },
  {
   "cell_type": "code",
   "execution_count": 18,
   "id": "93a12e7c-7853-4cd1-a4d1-cae70d2f4c63",
   "metadata": {},
   "outputs": [],
   "source": [
    "hybrid_results = hybrid_retriever.invoke(query)"
   ]
  },
  {
   "cell_type": "code",
   "execution_count": 20,
   "id": "26650251-76f7-42f1-b21c-73dd1b30489a",
   "metadata": {},
   "outputs": [
    {
     "name": "stdout",
     "output_type": "stream",
     "text": [
      "Push-Up Hold glutes, quads, hamstrings Setup: Prepare equipment: dip belt. Ensure stable setup and safe load. Brace core, keep neutral spine, drive through whole foot. Primary focus: glutes, quads, hamstrings. Movement: Gently enter the stretch until a mild pull is felt; hold without bouncing and keep breathing. Tempo: 2‑2‑2‑0. Dose: 1–2 sets × 30–60 sec each side. Rest 45–90s between sets. Breathing: Slow nasal breaths; exhale to deepen slightly, no pain. Coaching cues: keep neck long, ribs down, and knees tracking over toes. Common mistakes: avoid bouncing; stay within mild discomfort. Do not bounce or hyperextend joints. Safety: Never force end range; joints should feel stable. 0.43066046\n",
      "Push-Up calves, quads, glutes Setup: Prepare equipment: jump rope. Ensure stable setup and safe load. Brace core, keep neutral spine, drive through whole foot. Primary focus: calves, quads, glutes. Movement: Lower chest between hands with elbows ~45°, keep body in one line; press back up without flaring. Tempo: 3‑1‑1‑0. Dose: 3–4 sets × 6–10 reps. Rest 45–90s between sets. Breathing: Inhale to prepare; exhale on the effort; inhale on the return. Coaching cues: keep neck long, ribs down, and elbows close. Common mistakes: avoid shrugging or using momentum. Avoid collapsing posture or losing core brace. Safety: Stop if you feel sharp pain, dizziness, or pins‑and‑needles. 0.43008864\n",
      "Push-Up Variation legs, core, chest Setup: Prepare equipment: pull-up bar. Ensure stable setup and safe load. Maintain tall posture, neutral spine, and steady breathing. Primary focus: legs, core, chest. Movement: Lower chest between hands with elbows ~45°, keep body in one line; press back up without flaring. Tempo: 3‑1‑1‑0. Dose: 3–4 sets × 6–10 reps. Rest 45–90s between sets. Breathing: Inhale to prepare; exhale on the effort; inhale on the return. Coaching cues: keep neck long, ribs down, and elbows close. Common mistakes: avoid shrugging or using momentum. Avoid collapsing posture or losing core brace. Safety: Stop if you feel sharp pain, dizziness, or pins‑and‑needles. 0.42983603\n",
      "Seated Push-Up chest, core, back Setup: Prepare equipment: dip belt. Ensure stable setup and safe load. Maintain tall posture, neutral spine, and steady breathing. Primary focus: chest, core, back. Movement: Gently enter the stretch until a mild pull is felt; hold without bouncing and keep breathing. Tempo: 2‑2‑2‑0. Dose: 1–2 sets × 30–60 sec each side. Rest 45–90s between sets. Breathing: Slow nasal breaths; exhale to deepen slightly, no pain. Coaching cues: keep neck long, ribs down, and shoulders down. Common mistakes: avoid bouncing; stay within mild discomfort. Do not bounce or hyperextend joints. Safety: Keep posture tall; reduce pace if form degrades. 0.42345017\n",
      "Overhead Press Hold back, legs, chest Setup: Prepare equipment: treadmill. Ensure stable setup and safe load. Maintain tall posture, neutral spine, and steady breathing. Primary focus: back, legs, chest. Movement: Squeeze glutes and ribs down, press overhead without arching; lock out with biceps by ears. Tempo: 3‑1‑1‑0. Dose: 3–5 sets × 20–40 sec hold. Rest 45–90s between sets. Breathing: Breathe light and steady; do not brace with a breath hold. Coaching cues: keep neck long, ribs down, and shoulders down. Common mistakes: avoid holding breath; keep steady tension. Avoid collapsing posture or losing core brace. Safety: Stop if you feel sharp pain, dizziness, or pins‑and‑needles. 0.42324093\n"
     ]
    }
   ],
   "source": [
    "for result in hybrid_results:\n",
    "   print(result.metadata['_source']['exercise_name'], result.metadata['_source']['muscle_groups_activated'],result.page_content, result.metadata['_score'])"
   ]
  },
  {
   "cell_type": "code",
   "execution_count": 21,
   "id": "afca1a84-7d44-4af7-be66-06a403c255d1",
   "metadata": {},
   "outputs": [
    {
     "name": "stdout",
     "output_type": "stream",
     "text": [
      "What equipment do I need to perform the Push-Up Hold exercise?\n"
     ]
    }
   ],
   "source": [
    "print(query)"
   ]
  },
  {
   "cell_type": "markdown",
   "id": "7e3bb792-a22f-45cb-8bc3-f45863d87fb7",
   "metadata": {},
   "source": [
    "## Implementing RAG Flow"
   ]
  },
  {
   "cell_type": "code",
   "execution_count": 22,
   "id": "8d7cff77-234f-4805-8838-a393b1fb0d20",
   "metadata": {},
   "outputs": [],
   "source": [
    "from google import genai"
   ]
  },
  {
   "cell_type": "code",
   "execution_count": 23,
   "id": "ef9f8451-5d0f-446e-b2de-9d052d8d84c2",
   "metadata": {},
   "outputs": [],
   "source": [
    "client = genai.Client()"
   ]
  },
  {
   "cell_type": "code",
   "execution_count": 24,
   "id": "6b3a7635-ae60-4e84-be7a-4dc3834c388f",
   "metadata": {},
   "outputs": [],
   "source": [
    "from typing import List, Dict, Optional\n",
    "\n",
    "def hybrid_search(\n",
    "    query: str,\n",
    "    es=es_client,                          # Elasticsearch client instance\n",
    "    index_name=index_name,\n",
    "    embeddings=embeddings,                  # embedding model with .embed_query()\n",
    "    size: int = 5,               # final results returned\n",
    "    knn_k: int = 50,             # neighbors to consider in the vector branch\n",
    "    num_candidates: int = 3000,  # ANN candidate pool size\n",
    "    knn_boost: float = 0.7,      # how much the vector score contributes\n",
    "    filters: Optional[Dict] = None,\n",
    "    use_rrf: bool = False,\n",
    ") -> List[Dict]:\n",
    "    \"\"\"\n",
    "    Execute a hybrid (keyword + vector) query in Elasticsearch and return a list of sources\n",
    "    shaped for the RAG context builder.\n",
    "    \"\"\"\n",
    "    vector = embeddings.embed_query(query)\n",
    "\n",
    "    # Build keyword filter(s), applied to both text and knn branches.\n",
    "    # Example: filters = {\"term\": {\"course\": \"strength\"}} or a full bool of filters.\n",
    "    es_bool_filter = []\n",
    "    if filters:\n",
    "        # Accept either {\"term\": {...}} or {\"bool\": {\"filter\": [...]}}\n",
    "        if \"bool\" in filters and \"filter\" in filters[\"bool\"]:\n",
    "            es_bool_filter.extend(filters[\"bool\"][\"filter\"])\n",
    "        else:\n",
    "            es_bool_filter.append(filters)\n",
    "\n",
    "    body: Dict = {\n",
    "        \"query\": {\n",
    "            \"bool\": {\n",
    "                \"must\": [\n",
    "                    {\n",
    "                        \"multi_match\": {\n",
    "                            \"query\": query,\n",
    "                            \"type\": \"cross_fields\",\n",
    "                            \"operator\": \"and\",\n",
    "                            \"fields\": [\n",
    "                                \"exercise_name^4\",\n",
    "                                \"muscle_groups_activated^2\",\n",
    "                                \"type_of_equipment^1.5\",\n",
    "                                \"type_of_activity^1.3\",\n",
    "                                \"body_part^1.2\",\n",
    "                                \"type^1.2\",\n",
    "                                \"instruction^1\"\n",
    "                            ]\n",
    "                        }\n",
    "                    }\n",
    "                ],\n",
    "                **({\"filter\": es_bool_filter} if es_bool_filter else {})\n",
    "            }\n",
    "        },\n",
    "        \"knn\": {\n",
    "            \"field\": \"ei_vector\",\n",
    "            \"query_vector\": vector,\n",
    "            \"k\": knn_k,\n",
    "            \"num_candidates\": num_candidates,\n",
    "            \"boost\": knn_boost,\n",
    "            **({\"filter\": es_bool_filter} if es_bool_filter else {})\n",
    "        },\n",
    "        \"size\": size\n",
    "    }\n",
    "\n",
    "    if use_rrf:\n",
    "        # RRF helps fuse ranks from text and vector more robustly than raw score mixing\n",
    "        body[\"rank\"] = {\"rrf\": {\"rank_window_size\": max(knn_k, size), \"rank_constant\": 60}}\n",
    "\n",
    "    res = es.search(index=index_name, body=body)\n",
    "    hits = res.get(\"hits\", {}).get(\"hits\", [])\n",
    "\n",
    "    # Normalize results to the fields your entry_template expects.\n",
    "    out: List[Dict] = []\n",
    "    for h in hits:\n",
    "        src = h.get(\"_source\", {})\n",
    "        out.append({\n",
    "            \"id\":                     src.get(\"id\", \"\"),\n",
    "            \"exercise_name\":          src.get(\"exercise_name\", \"\"),\n",
    "            \"type_of_activity\":       src.get(\"type_of_activity\", \"\"),\n",
    "            \"type_of_equipment\":      src.get(\"type_of_equipment\", \"\"),\n",
    "            \"body_part\":              src.get(\"body_part\", \"\"),\n",
    "            \"type\":                   src.get(\"type\", \"\"),\n",
    "            \"muscle_groups_activated\":src.get(\"muscle_groups_activated\", \"\"),\n",
    "            \"instruction\":            src.get(\"instruction\", \"\")\n",
    "        })\n",
    "    return out\n"
   ]
  },
  {
   "cell_type": "code",
   "execution_count": 25,
   "id": "12bd96e8-13cd-4063-94ca-1f6103221c6d",
   "metadata": {},
   "outputs": [],
   "source": [
    "#We want the LLM to put the document content in the context of the answer\n",
    "prompt_template = \"\"\"\n",
    "    You're a professional fitness assistant. Answer the QUESTION based only on the CONTEXT provided from the exercise & fitness database.  \n",
    "    \n",
    "    - Use only the facts from the CONTEXT when answering the QUESTION.  \n",
    "    - If the CONTEXT does not contain the answer, respond with: NONE.  \n",
    "    - Keep your answer clear, concise, and detail with instruction for fitness use.  \n",
    "    \n",
    "    QUESTION: {question}  \n",
    "    \n",
    "    CONTEXT:  \n",
    "    {context}  \n",
    "\"\"\".strip()\n",
    "\n",
    "entry_template = \"\"\"\n",
    "exercise_name: {exercise_name}',\n",
    "type_of_activity: {type_of_activity},\n",
    "type_of_equipment: {type_of_equipment},\n",
    "body_part: {body_part},\n",
    "type: {type},\n",
    "muscle_groups_activated: {muscle_groups_activated},\n",
    "instruction: {instruction}\n",
    "\"\"\".strip()\n",
    "\n",
    "def build_prompt(query, search_results):    \n",
    "    context = \"\"\n",
    "    \n",
    "    for doc in search_results:\n",
    "        context = context + entry_template.format(**doc) + \"\\n\\n\"\n",
    "    \n",
    "    prompt = prompt_template.format(question=query, context=context).strip()\n",
    "    return prompt"
   ]
  },
  {
   "cell_type": "code",
   "execution_count": 26,
   "id": "eb250809-5731-4d8c-8d70-15bab1d78e8f",
   "metadata": {},
   "outputs": [
    {
     "data": {
      "text/plain": [
       "[{'id': 0,\n",
       "  'exercise_name': 'Push-Up Hold',\n",
       "  'type_of_activity': 'mobility',\n",
       "  'type_of_equipment': 'dip belt',\n",
       "  'body_part': 'lower',\n",
       "  'type': 'stretch',\n",
       "  'muscle_groups_activated': 'glutes, quads, hamstrings',\n",
       "  'instruction': 'Setup: Prepare equipment: dip belt. Ensure stable setup and safe load. Brace core, keep neutral spine, drive through whole foot. Primary focus: glutes, quads, hamstrings. Movement: Gently enter the stretch until a mild pull is felt; hold without bouncing and keep breathing. Tempo: 2‑2‑2‑0. Dose: 1–2 sets × 30–60 sec each side. Rest 45–90s between sets. Breathing: Slow nasal breaths; exhale to deepen slightly, no pain. Coaching cues: keep neck long, ribs down, and knees tracking over toes. Common mistakes: avoid bouncing; stay within mild discomfort. Do not bounce or hyperextend joints. Safety: Never force end range; joints should feel stable.'},\n",
       " {'id': 15,\n",
       "  'exercise_name': 'Push-Up',\n",
       "  'type_of_activity': 'strength',\n",
       "  'type_of_equipment': 'jump rope',\n",
       "  'body_part': 'lower',\n",
       "  'type': 'pull',\n",
       "  'muscle_groups_activated': 'calves, quads, glutes',\n",
       "  'instruction': 'Setup: Prepare equipment: jump rope. Ensure stable setup and safe load. Brace core, keep neutral spine, drive through whole foot. Primary focus: calves, quads, glutes. Movement: Lower chest between hands with elbows ~45°, keep body in one line; press back up without flaring. Tempo: 3‑1‑1‑0. Dose: 3–4 sets × 6–10 reps. Rest 45–90s between sets. Breathing: Inhale to prepare; exhale on the effort; inhale on the return. Coaching cues: keep neck long, ribs down, and elbows close. Common mistakes: avoid shrugging or using momentum. Avoid collapsing posture or losing core brace. Safety: Stop if you feel sharp pain, dizziness, or pins‑and‑needles.'},\n",
       " {'id': 175,\n",
       "  'exercise_name': 'Push-Up Variation',\n",
       "  'type_of_activity': 'strength',\n",
       "  'type_of_equipment': 'pull-up bar',\n",
       "  'body_part': 'full body',\n",
       "  'type': 'pull',\n",
       "  'muscle_groups_activated': 'legs, core, chest',\n",
       "  'instruction': 'Setup: Prepare equipment: pull-up bar. Ensure stable setup and safe load. Maintain tall posture, neutral spine, and steady breathing. Primary focus: legs, core, chest. Movement: Lower chest between hands with elbows ~45°, keep body in one line; press back up without flaring. Tempo: 3‑1‑1‑0. Dose: 3–4 sets × 6–10 reps. Rest 45–90s between sets. Breathing: Inhale to prepare; exhale on the effort; inhale on the return. Coaching cues: keep neck long, ribs down, and elbows close. Common mistakes: avoid shrugging or using momentum. Avoid collapsing posture or losing core brace. Safety: Stop if you feel sharp pain, dizziness, or pins‑and‑needles.'},\n",
       " {'id': 458,\n",
       "  'exercise_name': 'Seated Push-Up',\n",
       "  'type_of_activity': 'cardio',\n",
       "  'type_of_equipment': 'dip belt',\n",
       "  'body_part': 'full body',\n",
       "  'type': 'stretch',\n",
       "  'muscle_groups_activated': 'chest, core, back',\n",
       "  'instruction': 'Setup: Prepare equipment: dip belt. Ensure stable setup and safe load. Maintain tall posture, neutral spine, and steady breathing. Primary focus: chest, core, back. Movement: Gently enter the stretch until a mild pull is felt; hold without bouncing and keep breathing. Tempo: 2‑2‑2‑0. Dose: 1–2 sets × 30–60 sec each side. Rest 45–90s between sets. Breathing: Slow nasal breaths; exhale to deepen slightly, no pain. Coaching cues: keep neck long, ribs down, and shoulders down. Common mistakes: avoid bouncing; stay within mild discomfort. Do not bounce or hyperextend joints. Safety: Keep posture tall; reduce pace if form degrades.'},\n",
       " {'id': 164,\n",
       "  'exercise_name': 'Overhead Press Hold',\n",
       "  'type_of_activity': 'strength',\n",
       "  'type_of_equipment': 'treadmill',\n",
       "  'body_part': 'full body',\n",
       "  'type': 'hold',\n",
       "  'muscle_groups_activated': 'back, legs, chest',\n",
       "  'instruction': 'Setup: Prepare equipment: treadmill. Ensure stable setup and safe load. Maintain tall posture, neutral spine, and steady breathing. Primary focus: back, legs, chest. Movement: Squeeze glutes and ribs down, press overhead without arching; lock out with biceps by ears. Tempo: 3‑1‑1‑0. Dose: 3–5 sets × 20–40 sec hold. Rest 45–90s between sets. Breathing: Breathe light and steady; do not brace with a breath hold. Coaching cues: keep neck long, ribs down, and shoulders down. Common mistakes: avoid holding breath; keep steady tension. Avoid collapsing posture or losing core brace. Safety: Stop if you feel sharp pain, dizziness, or pins‑and‑needles.'}]"
      ]
     },
     "execution_count": 26,
     "metadata": {},
     "output_type": "execute_result"
    }
   ],
   "source": [
    "hybrid_search(query)"
   ]
  },
  {
   "cell_type": "code",
   "execution_count": 27,
   "id": "bc69caa8-966a-4d38-b519-e779ad8055fa",
   "metadata": {},
   "outputs": [],
   "source": [
    "def llm(prompt):\n",
    "    response = client.models.generate_content(\n",
    "    model=\"gemini-2.5-flash\",\n",
    "    contents=prompt\n",
    "    )\n",
    "\n",
    "    return response.text"
   ]
  },
  {
   "cell_type": "code",
   "execution_count": 28,
   "id": "24513518-6e49-49d1-80b5-088158b21395",
   "metadata": {},
   "outputs": [],
   "source": [
    "def rag(query):\n",
    "    search_results = hybrid_search(query)\n",
    "    prompt = build_prompt(query, search_results)\n",
    "    answer = llm(prompt)\n",
    "    return answer"
   ]
  },
  {
   "cell_type": "code",
   "execution_count": 29,
   "id": "03a1cd39-82b5-40bb-b1df-6f0802207614",
   "metadata": {},
   "outputs": [
    {
     "name": "stdout",
     "output_type": "stream",
     "text": [
      "Here are some core exercises that also help your back:\n",
      "\n",
      "**1. Face Pull Series**\n",
      "*   **Type of activity:** Warm-up\n",
      "*   **Equipment:** Treadmill\n",
      "*   **Muscles Activated:** Lower back, obliques, abs\n",
      "*   **Instructions:**\n",
      "    *   **Setup:** Prepare equipment (treadmill). Ensure stable setup and safe load. Exhale gently to brace; avoid flaring ribs or arching the low back.\n",
      "    *   **Movement:** Pull elbows back toward hips, squeeze shoulder blades, then return slowly without shrugging.\n",
      "    *   **Tempo:** 2‑2‑2‑0.\n",
      "    *   **Dose:** 1–2 sets × 30–60 seconds each side. Rest 45–90 seconds between sets.\n",
      "    *   **Coaching Cues:** Keep neck long, ribs down, and shoulders down.\n",
      "    *   **Safety:** Stop if you feel sharp pain, dizziness, or pins‑and‑needles.\n",
      "\n",
      "**2. Feet-Elevated Face Pull**\n",
      "*   **Type of activity:** Mobility\n",
      "*   **Equipment:** Treadmill\n",
      "*   **Muscles Activated:** Back, core, legs\n",
      "*   **Instructions:**\n",
      "    *   **Setup:** Prepare equipment (treadmill). Ensure stable setup and safe load. Maintain tall posture, neutral spine, and steady breathing.\n",
      "    *   **Movement:** Pull elbows back toward hips, squeeze shoulder blades, then return slowly without shrugging.\n",
      "    *   **Tempo:** 2‑2‑2‑0.\n",
      "    *   **Dose:** 1–2 sets × 30–60 seconds each side. Rest 45–90 seconds between sets.\n",
      "    *   **Coaching Cues:** Keep neck long, ribs down, and shoulders down.\n",
      "    *   **Safety:** Never force end range; joints should feel stable.\n",
      "\n",
      "**3. Row Combo**\n",
      "*   **Type of activity:** Cardio\n",
      "*   **Equipment:** Dumbbells\n",
      "*   **Muscles Activated:** Back, core, chest\n",
      "*   **Instructions:**\n",
      "    *   **Setup:** Hold dumbbells with a neutral, secure grip; wrists straight. Maintain tall posture, neutral spine, and steady breathing.\n",
      "    *   **Movement:** Pull elbows back toward hips, squeeze shoulder blades, then return slowly without shrugging.\n",
      "    *   **Tempo:** Steady pace.\n",
      "    *   **Dose:** 5–15 minutes (RPE 6–7/10). Rest 45–90 seconds between sets.\n",
      "    *   **Coaching Cues:** Keep neck long, ribs down, and shoulders down.\n",
      "    *   **Safety:** Keep posture tall; reduce pace if form degrades.\n"
     ]
    }
   ],
   "source": [
    "query = 'I want some core exercises that also help my back'\n",
    "\n",
    "answer = rag(query)\n",
    "print(answer)"
   ]
  },
  {
   "cell_type": "markdown",
   "id": "db05fd5c-6dd3-48fb-a114-7e3b1ceb91a2",
   "metadata": {},
   "source": [
    "## Retrieval Evalutation"
   ]
  },
  {
   "cell_type": "code",
   "execution_count": 30,
   "id": "f987e4c1-9447-415c-ab10-4d8a03b1795f",
   "metadata": {},
   "outputs": [],
   "source": [
    "df_question = pd.read_csv('../data/ground-truth-retrieval.csv')"
   ]
  },
  {
   "cell_type": "code",
   "execution_count": 31,
   "id": "0b3199f2-af36-4055-97dc-efe3876574b8",
   "metadata": {},
   "outputs": [
    {
     "data": {
      "text/html": [
       "<div>\n",
       "<style scoped>\n",
       "    .dataframe tbody tr th:only-of-type {\n",
       "        vertical-align: middle;\n",
       "    }\n",
       "\n",
       "    .dataframe tbody tr th {\n",
       "        vertical-align: top;\n",
       "    }\n",
       "\n",
       "    .dataframe thead th {\n",
       "        text-align: right;\n",
       "    }\n",
       "</style>\n",
       "<table border=\"1\" class=\"dataframe\">\n",
       "  <thead>\n",
       "    <tr style=\"text-align: right;\">\n",
       "      <th></th>\n",
       "      <th>id</th>\n",
       "      <th>question</th>\n",
       "    </tr>\n",
       "  </thead>\n",
       "  <tbody>\n",
       "    <tr>\n",
       "      <th>0</th>\n",
       "      <td>0</td>\n",
       "      <td>What equipment do I need to perform the Push-U...</td>\n",
       "    </tr>\n",
       "    <tr>\n",
       "      <th>1</th>\n",
       "      <td>0</td>\n",
       "      <td>How long should I hold each side during the Pu...</td>\n",
       "    </tr>\n",
       "    <tr>\n",
       "      <th>2</th>\n",
       "      <td>0</td>\n",
       "      <td>What should I focus on to ensure proper form w...</td>\n",
       "    </tr>\n",
       "    <tr>\n",
       "      <th>3</th>\n",
       "      <td>0</td>\n",
       "      <td>What common mistakes should I avoid when doing...</td>\n",
       "    </tr>\n",
       "    <tr>\n",
       "      <th>4</th>\n",
       "      <td>0</td>\n",
       "      <td>How should I breathe during the Push-Up Hold t...</td>\n",
       "    </tr>\n",
       "  </tbody>\n",
       "</table>\n",
       "</div>"
      ],
      "text/plain": [
       "   id                                           question\n",
       "0   0  What equipment do I need to perform the Push-U...\n",
       "1   0  How long should I hold each side during the Pu...\n",
       "2   0  What should I focus on to ensure proper form w...\n",
       "3   0  What common mistakes should I avoid when doing...\n",
       "4   0  How should I breathe during the Push-Up Hold t..."
      ]
     },
     "execution_count": 31,
     "metadata": {},
     "output_type": "execute_result"
    }
   ],
   "source": [
    "df_question.head()"
   ]
  },
  {
   "cell_type": "code",
   "execution_count": 32,
   "id": "62ef8e55-6868-420b-b66f-d68d93678fa0",
   "metadata": {},
   "outputs": [],
   "source": [
    "ground_truth = df_question.to_dict(orient='records')"
   ]
  },
  {
   "cell_type": "code",
   "execution_count": 33,
   "id": "6fa83929-f5f6-465c-859b-d0c06e349711",
   "metadata": {},
   "outputs": [
    {
     "data": {
      "text/plain": [
       "{'id': 0,\n",
       " 'question': 'What equipment do I need to perform the Push-Up Hold exercise?'}"
      ]
     },
     "execution_count": 33,
     "metadata": {},
     "output_type": "execute_result"
    }
   ],
   "source": [
    "ground_truth[0]"
   ]
  },
  {
   "cell_type": "code",
   "execution_count": 34,
   "id": "db8cf554-5f20-4d9a-a696-4959a336318a",
   "metadata": {},
   "outputs": [],
   "source": [
    "def hit_rate(relevance_total):\n",
    "    cnt = 0\n",
    "\n",
    "    for line in relevance_total:\n",
    "        if True in line:\n",
    "            cnt = cnt + 1\n",
    "\n",
    "    return cnt / len(relevance_total)\n",
    "\n",
    "def mrr(relevance_total):\n",
    "    total_score = 0.0\n",
    "\n",
    "    for line in relevance_total:\n",
    "        for rank in range(len(line)):\n",
    "            if line[rank] == True:\n",
    "                total_score = total_score + 1 / (rank + 1)\n",
    "\n",
    "    return total_score / len(relevance_total)"
   ]
  },
  {
   "cell_type": "code",
   "execution_count": 35,
   "id": "67f35ba4-a868-4d6e-a4ef-ebcd32a32f6e",
   "metadata": {},
   "outputs": [
    {
     "data": {
      "text/plain": [
       "{'id': 0,\n",
       " 'exercise_name': 'Push-Up Hold',\n",
       " 'type_of_activity': 'mobility',\n",
       " 'type_of_equipment': 'dip belt',\n",
       " 'body_part': 'lower',\n",
       " 'type': 'stretch',\n",
       " 'muscle_groups_activated': 'glutes, quads, hamstrings',\n",
       " 'instruction': 'Setup: Prepare equipment: dip belt. Ensure stable setup and safe load. Brace core, keep neutral spine, drive through whole foot. Primary focus: glutes, quads, hamstrings. Movement: Gently enter the stretch until a mild pull is felt; hold without bouncing and keep breathing. Tempo: 2‑2‑2‑0. Dose: 1–2 sets × 30–60 sec each side. Rest 45–90s between sets. Breathing: Slow nasal breaths; exhale to deepen slightly, no pain. Coaching cues: keep neck long, ribs down, and knees tracking over toes. Common mistakes: avoid bouncing; stay within mild discomfort. Do not bounce or hyperextend joints. Safety: Never force end range; joints should feel stable.',\n",
       " 'exercise_name_vector': array([-8.45749974e-02, -1.95661839e-02, -1.47137083e-02,  4.42054011e-02,\n",
       "        -7.81097487e-02,  4.20601713e-03,  6.12665853e-03,  1.46003617e-02,\n",
       "         4.20735702e-02,  1.44813517e-02,  6.29140884e-02,  4.86747213e-02,\n",
       "         1.44935807e-03, -6.36559119e-03, -1.28883524e-02,  3.00553590e-02,\n",
       "         1.77730678e-03,  6.20283463e-05, -3.93628180e-02,  4.69109863e-02,\n",
       "        -1.12905800e-02, -4.81289476e-02,  2.96731386e-02,  6.46683350e-02,\n",
       "        -7.74354488e-02,  1.23708704e-02, -4.11709324e-02, -1.42387329e-02,\n",
       "         2.22712904e-02,  2.34323684e-02,  2.17366647e-02, -1.08172327e-01,\n",
       "        -4.25391123e-02, -6.27815127e-02, -3.63219045e-02,  8.93381983e-02,\n",
       "         5.24617359e-02, -1.37631651e-02, -1.13737304e-02,  3.74103934e-02,\n",
       "        -3.88805871e-03, -1.18246742e-01,  6.57066032e-02, -7.11178780e-02,\n",
       "         4.05685492e-02,  4.77235243e-02, -9.49140918e-03,  9.04168934e-02,\n",
       "         4.28811684e-02, -1.24135171e-03, -5.87016679e-02, -6.44288436e-02,\n",
       "         6.88054711e-02, -2.40756180e-02,  3.94900702e-02,  7.75092244e-02,\n",
       "         2.33519543e-02, -1.32915117e-02,  4.34301272e-02,  5.14390208e-02,\n",
       "         1.82692092e-02,  6.19720332e-02,  4.87800268e-03,  4.20552306e-02,\n",
       "        -2.13155076e-02,  5.19988947e-02,  5.66940615e-03,  5.86324073e-02,\n",
       "         2.37604324e-02,  8.48908946e-02,  3.56501639e-02, -2.08691247e-02,\n",
       "        -5.67412972e-02, -6.62268028e-02,  1.61056016e-02, -4.03167643e-02,\n",
       "        -9.68500823e-02, -5.21182790e-02,  5.50996810e-02,  8.10729526e-03,\n",
       "        -1.40931248e-03, -9.26507190e-02, -6.23909496e-02, -5.72001487e-02,\n",
       "        -8.06270465e-02,  6.16676435e-02,  8.84517655e-02,  1.02397371e-02,\n",
       "        -3.32122743e-02, -2.81042047e-02, -5.02646994e-03,  1.88298337e-02,\n",
       "         3.19351219e-02,  4.57903594e-02, -3.49908322e-02, -6.01401702e-02,\n",
       "        -1.06855944e-01,  2.19732542e-02, -1.36530668e-01,  3.76305841e-02,\n",
       "        -1.57126430e-02,  4.51767184e-02, -1.25646973e-02, -4.41503301e-02,\n",
       "        -6.72703758e-02, -1.01431303e-01, -2.02063844e-02, -5.18890098e-02,\n",
       "        -5.09131141e-02,  4.60405787e-03,  3.35643291e-02,  7.56586017e-03,\n",
       "         5.54183824e-03,  1.45039231e-01, -3.70605178e-02, -1.34228878e-02,\n",
       "        -8.60445052e-02, -4.27482836e-02,  1.64943915e-02, -4.34591770e-02,\n",
       "         7.87665397e-02,  1.80716347e-02, -3.87503915e-02, -1.05637006e-01,\n",
       "        -3.76269110e-02, -6.43109754e-02, -9.43044026e-04,  8.71538031e-31,\n",
       "        -2.06918409e-03, -1.61598008e-02, -6.28540888e-02,  7.22402334e-02,\n",
       "        -3.91001515e-02, -4.96715941e-02, -8.17793459e-02, -2.65642826e-04,\n",
       "        -8.98328647e-02,  3.44214067e-02,  3.53053808e-02,  3.40552926e-02,\n",
       "        -1.49987312e-02, -4.73067090e-02, -3.17495987e-02, -1.29547417e-01,\n",
       "         7.52596185e-02,  5.59993014e-02, -4.83240262e-02, -1.25997991e-03,\n",
       "         4.69778739e-02,  7.15153001e-04, -1.58349499e-02,  5.81745245e-03,\n",
       "         6.55599907e-02, -3.36604975e-02, -9.17534456e-02,  3.07562035e-02,\n",
       "         4.26392965e-02,  5.33665717e-03, -3.16430070e-02,  4.46237205e-03,\n",
       "        -6.35402575e-02, -5.84913939e-02, -5.40932864e-02, -1.25452662e-02,\n",
       "         5.06405011e-02, -6.68704286e-02, -1.38294166e-02, -9.22027305e-02,\n",
       "        -5.19182570e-02,  4.10214206e-03, -6.39786348e-02,  9.23379138e-02,\n",
       "         1.53946679e-03,  3.25117409e-02,  1.08550573e-02, -3.80370505e-02,\n",
       "        -5.99182211e-02, -1.33971758e-02,  9.35637206e-03, -1.02546951e-02,\n",
       "        -3.52129079e-02,  1.30365901e-02, -4.37753797e-02, -6.62707910e-02,\n",
       "         7.60612488e-02,  4.97957170e-02, -7.06686080e-02,  5.68125807e-02,\n",
       "         2.87513956e-02,  7.90630747e-03,  8.72655679e-03, -2.64467299e-02,\n",
       "        -1.10110380e-01,  5.81266135e-02, -5.56853786e-02,  7.02440785e-03,\n",
       "        -9.04029887e-03,  7.46333152e-02, -2.60605272e-02,  5.08738868e-02,\n",
       "        -9.10474434e-02,  4.74033654e-02, -5.90807050e-02, -2.84466501e-02,\n",
       "        -2.39345599e-02, -7.76140690e-02, -5.69469184e-02,  1.27270669e-02,\n",
       "         7.24324286e-02, -1.99241489e-02,  4.95310649e-02, -5.18179052e-02,\n",
       "         6.39979690e-02, -4.42700461e-02, -1.20998032e-01,  4.61495034e-02,\n",
       "         1.75649468e-02,  3.26503664e-02, -8.19429457e-02,  5.23801968e-02,\n",
       "         8.72026905e-02,  2.29981504e-02,  8.51808637e-02, -2.03020970e-33,\n",
       "        -7.65891969e-02, -5.97056039e-02,  3.58356684e-02,  5.45940995e-02,\n",
       "         7.40972385e-02,  5.79210743e-02, -4.13235873e-02, -1.84464790e-02,\n",
       "        -4.95641716e-02, -8.25130567e-02, -6.97024167e-02,  9.70725622e-03,\n",
       "         5.90426140e-02,  6.00898527e-02, -1.77269951e-02, -3.38609330e-02,\n",
       "         1.43877612e-02, -3.65830888e-03,  1.68487094e-02,  1.13570942e-02,\n",
       "         1.81561131e-02, -1.42426014e-01,  1.36513449e-02,  9.16628465e-02,\n",
       "        -2.82046571e-02,  3.61306593e-02, -6.49286360e-02, -5.97654134e-02,\n",
       "         6.50990829e-02, -1.01341652e-02, -1.87780485e-02, -6.67576343e-02,\n",
       "        -1.82012152e-02,  1.84607022e-02, -2.14373916e-02,  3.61361764e-02,\n",
       "        -6.02696687e-02,  4.20356765e-02,  3.71508598e-02,  3.75223719e-02,\n",
       "         4.60284911e-02,  4.69112769e-03, -4.55163009e-02,  3.23630963e-03,\n",
       "         1.99708585e-02, -7.43987411e-03,  2.94076428e-02,  3.27808969e-02,\n",
       "        -7.57092610e-02, -6.08087925e-04, -7.08666369e-02, -1.34860352e-02,\n",
       "         7.60364383e-02,  1.61323473e-02,  7.54762515e-02,  2.79488508e-02,\n",
       "         2.34241374e-02,  1.01364637e-02, -1.43609419e-02, -5.42101637e-02,\n",
       "         1.41533241e-02, -1.39378132e-02,  8.04028288e-03,  3.39382445e-03,\n",
       "         5.07976860e-02,  1.53422114e-02,  6.08164109e-02, -2.64121760e-02,\n",
       "        -7.60828927e-02,  7.74404034e-02,  5.29230274e-02,  2.42683217e-02,\n",
       "         2.83041187e-02,  5.07381335e-02,  1.35531118e-02,  2.13962272e-02,\n",
       "        -4.68181819e-02, -6.28155693e-02,  4.47908305e-02,  1.46619789e-02,\n",
       "         3.92148979e-02,  4.56309654e-02, -5.41378837e-03, -2.81192195e-02,\n",
       "        -2.49380097e-02,  8.74496549e-02,  8.72444585e-02,  3.76324169e-02,\n",
       "        -5.37857320e-03,  6.50503561e-02,  1.23134591e-02,  1.62856095e-02,\n",
       "         5.34889773e-02,  1.88319646e-02,  5.42989466e-03, -3.03430320e-33,\n",
       "        -1.81129389e-02, -7.59220589e-03,  2.11287104e-02, -1.51089644e-02,\n",
       "         5.50748967e-02, -1.30754588e-02,  7.12274850e-05, -1.20348208e-01,\n",
       "         4.37503122e-02, -1.09969795e-01,  8.04457255e-03, -6.30952511e-03,\n",
       "         5.79167344e-02,  8.49101767e-02, -7.60043561e-02,  1.59138124e-02,\n",
       "        -5.26821613e-02,  5.74715883e-02, -2.06744876e-02,  2.31338535e-02,\n",
       "         7.14970306e-02,  3.72002879e-03,  1.17305003e-01,  1.21117814e-03,\n",
       "        -4.67937775e-02, -2.05218755e-02, -2.03049881e-03,  6.95976242e-02,\n",
       "        -4.61273976e-02, -4.53301817e-02,  4.21517249e-03, -2.46957466e-02,\n",
       "         1.39057590e-02,  3.09432298e-02,  6.31135106e-02,  8.14874992e-02,\n",
       "         5.36333909e-03,  7.00286627e-02, -4.16242369e-02,  4.75364663e-02,\n",
       "         5.47252707e-02, -3.85597609e-02,  2.95565855e-02,  1.65511779e-02,\n",
       "        -7.91670978e-02,  8.97513703e-02, -3.98010314e-02,  1.96290817e-02,\n",
       "         2.58749928e-02,  3.13787945e-02, -2.20268220e-02, -1.19749475e-02,\n",
       "         4.21134308e-02,  2.43166443e-02,  3.39229368e-02,  1.79665778e-02,\n",
       "        -5.73094888e-03,  6.02064505e-02, -1.60719175e-03,  5.43246381e-02,\n",
       "        -5.35838827e-02, -1.56296305e-02, -1.32983411e-02,  1.73148915e-01],\n",
       "       dtype=float32),\n",
       " 'instruction_vector': array([ 6.14767661e-03,  3.99784222e-02,  1.56190526e-02, -2.59092562e-02,\n",
       "        -1.01337940e-01, -1.14863012e-02, -1.68369878e-02,  3.85377184e-02,\n",
       "        -3.12440321e-02, -9.33449436e-03,  3.55784432e-03,  5.57814166e-02,\n",
       "         6.04176661e-04,  2.61716768e-02,  2.42999233e-02,  8.42645857e-03,\n",
       "         6.67768493e-02,  8.07616487e-02, -9.41155106e-03,  1.48941232e-02,\n",
       "        -2.03916803e-02,  7.64672598e-03,  5.00933453e-02,  2.99092457e-02,\n",
       "        -9.70837772e-02, -9.18049249e-04, -3.79189104e-02,  3.08453981e-02,\n",
       "         2.03904547e-02, -1.14264460e-02,  1.61854774e-02, -2.87107918e-02,\n",
       "        -6.01610132e-02, -1.55331539e-02, -9.92428046e-03,  3.99500951e-02,\n",
       "         2.50537489e-02,  2.20652893e-02, -7.12726936e-02,  7.28131309e-02,\n",
       "         3.09891091e-03, -4.26730774e-02,  8.74097738e-03,  1.48125701e-02,\n",
       "         1.30237505e-01,  1.17474943e-01, -1.94887593e-02,  8.59421566e-02,\n",
       "         4.95027304e-02,  3.73139307e-02, -2.77433246e-02, -2.33090594e-02,\n",
       "         5.15238903e-02, -3.59960156e-03, -8.60435888e-03,  3.33608575e-02,\n",
       "        -9.64998305e-02,  6.89565716e-03,  2.05874015e-02, -4.71475832e-02,\n",
       "         5.53901568e-02, -6.71183830e-03, -4.39932495e-02, -6.18536258e-03,\n",
       "        -5.05885333e-02,  3.09630185e-02,  7.38007724e-02,  7.50192702e-02,\n",
       "         7.87644312e-02,  1.01954758e-01, -2.29765344e-02, -3.06605436e-02,\n",
       "        -2.39331964e-02,  1.58484448e-02, -4.91205778e-04, -4.01412882e-02,\n",
       "         3.76420133e-02, -7.60053173e-02,  3.15275490e-02,  6.21620566e-02,\n",
       "        -7.43018240e-02,  3.63729545e-03,  2.69345511e-02,  5.45846066e-03,\n",
       "        -2.17580926e-02,  5.12756370e-02,  7.09031373e-02,  7.74045214e-02,\n",
       "        -7.18798637e-02,  2.45839544e-02,  3.85233015e-02,  7.24689336e-03,\n",
       "        -1.21110611e-01, -1.53013673e-02,  2.73195803e-02,  3.75728756e-02,\n",
       "        -8.13825652e-02, -2.48329062e-02, -6.47283867e-02,  9.19445511e-03,\n",
       "         2.77965814e-02, -6.44038543e-02,  5.13848253e-02,  6.10250905e-02,\n",
       "        -6.40971810e-02, -1.01067930e-01, -2.08988856e-03,  1.35939184e-03,\n",
       "         2.09210964e-04,  9.08839405e-02, -1.85158011e-02,  2.03714631e-02,\n",
       "         3.74241383e-03,  1.21154403e-02, -5.70348576e-02,  4.28321436e-02,\n",
       "        -7.87086189e-02, -4.49501025e-03,  4.54153167e-03, -2.36608051e-02,\n",
       "        -5.14378846e-02,  7.02598970e-03, -1.11145098e-02, -4.53230888e-02,\n",
       "        -2.83848727e-03, -5.73894288e-03, -6.04775874e-03, -1.96611269e-31,\n",
       "         3.94819863e-02,  3.53952646e-02, -2.92883236e-02,  7.09847882e-02,\n",
       "        -4.18411382e-02, -5.08055128e-02, -1.66239291e-02, -5.75004965e-02,\n",
       "        -2.01840680e-02,  1.36772245e-01, -3.31085697e-02, -2.85227392e-02,\n",
       "         5.66782877e-02, -5.26201129e-02, -9.92881320e-03, -8.81249011e-02,\n",
       "         7.45927403e-03,  1.07135987e-02, -1.01089954e-01, -4.89643998e-02,\n",
       "        -6.74268464e-04, -6.71432167e-02,  2.38320492e-02, -1.62156373e-02,\n",
       "         3.81546170e-02,  3.22510973e-02, -2.71032639e-02, -9.20806639e-03,\n",
       "        -3.07306293e-02, -1.89393908e-02, -3.73594053e-02, -1.07163633e-03,\n",
       "        -5.94314821e-02, -5.37335239e-02, -1.04200169e-02,  2.12399513e-02,\n",
       "         6.30151853e-03,  1.86347682e-02,  6.64320914e-03, -9.56670102e-03,\n",
       "         1.86363503e-03,  1.48514062e-02,  2.53614020e-02, -5.32668680e-02,\n",
       "         7.06447437e-02, -1.88058317e-02,  5.06854877e-02,  3.99355292e-02,\n",
       "        -7.53003731e-02, -4.17107604e-02,  4.00913656e-02,  7.01266751e-02,\n",
       "         4.56510521e-02, -6.21293895e-02, -1.22494642e-02,  1.61035657e-02,\n",
       "         5.37480824e-02, -2.92432550e-02, -1.28165618e-01,  2.70868372e-02,\n",
       "         1.30558899e-02, -7.17049018e-02,  2.16842815e-02, -4.46327813e-02,\n",
       "        -6.19391873e-02,  1.89253204e-02, -5.20934202e-02, -2.82015502e-02,\n",
       "         3.26173753e-02, -4.41656960e-03, -8.31622556e-02, -2.13815514e-02,\n",
       "         4.01407434e-03,  4.36673611e-02, -5.50153293e-02, -1.66535955e-02,\n",
       "        -2.93834042e-02,  4.52068634e-02, -3.33583020e-02, -7.82214478e-02,\n",
       "         7.20845237e-02,  1.83946881e-02, -4.96438444e-02,  1.05537452e-01,\n",
       "         8.05018991e-02, -9.08627510e-02, -8.21734816e-02,  1.84150925e-03,\n",
       "        -3.87404151e-02, -1.04840910e-02, -1.61771044e-01,  2.42453185e-03,\n",
       "         3.41802882e-03, -8.66563246e-03,  7.14962631e-02, -6.29772127e-33,\n",
       "         4.30724509e-02,  5.00454493e-02,  5.59271909e-02,  3.94857116e-02,\n",
       "         3.73220295e-02,  3.50508317e-02,  4.00455259e-02,  1.15534384e-02,\n",
       "        -2.70326436e-02, -2.47843582e-02, -1.61673455e-03, -2.01679990e-02,\n",
       "         3.08327246e-02,  2.71562859e-03, -4.59560826e-02,  4.59556989e-02,\n",
       "        -1.06613347e-02,  2.08124537e-02,  2.24586148e-02,  1.10584982e-02,\n",
       "         4.63914312e-02,  4.71687922e-03,  6.47917092e-02, -3.13509186e-03,\n",
       "        -2.73255277e-02, -1.84048582e-02,  1.28299147e-02,  1.93136861e-03,\n",
       "        -3.48664075e-02, -2.66178418e-03, -6.72512949e-02, -1.47639448e-02,\n",
       "         5.13535291e-02, -3.62114087e-02, -3.29707712e-02,  8.38021806e-04,\n",
       "        -7.60537684e-02,  1.29753679e-01, -5.10164257e-03, -2.26267949e-02,\n",
       "         9.52013507e-02,  2.39007827e-02,  2.87598968e-02, -1.38761513e-02,\n",
       "        -1.30204596e-02, -3.31090949e-02,  1.49591509e-02, -5.08592390e-02,\n",
       "        -1.63543582e-01,  4.21074070e-02, -8.30986798e-02, -3.14924307e-02,\n",
       "        -7.72624537e-02, -4.25081663e-02,  5.14104553e-02,  1.11193694e-02,\n",
       "        -6.19544908e-02, -6.90347254e-02, -3.73769626e-02, -1.55352382e-02,\n",
       "        -1.66182443e-02,  3.79212536e-02, -3.76444794e-02,  2.53274180e-02,\n",
       "         8.07807222e-02,  6.36516511e-02, -3.85106611e-03, -1.96999088e-02,\n",
       "        -9.90495607e-02,  4.56620306e-02, -7.00279847e-02,  3.61270308e-02,\n",
       "         3.10800355e-02, -4.01708856e-02,  3.61650288e-02, -5.99582121e-02,\n",
       "        -4.54219840e-02, -7.14624450e-02,  1.73636433e-02,  4.18146588e-02,\n",
       "         7.47888815e-03, -5.08023389e-02,  1.62244476e-02,  7.58824348e-02,\n",
       "        -1.68575328e-02,  1.54163092e-01, -1.86601374e-02,  1.22146182e-01,\n",
       "        -2.13833712e-02, -4.44545597e-02, -2.62044510e-03,  1.16527192e-02,\n",
       "         6.49650097e-02,  4.80376408e-02, -9.40049067e-03, -4.34274155e-33,\n",
       "        -1.07252829e-01,  4.07051779e-02, -2.20455863e-02, -4.71292413e-04,\n",
       "        -8.98172930e-02,  6.42263368e-02, -3.85360792e-03, -6.16607349e-03,\n",
       "        -2.15528738e-02, -6.63701594e-02,  3.34604718e-02,  8.69200216e-04,\n",
       "         1.99449738e-03,  3.52163762e-02, -1.89333204e-02, -3.92886996e-02,\n",
       "        -6.50462508e-02,  1.98265895e-01, -5.66106737e-02, -7.15281442e-02,\n",
       "        -9.35835391e-03, -4.21714485e-02,  8.02722275e-02,  7.09518045e-02,\n",
       "         6.29638433e-02, -4.73185033e-02, -1.15447370e-02,  2.41749752e-02,\n",
       "         1.59937926e-02,  2.29324331e-03,  1.99035052e-02,  1.54593894e-02,\n",
       "         2.35528201e-02, -2.83311903e-02, -1.06589176e-01,  5.30425739e-03,\n",
       "        -4.92243245e-02,  6.63285106e-02,  6.32809848e-02,  5.96505888e-02,\n",
       "        -6.98278993e-02,  5.29120155e-02, -9.84339137e-03,  2.36785393e-02,\n",
       "         8.62492342e-03,  3.55437794e-03,  7.01839700e-02, -1.76527463e-02,\n",
       "        -5.68697676e-02,  5.01361713e-02,  5.17085567e-02,  1.55049749e-02,\n",
       "         7.73195699e-02,  2.28108577e-02,  2.72809677e-02,  9.73798707e-02,\n",
       "        -5.44559583e-02, -6.69534737e-03,  3.79913603e-03,  5.22329621e-02,\n",
       "        -1.60217777e-01, -7.16617703e-02, -9.38695297e-02,  1.50671666e-02],\n",
       "       dtype=float32),\n",
       " 'ei_vector': array([-2.48694494e-02, -2.68698693e-03, -1.51221324e-02,  4.65696584e-03,\n",
       "        -1.08035699e-01, -1.72564555e-02, -5.03383949e-03,  2.65777986e-02,\n",
       "        -8.07672739e-03, -7.50830909e-03,  3.12030390e-02,  7.07029402e-02,\n",
       "        -2.57932651e-03,  2.98243165e-02,  1.33514693e-02,  1.85538214e-02,\n",
       "         4.55277711e-02,  7.02090040e-02,  4.78276517e-03,  4.51944880e-02,\n",
       "        -1.10836867e-02, -3.35060293e-03,  5.82440943e-02,  4.13710177e-02,\n",
       "        -8.97393748e-02,  6.92688115e-03, -5.60320690e-02,  1.24450307e-02,\n",
       "         2.95589976e-02,  1.09892031e-02,  2.18272433e-02, -6.32407740e-02,\n",
       "        -6.14777952e-02, -4.54753526e-02, -1.20880054e-02,  7.03785717e-02,\n",
       "         4.91088443e-02,  3.15513387e-02, -6.75910488e-02,  6.76560253e-02,\n",
       "         7.47365272e-03, -9.63200256e-02,  4.94747795e-02, -1.57292355e-02,\n",
       "         1.18462965e-01,  9.93438140e-02, -2.05369033e-02,  1.01887152e-01,\n",
       "         6.00189231e-02,  2.86058709e-02, -4.14628163e-02, -5.01226522e-02,\n",
       "         7.51691237e-02, -1.23803774e-02,  1.34518109e-02,  5.18153645e-02,\n",
       "        -7.72312805e-02,  1.26177566e-02,  5.08534536e-02, -1.32867526e-02,\n",
       "         4.58746739e-02,  1.34516768e-02, -3.10337283e-02,  4.86363284e-03,\n",
       "        -4.76016998e-02,  3.00683770e-02,  6.16437681e-02,  8.73640552e-02,\n",
       "         6.73408434e-02,  9.10039395e-02, -1.39390044e-02, -3.12246811e-02,\n",
       "        -5.02342060e-02, -1.85976736e-02, -1.04228640e-03, -5.14990725e-02,\n",
       "        -2.31255833e-02, -7.12670684e-02,  3.37490290e-02,  4.17369716e-02,\n",
       "        -6.22461326e-02, -3.67988199e-02, -1.19839841e-02, -2.09990721e-02,\n",
       "        -4.59677577e-02,  7.62940720e-02,  8.79980400e-02,  6.15647025e-02,\n",
       "        -8.52316618e-02,  8.44844617e-04,  2.81858798e-02,  8.91503692e-03,\n",
       "        -7.49652982e-02,  5.36299497e-03,  4.82672732e-03, -5.64402808e-03,\n",
       "        -1.11147352e-01,  4.30721510e-03, -8.54776204e-02, -4.79114521e-03,\n",
       "         8.91313422e-03, -2.00186279e-02,  5.08852340e-02,  3.46594863e-02,\n",
       "        -8.76523480e-02, -1.34612709e-01, -2.33389363e-02, -1.70610957e-02,\n",
       "        -3.96753922e-02,  5.33409342e-02, -5.64504229e-03,  2.17580632e-03,\n",
       "         6.03479473e-03,  6.45001829e-02, -5.36892228e-02,  6.19610911e-03,\n",
       "        -9.18585509e-02, -3.00045051e-02,  2.71915998e-02, -3.91376913e-02,\n",
       "        -1.17736571e-02,  1.31004769e-02, -1.81191899e-02, -8.11907947e-02,\n",
       "        -2.61379704e-02, -2.82399990e-02,  7.46023655e-03, -1.23662582e-31,\n",
       "         3.35674174e-02,  3.24383974e-02, -6.48609772e-02,  8.60456526e-02,\n",
       "        -4.74313647e-02, -5.99800423e-02, -3.94347012e-02, -4.50211987e-02,\n",
       "        -4.04757373e-02,  1.17764771e-01, -2.27659121e-02, -7.78174214e-03,\n",
       "         4.99111488e-02, -6.30869195e-02, -1.91323068e-02, -1.21237993e-01,\n",
       "         3.05696391e-02,  5.61611801e-02, -9.07394961e-02, -2.93915197e-02,\n",
       "        -5.56010287e-04, -4.26344909e-02,  2.09565777e-02, -8.72350764e-03,\n",
       "         5.75485826e-02, -1.28277736e-02, -5.74671514e-02,  1.04131298e-02,\n",
       "        -5.67766884e-03, -1.07120583e-02, -4.82811518e-02, -8.68608430e-03,\n",
       "        -6.96001202e-02, -6.79506436e-02, -3.62844206e-02,  2.94586569e-02,\n",
       "         2.50176396e-02, -1.90108654e-03, -1.50987804e-02, -5.72733395e-02,\n",
       "        -3.31937219e-03,  1.32477330e-02, -8.31040926e-03, -3.65445903e-03,\n",
       "         4.45298627e-02, -9.09592398e-03,  3.76595296e-02,  1.86745804e-02,\n",
       "        -7.94157609e-02, -4.64060530e-02,  3.69593576e-02,  4.97323871e-02,\n",
       "         1.51289385e-02, -3.98246422e-02, -2.09389068e-02, -2.44918447e-02,\n",
       "         8.66101235e-02, -5.93804475e-03, -1.25155643e-01,  3.50669883e-02,\n",
       "         6.79037860e-03, -3.08779012e-02,  2.65708342e-02, -5.32825850e-02,\n",
       "        -9.51216742e-02,  3.26806866e-02, -6.47541359e-02, -7.08788913e-03,\n",
       "         2.94707157e-02,  2.80144829e-02, -7.26492181e-02,  1.08023826e-02,\n",
       "        -3.61726470e-02,  5.48818372e-02, -5.70860952e-02, -2.99402401e-02,\n",
       "        -4.30243611e-02,  7.59287225e-03, -4.50145192e-02, -5.69798276e-02,\n",
       "         8.04481581e-02, -7.65604991e-03, -1.81675032e-02,  5.83844855e-02,\n",
       "         7.50755817e-02, -7.68531263e-02, -1.24483056e-01,  2.25475840e-02,\n",
       "        -1.58590451e-02, -4.03551897e-03, -1.69404581e-01,  2.68046707e-02,\n",
       "         4.93055619e-02, -1.57409329e-02,  9.20478106e-02, -5.98172121e-33,\n",
       "         5.70288999e-03,  1.71417221e-02,  7.75200650e-02,  6.29938021e-02,\n",
       "         6.68450594e-02,  5.02151474e-02,  9.78308730e-03, -1.93832237e-02,\n",
       "        -2.91620139e-02, -6.54479936e-02, -2.23727003e-02, -1.00776553e-02,\n",
       "         4.24862616e-02,  1.50353117e-02, -5.48176765e-02,  3.69244665e-02,\n",
       "        -6.73630694e-03,  4.92181163e-03,  2.08562743e-02,  4.31704288e-03,\n",
       "         4.39645015e-02, -4.81071994e-02,  5.93181178e-02,  4.86618392e-02,\n",
       "        -4.24145348e-02,  1.71656749e-04, -6.66648010e-03, -1.67942140e-02,\n",
       "         1.56093528e-02, -1.09575782e-02, -5.60873933e-02, -3.41954269e-02,\n",
       "         1.42625254e-02, -7.12854671e-04, -3.91288474e-02,  2.28735991e-02,\n",
       "        -1.05155751e-01,  1.20998077e-01,  6.11480279e-03, -2.92337587e-04,\n",
       "         8.92242044e-02,  1.03133991e-02, -9.11971740e-03, -1.20705657e-03,\n",
       "        -8.08018353e-03, -3.30774859e-02,  3.59612517e-02, -2.51929387e-02,\n",
       "        -1.71180248e-01,  2.36408729e-02, -6.96395487e-02, -1.68879163e-02,\n",
       "        -1.94194894e-02, -3.39772105e-02,  7.21758828e-02,  2.00350676e-02,\n",
       "        -3.51375714e-02, -5.68239167e-02, -3.92286070e-02, -3.04617342e-02,\n",
       "        -4.68920358e-03,  2.29041800e-02, -8.74979608e-03,  2.36640926e-02,\n",
       "         7.95485452e-02,  4.71343845e-02,  2.86463667e-02, -3.02220415e-02,\n",
       "        -1.32102743e-01,  6.51249811e-02, -3.03074569e-02,  2.97562592e-02,\n",
       "         3.80770154e-02, -9.87905916e-03,  3.54931615e-02, -3.58270966e-02,\n",
       "        -5.27532734e-02, -8.18941668e-02,  3.36359814e-02,  4.43690196e-02,\n",
       "         1.48929199e-02, -1.88384466e-02,  6.45174226e-03,  5.18574417e-02,\n",
       "        -1.49010466e-02,  1.57754317e-01,  2.37532128e-02,  1.06675304e-01,\n",
       "        -1.42702581e-02, -3.08983494e-04,  8.19626916e-03,  1.01225534e-02,\n",
       "         6.43076748e-02,  3.34996767e-02, -1.51532923e-03, -4.35404577e-33,\n",
       "        -9.36280861e-02,  3.53190191e-02, -1.05308946e-02, -5.95012307e-03,\n",
       "        -7.07913265e-02,  3.34532745e-02, -1.32384337e-02, -5.38971312e-02,\n",
       "         1.50383534e-02, -9.69832763e-02,  2.72935685e-02, -1.44873757e-03,\n",
       "         2.82940287e-02,  5.96875474e-02, -4.64691781e-02, -3.06770783e-02,\n",
       "        -6.02664463e-02,  1.86153993e-01, -4.35491279e-02, -3.60941887e-02,\n",
       "         2.64402293e-02, -3.92508544e-02,  1.21714011e-01,  5.03155924e-02,\n",
       "         2.85693817e-02, -4.25520502e-02, -2.48669740e-02,  4.96846773e-02,\n",
       "        -1.48693286e-03, -7.81967491e-03,  2.35944781e-02, -1.67220575e-03,\n",
       "         2.95943152e-02,  7.07165920e-04, -6.24256656e-02,  3.38075086e-02,\n",
       "        -2.59469151e-02,  6.76214918e-02,  8.76991078e-03,  6.41709268e-02,\n",
       "        -9.89121944e-03,  1.85120758e-02,  1.59651730e-02,  2.04020813e-02,\n",
       "        -3.17169204e-02,  2.58922447e-02,  4.51861881e-02,  2.06669047e-03,\n",
       "        -4.28055786e-02,  5.46981357e-02,  2.93579288e-02,  1.52491713e-02,\n",
       "         6.19736575e-02,  3.36333849e-02,  2.68609002e-02,  8.75850767e-02,\n",
       "        -5.03189005e-02,  1.64964851e-02,  2.83671711e-02,  7.26326704e-02,\n",
       "        -1.30653620e-01, -5.97822405e-02, -6.21128865e-02,  8.61425996e-02],\n",
       "       dtype=float32)}"
      ]
     },
     "execution_count": 35,
     "metadata": {},
     "output_type": "execute_result"
    }
   ],
   "source": [
    "documents[0]"
   ]
  },
  {
   "cell_type": "code",
   "execution_count": 36,
   "id": "4372a90e-40fb-47de-b337-e4c949c8f333",
   "metadata": {},
   "outputs": [],
   "source": [
    "def evaluate(ground_truth, search_function):\n",
    "    relevance_total = []\n",
    "\n",
    "    for q in tqdm(ground_truth):\n",
    "        doc_id = q['id']\n",
    "        results = search_function(q)\n",
    "        relevance = [d['id'] == doc_id for d in results]\n",
    "        relevance_total.append(relevance)\n",
    "\n",
    "    return {\n",
    "        'hit_rate': hit_rate(relevance_total),\n",
    "        'mrr': mrr(relevance_total),\n",
    "    }"
   ]
  },
  {
   "cell_type": "code",
   "execution_count": 37,
   "id": "7d80269c-d433-42ac-ac42-2c79a63643d8",
   "metadata": {},
   "outputs": [],
   "source": [
    "from tqdm.auto import tqdm"
   ]
  },
  {
   "cell_type": "code",
   "execution_count": 38,
   "id": "3f7fe4fe-688b-419b-821f-06a8fd8afbb4",
   "metadata": {
    "scrolled": true
   },
   "outputs": [
    {
     "data": {
      "application/vnd.jupyter.widget-view+json": {
       "model_id": "5bac36f1cc234c1faebb36fd02589c07",
       "version_major": 2,
       "version_minor": 0
      },
      "text/plain": [
       "  0%|          | 0/2500 [00:00<?, ?it/s]"
      ]
     },
     "metadata": {},
     "output_type": "display_data"
    },
    {
     "data": {
      "text/plain": [
       "{'hit_rate': 0.7008, 'mrr': 0.5914133333333329}"
      ]
     },
     "execution_count": 38,
     "metadata": {},
     "output_type": "execute_result"
    }
   ],
   "source": [
    "evaluate(ground_truth, lambda q: hybrid_search(q['question']))"
   ]
  },
  {
   "cell_type": "markdown",
   "id": "f5fe783b-a1b1-43dc-986a-87930ea8f542",
   "metadata": {},
   "source": [
    "## Finding the best parameters"
   ]
  },
  {
   "cell_type": "code",
   "execution_count": 39,
   "id": "a509bd82-4a2f-49b0-9b5c-666ec83559ee",
   "metadata": {},
   "outputs": [],
   "source": [
    "df_validation = df_question[:250]\n",
    "df_test = df_question[250:]"
   ]
  },
  {
   "cell_type": "code",
   "execution_count": 41,
   "id": "5e46cc77-84a8-4d8c-a1c7-38cdb23290ed",
   "metadata": {},
   "outputs": [
    {
     "data": {
      "text/html": [
       "<div>\n",
       "<style scoped>\n",
       "    .dataframe tbody tr th:only-of-type {\n",
       "        vertical-align: middle;\n",
       "    }\n",
       "\n",
       "    .dataframe tbody tr th {\n",
       "        vertical-align: top;\n",
       "    }\n",
       "\n",
       "    .dataframe thead th {\n",
       "        text-align: right;\n",
       "    }\n",
       "</style>\n",
       "<table border=\"1\" class=\"dataframe\">\n",
       "  <thead>\n",
       "    <tr style=\"text-align: right;\">\n",
       "      <th></th>\n",
       "      <th>id</th>\n",
       "      <th>question</th>\n",
       "    </tr>\n",
       "  </thead>\n",
       "  <tbody>\n",
       "    <tr>\n",
       "      <th>0</th>\n",
       "      <td>0</td>\n",
       "      <td>What equipment do I need to perform the Push-U...</td>\n",
       "    </tr>\n",
       "    <tr>\n",
       "      <th>1</th>\n",
       "      <td>0</td>\n",
       "      <td>How long should I hold each side during the Pu...</td>\n",
       "    </tr>\n",
       "    <tr>\n",
       "      <th>2</th>\n",
       "      <td>0</td>\n",
       "      <td>What should I focus on to ensure proper form w...</td>\n",
       "    </tr>\n",
       "    <tr>\n",
       "      <th>3</th>\n",
       "      <td>0</td>\n",
       "      <td>What common mistakes should I avoid when doing...</td>\n",
       "    </tr>\n",
       "    <tr>\n",
       "      <th>4</th>\n",
       "      <td>0</td>\n",
       "      <td>How should I breathe during the Push-Up Hold t...</td>\n",
       "    </tr>\n",
       "  </tbody>\n",
       "</table>\n",
       "</div>"
      ],
      "text/plain": [
       "   id                                           question\n",
       "0   0  What equipment do I need to perform the Push-U...\n",
       "1   0  How long should I hold each side during the Pu...\n",
       "2   0  What should I focus on to ensure proper form w...\n",
       "3   0  What common mistakes should I avoid when doing...\n",
       "4   0  How should I breathe during the Push-Up Hold t..."
      ]
     },
     "execution_count": 41,
     "metadata": {},
     "output_type": "execute_result"
    }
   ],
   "source": [
    "df_validation.head()"
   ]
  },
  {
   "cell_type": "code",
   "execution_count": 68,
   "id": "d29043ff-46eb-4bae-97b9-7f55b3337b1b",
   "metadata": {},
   "outputs": [],
   "source": [
    "from typing import Dict, List, Any, Optional, Tuple\n",
    "from hyperopt import fmin, tpe, hp, Trials, STATUS_OK\n",
    "import numpy as np\n",
    "import time"
   ]
  },
  {
   "cell_type": "code",
   "execution_count": 77,
   "id": "48d8147c-aed4-442f-8061-438dac6f742d",
   "metadata": {},
   "outputs": [],
   "source": [
    "# =========================================================\n",
    "# Metrics\n",
    "# =========================================================\n",
    "def reciprocal_rank(pred_ids: List[Any], relevant_id: Any) -> float:\n",
    "    for i, pid in enumerate(pred_ids, start=1):\n",
    "        if pid == relevant_id:\n",
    "            return 1.0 / i\n",
    "    return 0.0\n",
    "\n",
    "def hit_at_k(pred_ids: List[Any], relevant_id: Any, k:int=5) -> float:\n",
    "    return 1.0 if relevant_id in pred_ids[:k] else 0.0"
   ]
  },
  {
   "cell_type": "code",
   "execution_count": 78,
   "id": "b95a9968-4c2b-4617-9b70-2b71aa35eda5",
   "metadata": {},
   "outputs": [],
   "source": [
    "# =========================================================\n",
    "# Field-boost builder\n",
    "# =========================================================\n",
    "def _fields_with_boosts(p: Dict) -> List[str]:\n",
    "    \"\"\"\n",
    "    Build multi_match fields with tuned boosts.\n",
    "    Expect keys: b_exercise_name, b_type_of_activity, b_type_of_equipment,\n",
    "                 b_body_part, b_type, b_muscle_groups, b_instruction\n",
    "    \"\"\"\n",
    "    return [\n",
    "        f\"exercise_name^{float(p['b_exercise_name'])}\",\n",
    "        f\"muscle_groups_activated^{float(p['b_muscle_groups'])}\",\n",
    "        f\"type_of_equipment^{float(p['b_type_of_equipment'])}\",\n",
    "        f\"type_of_activity^{float(p['b_type_of_activity'])}\",\n",
    "        f\"body_part^{float(p['b_body_part'])}\",\n",
    "        f\"type^{float(p['b_type'])}\",\n",
    "        f\"instruction^{float(p['b_instruction'])}\",\n",
    "    ]\n",
    "\n",
    "# =========================================================\n",
    "# Client-side RRF fusion\n",
    "# =========================================================\n",
    "def rrf_fuse(\n",
    "    lists: List[List[Dict]],\n",
    "    *,\n",
    "    id_key: str = \"id\",\n",
    "    rank_window_size: int = 50,\n",
    "    rank_constant: int = 60\n",
    ") -> List[Tuple[Any, float]]:\n",
    "    \"\"\"\n",
    "    Fuse multiple ranked lists using Reciprocal Rank Fusion.\n",
    "    Returns list of (doc_id, fused_score) sorted desc.\n",
    "    \"\"\"\n",
    "    scores: Dict[Any, float] = {}\n",
    "    for hits in lists:\n",
    "        window = hits[:rank_window_size]\n",
    "        for rank, item in enumerate(window, start=1):\n",
    "            did = item.get(id_key)\n",
    "            if did is None:\n",
    "                continue\n",
    "            scores[did] = scores.get(did, 0.0) + 1.0 / (rank_constant + rank)\n",
    "    return sorted(scores.items(), key=lambda kv: kv[1], reverse=True)"
   ]
  },
  {
   "cell_type": "code",
   "execution_count": 79,
   "id": "cacd7bf4-fc3c-4cfc-8fcb-7079d360c974",
   "metadata": {},
   "outputs": [],
   "source": [
    "# =========================================================\n",
    "# Branch searches (text-only and knn-only)\n",
    "# =========================================================\n",
    "def run_text_search(\n",
    "    query: str,\n",
    "    es_client,\n",
    "    index_name: str,\n",
    "    operator: str,\n",
    "    size: int,\n",
    "    filters: Optional[Dict],\n",
    "    id_field: str,\n",
    "    fields: List[str]\n",
    ") -> List[Dict]:\n",
    "    es_bool_filter: List[Dict] = []\n",
    "    if filters:\n",
    "        if \"bool\" in filters and \"filter\" in filters[\"bool\"]:\n",
    "            es_bool_filter.extend(filters[\"bool\"][\"filter\"])\n",
    "        else:\n",
    "            es_bool_filter.append(filters)\n",
    "\n",
    "    body = {\n",
    "        \"query\": {\n",
    "            \"bool\": {\n",
    "                \"must\": [{\n",
    "                    \"multi_match\": {\n",
    "                        \"query\": query,\n",
    "                        \"type\": \"cross_fields\",\n",
    "                        \"operator\": operator,\n",
    "                        \"fields\": fields\n",
    "                    }\n",
    "                }],\n",
    "                **({\"filter\": es_bool_filter} if es_bool_filter else {})\n",
    "            }\n",
    "        },\n",
    "        \"size\": int(size)\n",
    "    }\n",
    "    res = es_client.search(index=index_name, body=body)\n",
    "    hits = res.get(\"hits\", {}).get(\"hits\", [])\n",
    "    out: List[Dict] = []\n",
    "    for h in hits:\n",
    "        src = h.get(\"_source\", {})\n",
    "        out.append({\n",
    "            \"id\": src.get(id_field, h.get(\"_id\")),\n",
    "            \"exercise_name\":           src.get(\"exercise_name\", \"\"),\n",
    "            \"type_of_activity\":        src.get(\"type_of_activity\", \"\"),\n",
    "            \"type_of_equipment\":       src.get(\"type_of_equipment\", \"\"),\n",
    "            \"body_part\":               src.get(\"body_part\", \"\"),\n",
    "            \"type\":                    src.get(\"type\", \"\"),\n",
    "            \"muscle_groups_activated\": src.get(\"muscle_groups_activated\", \"\"),\n",
    "            \"instruction\":             src.get(\"instruction\", \"\")\n",
    "        })\n",
    "    return out\n",
    "\n",
    "def run_knn_search(\n",
    "    query: str,\n",
    "    es_client,\n",
    "    index_name: str,\n",
    "    embeddings,\n",
    "    knn_k: int,\n",
    "    num_candidates: int,\n",
    "    filters: Optional[Dict],\n",
    "    id_field: str\n",
    ") -> List[Dict]:\n",
    "    vector = embeddings.embed_query(query)\n",
    "\n",
    "    es_bool_filter: List[Dict] = []\n",
    "    if filters:\n",
    "        if \"bool\" in filters and \"filter\" in filters[\"bool\"]:\n",
    "            es_bool_filter.extend(filters[\"bool\"][\"filter\"])\n",
    "        else:\n",
    "            es_bool_filter.append(filters)\n",
    "\n",
    "    body = {\n",
    "        \"knn\": {\n",
    "            \"field\": \"ei_vector\",\n",
    "            \"query_vector\": vector,\n",
    "            \"k\": int(knn_k),\n",
    "            \"num_candidates\": int(num_candidates),\n",
    "            **({\"filter\": es_bool_filter} if es_bool_filter else {})\n",
    "        }\n",
    "    }\n",
    "    res = es_client.search(index=index_name, body=body)\n",
    "    hits = res.get(\"hits\", {}).get(\"hits\", [])\n",
    "    out: List[Dict] = []\n",
    "    for h in hits:\n",
    "        src = h.get(\"_source\", {})\n",
    "        out.append({\n",
    "            \"id\": src.get(id_field, h.get(\"_id\")),\n",
    "            \"exercise_name\":           src.get(\"exercise_name\", \"\"),\n",
    "            \"type_of_activity\":        src.get(\"type_of_activity\", \"\"),\n",
    "            \"type_of_equipment\":       src.get(\"type_of_equipment\", \"\"),\n",
    "            \"body_part\":               src.get(\"body_part\", \"\"),\n",
    "            \"type\":                    src.get(\"type\", \"\"),\n",
    "            \"muscle_groups_activated\": src.get(\"muscle_groups_activated\", \"\"),\n",
    "            \"instruction\":             src.get(\"instruction\", \"\")\n",
    "        })\n",
    "    return out"
   ]
  },
  {
   "cell_type": "code",
   "execution_count": 80,
   "id": "093f39a0-b593-40fa-9c25-03737212e468",
   "metadata": {},
   "outputs": [],
   "source": [
    "# =========================================================\n",
    "# Hybrid search (client-side RRF optional) with field boosts\n",
    "# =========================================================\n",
    "def hybrid_search_with_ids(\n",
    "    query: str,\n",
    "    es_client,\n",
    "    index_name: str,\n",
    "    embeddings,\n",
    "    size: int,\n",
    "    knn_k: int,\n",
    "    num_candidates: int,\n",
    "    knn_boost: float,           # ignored in RRF mode (rank-based fusion)\n",
    "    operator: str,\n",
    "    use_rrf: bool,\n",
    "    filters: Optional[Dict] = None,\n",
    "    id_field: str = \"id\",\n",
    "    # RRF params:\n",
    "    rrf_rank_window_size: int = 50,\n",
    "    rrf_rank_constant: int = 60,\n",
    "    # Field boosts (pass via params)\n",
    "    b_exercise_name: float = 4.0,\n",
    "    b_type_of_activity: float = 1.3,\n",
    "    b_type_of_equipment: float = 1.5,\n",
    "    b_body_part: float = 1.2,\n",
    "    b_type: float = 1.2,\n",
    "    b_muscle_groups: float = 2.0,\n",
    "    b_instruction: float = 1.0,\n",
    ") -> List[Dict]:\n",
    "    # Build field list with current boosts\n",
    "    fields = _fields_with_boosts({\n",
    "        \"b_exercise_name\": b_exercise_name,\n",
    "        \"b_type_of_activity\": b_type_of_activity,\n",
    "        \"b_type_of_equipment\": b_type_of_equipment,\n",
    "        \"b_body_part\": b_body_part,\n",
    "        \"b_type\": b_type,\n",
    "        \"b_muscle_groups\": b_muscle_groups,\n",
    "        \"b_instruction\": b_instruction,\n",
    "    })\n",
    "\n",
    "    if use_rrf:\n",
    "        # --- Client-side RRF fusion ---\n",
    "        text_hits  = run_text_search(query, es_client, index_name, operator, rrf_rank_window_size, filters, id_field, fields)\n",
    "        knn_hits   = run_knn_search(query, es_client, index_name, embeddings, max(knn_k, rrf_rank_window_size), num_candidates, filters, id_field)\n",
    "        fused = rrf_fuse([text_hits, knn_hits],\n",
    "                         id_key=\"id\",\n",
    "                         rank_window_size=rrf_rank_window_size,\n",
    "                         rank_constant=rrf_rank_constant)\n",
    "        # Materialize top 'size' docs (prefer text_hits, then knn_hits for doc materialization)\n",
    "        by_id: Dict[Any, Dict] = {}\n",
    "        for d in text_hits + knn_hits:\n",
    "            by_id.setdefault(d[\"id\"], d)\n",
    "        top_docs: List[Dict] = []\n",
    "        for did, _score in fused[:size]:\n",
    "            doc = by_id.get(did)\n",
    "            if doc:\n",
    "                top_docs.append(doc)\n",
    "        return top_docs\n",
    "\n",
    "    # --- Single-request hybrid (text + knn) with boosts when not using RRF ---\n",
    "    vector = embeddings.embed_query(query)\n",
    "\n",
    "    es_bool_filter: List[Dict] = []\n",
    "    if filters:\n",
    "        if \"bool\" in filters and \"filter\" in filters[\"bool\"]:\n",
    "            es_bool_filter.extend(filters[\"bool\"][\"filter\"])\n",
    "        else:\n",
    "            es_bool_filter.append(filters)\n",
    "\n",
    "    body: Dict = {\n",
    "        \"query\": {\n",
    "            \"bool\": {\n",
    "                \"must\": [\n",
    "                    {\n",
    "                        \"multi_match\": {\n",
    "                            \"query\": query,\n",
    "                            \"type\": \"cross_fields\",\n",
    "                            \"operator\": operator,\n",
    "                            \"fields\": fields\n",
    "                        }\n",
    "                    }\n",
    "                ],\n",
    "                **({\"filter\": es_bool_filter} if es_bool_filter else {})\n",
    "            }\n",
    "        },\n",
    "        \"knn\": {\n",
    "            \"field\": \"ei_vector\",\n",
    "            \"query_vector\": vector,\n",
    "            \"k\": int(knn_k),\n",
    "            \"num_candidates\": int(num_candidates),\n",
    "            \"boost\": float(knn_boost),\n",
    "            **({\"filter\": es_bool_filter} if es_bool_filter else {})\n",
    "        },\n",
    "        \"size\": int(size)\n",
    "    }\n",
    "\n",
    "    res = es_client.search(index=index_name, body=body)\n",
    "    hits = res.get(\"hits\", {}).get(\"hits\", [])\n",
    "    out: List[Dict] = []\n",
    "    for h in hits:\n",
    "        src = h.get(\"_source\", {})\n",
    "        out.append({\n",
    "            \"id\": src.get(id_field, h.get(\"_id\")),\n",
    "            \"exercise_name\":           src.get(\"exercise_name\", \"\"),\n",
    "            \"type_of_activity\":        src.get(\"type_of_activity\", \"\"),\n",
    "            \"type_of_equipment\":       src.get(\"type_of_equipment\", \"\"),\n",
    "            \"body_part\":               src.get(\"body_part\", \"\"),\n",
    "            \"type\":                    src.get(\"type\", \"\"),\n",
    "            \"muscle_groups_activated\": src.get(\"muscle_groups_activated\", \"\"),\n",
    "            \"instruction\":             src.get(\"instruction\", \"\")\n",
    "        })\n",
    "    return out"
   ]
  },
  {
   "cell_type": "code",
   "execution_count": 81,
   "id": "6d9ea3b3-0ff2-41b1-86c2-8a499343b5db",
   "metadata": {},
   "outputs": [],
   "source": [
    "# =========================================================\n",
    "# Evaluation on a dataframe with columns [\"id\", \"question\"]\n",
    "# =========================================================\n",
    "def evaluate_params_on(\n",
    "    df_eval: pd.DataFrame,\n",
    "    params: Dict,\n",
    "    *,\n",
    "    es_client,\n",
    "    index_name,\n",
    "    embeddings,\n",
    "    id_field=\"id\"\n",
    ") -> Dict:\n",
    "    mrrs, hits, latencies = [], [], []\n",
    "    k = int(params[\"size\"])\n",
    "    for _, row in df_eval.iterrows():\n",
    "        q = row[\"question\"]\n",
    "        true_id = row[\"id\"]\n",
    "        t0 = time.time()\n",
    "        results = hybrid_search_with_ids(\n",
    "            query=q,\n",
    "            es_client=es_client,\n",
    "            index_name=index_name,\n",
    "            embeddings=embeddings,\n",
    "            size=int(params[\"size\"]),\n",
    "            knn_k=int(params[\"knn_k\"]),\n",
    "            num_candidates=int(params[\"num_candidates\"]),\n",
    "            knn_boost=float(params[\"knn_boost\"]),\n",
    "            operator=params[\"operator\"],\n",
    "            use_rrf=bool(params[\"use_rrf\"]),\n",
    "            filters=params.get(\"filters\"),\n",
    "            id_field=id_field,\n",
    "            rrf_rank_window_size=int(params.get(\"rrf_rank_window_size\", 50)),\n",
    "            rrf_rank_constant=int(params.get(\"rrf_rank_constant\", 60)),\n",
    "            b_exercise_name=float(params[\"b_exercise_name\"]),\n",
    "            b_type_of_activity=float(params[\"b_type_of_activity\"]),\n",
    "            b_type_of_equipment=float(params[\"b_type_of_equipment\"]),\n",
    "            b_body_part=float(params[\"b_body_part\"]),\n",
    "            b_type=float(params[\"b_type\"]),\n",
    "            b_muscle_groups=float(params[\"b_muscle_groups\"]),\n",
    "            b_instruction=float(params[\"b_instruction\"]),\n",
    "        )\n",
    "        latencies.append(time.time() - t0)\n",
    "        pred_ids = [r[\"id\"] for r in results]\n",
    "        mrrs.append(reciprocal_rank(pred_ids, true_id))\n",
    "        hits.append(hit_at_k(pred_ids, true_id, k=k))\n",
    "\n",
    "    return {\n",
    "        \"MRR\": float(np.mean(mrrs)) if mrrs else 0.0,\n",
    "        f\"Hit@{k}\": float(np.mean(hits)) if hits else 0.0,\n",
    "        \"AvgLatencySec\": float(np.mean(latencies)) if latencies else 0.0,\n",
    "        \"P95LatencySec\": float(np.percentile(latencies, 95)) if latencies else 0.0,\n",
    "        \"N\": int(len(df_eval))\n",
    "    }"
   ]
  },
  {
   "cell_type": "code",
   "execution_count": 83,
   "id": "3a1e68af-6891-48a8-bb34-f4a5dd2ba05c",
   "metadata": {},
   "outputs": [],
   "source": [
    "# =========================================================\n",
    "# Objective\n",
    "# =========================================================\n",
    "def make_objective(df_eval, es_client, index_name, embeddings, id_field=\"id\"):\n",
    "    def objective(hparams):\n",
    "        p = dict(hparams)\n",
    "\n",
    "        # Ensure ints for integer-like params\n",
    "        for k in (\"size\", \"knn_k\", \"num_candidates\", \"rrf_rank_window_size\", \"rrf_rank_constant\"):\n",
    "            p[k] = int(p[k])\n",
    "\n",
    "        # Cast any numpy scalars to float for boosts & continuous params\n",
    "        for k in (\"knn_boost\", \"b_exercise_name\", \"b_type_of_activity\", \"b_type_of_equipment\",\n",
    "                  \"b_body_part\", \"b_type\", \"b_muscle_groups\", \"b_instruction\"):\n",
    "            p[k] = float(p[k])\n",
    "\n",
    "        metrics = evaluate_params_on(\n",
    "            df_eval,\n",
    "            p,\n",
    "            es_client=es_client,\n",
    "            index_name=index_name,\n",
    "            embeddings=embeddings,\n",
    "            id_field=id_field\n",
    "        )\n",
    "        # Loss: prioritize MRR; lightly penalize high latency\n",
    "        loss = (1.0 - metrics[\"MRR\"]) + 0.05 * metrics[\"AvgLatencySec\"]\n",
    "        return {\"loss\": loss, \"status\": STATUS_OK, \"metrics\": metrics, \"params\": p}\n",
    "    return objective"
   ]
  },
  {
   "cell_type": "code",
   "execution_count": 84,
   "id": "9ce5c078-ed9c-4868-96c6-b49ef392f1d3",
   "metadata": {},
   "outputs": [
    {
     "name": "stdout",
     "output_type": "stream",
     "text": [
      "100%|████████████████████████████| 80/80 [07:20<00:00,  5.51s/trial, best loss: 0.2477682291984558]\n",
      "Best params: {'b_body_part': 1.1642902810438727, 'b_exercise_name': 3.423888532659442, 'b_instruction': 0.4735048221260146, 'b_muscle_groups': 4.0786853724241805, 'b_type': 1.3527056181134047, 'b_type_of_activity': 0.9459499781180558, 'b_type_of_equipment': 1.730475772103169, 'knn_boost': 0.8389895612929347, 'knn_k': 41, 'num_candidates': 1763, 'operator': 'or', 'rrf_rank_constant': 75, 'rrf_rank_window_size': 90, 'size': 9, 'use_rrf': False}\n",
      "Validation metrics: {'MRR': 0.7531, 'Hit@9': 0.8, 'AvgLatencySec': 0.01736458396911621, 'P95LatencySec': 0.021300578117370607, 'N': 250}\n"
     ]
    }
   ],
   "source": [
    "# =========================================================\n",
    "# Run tuning on df_validation\n",
    "# =========================================================\n",
    "objective = make_objective(df_validation, es_client, index_name, embeddings, id_field=\"id\")\n",
    "\n",
    "trials = Trials()\n",
    "best = fmin(\n",
    "    fn=objective,\n",
    "    space=search_space,\n",
    "    algo=tpe.suggest,\n",
    "    max_evals=80,  # adjust as you like\n",
    "    trials=trials,\n",
    "    rstate=np.random.default_rng(42)\n",
    ")\n",
    "\n",
    "# Decode hp.choice fields from \"best\"\n",
    "best_decoded = dict(best)\n",
    "best_decoded[\"operator\"] = [\"and\", \"or\"][best[\"operator\"]]\n",
    "best_decoded[\"use_rrf\"]   = [False, True][best[\"use_rrf\"]]\n",
    "\n",
    "# Cast numerics\n",
    "for k in (\"size\", \"knn_k\", \"num_candidates\", \"rrf_rank_window_size\", \"rrf_rank_constant\"):\n",
    "    best_decoded[k] = int(best_decoded[k])\n",
    "for k in (\"knn_boost\", \"b_exercise_name\", \"b_type_of_activity\", \"b_type_of_equipment\",\n",
    "          \"b_body_part\", \"b_type\", \"b_muscle_groups\", \"b_instruction\"):\n",
    "    best_decoded[k] = float(best_decoded[k])\n",
    "\n",
    "print(\"Best params:\", best_decoded)\n",
    "\n",
    "best_trial = sorted(trials.results, key=lambda r: r[\"loss\"])[0]\n",
    "print(\"Validation metrics:\", best_trial[\"metrics\"])"
   ]
  },
  {
   "cell_type": "code",
   "execution_count": 85,
   "id": "f4180297-c070-448e-859d-3df438be0d7e",
   "metadata": {},
   "outputs": [
    {
     "name": "stdout",
     "output_type": "stream",
     "text": [
      "Test metrics: {'MRR': 0.7177682539682539, 'Hit@9': 0.756, 'AvgLatencySec': 0.01753548304239909, 'P95LatencySec': 0.02151546478271484, 'N': 2250}\n"
     ]
    }
   ],
   "source": [
    "# =========================================================\n",
    "# Final evaluation on df_test\n",
    "# =========================================================\n",
    "test_metrics = evaluate_params_on(\n",
    "    df_test,\n",
    "    best_decoded,\n",
    "    es_client=es_client,\n",
    "    index_name=index_name,\n",
    "    embeddings=embeddings,\n",
    "    id_field=\"id\"\n",
    ")\n",
    "print(\"Test metrics:\", test_metrics)"
   ]
  },
  {
   "cell_type": "code",
   "execution_count": 91,
   "id": "2e40978f-a668-441e-9a09-cd620b877c7d",
   "metadata": {},
   "outputs": [],
   "source": [
    "def hybrid_search_with_ids_improved(\n",
    "    query: str,\n",
    "    es_client=es_client,\n",
    "    index_name=index_name,\n",
    "    embeddings=embeddings,\n",
    "    *,\n",
    "    id_field: str = \"id\",\n",
    "    filters: Optional[Dict] = None,\n",
    "    # You can override these, but they default to your best params\n",
    "    size: int = 9,\n",
    "    operator: str = \"or\",\n",
    "    knn_k: int = 41,\n",
    "    num_candidates: int = 1763,\n",
    "    knn_boost: float = 0.8389895612929347,\n",
    "    # Best field boosts\n",
    "    b_exercise_name: float = 3.423888532659442,\n",
    "    b_muscle_groups: float = 4.0786853724241805,\n",
    "    b_type_of_equipment: float = 1.730475772103169,\n",
    "    b_type_of_activity: float = 0.9459499781180558,\n",
    "    b_body_part: float = 1.1642902810438727,\n",
    "    b_type: float = 1.3527056181134047,\n",
    "    b_instruction: float = 0.4735048221260146,\n",
    ") -> List[Dict[str, Any]]:\n",
    "    \"\"\"\n",
    "    Hybrid (keyword + vector) ES search using tuned best parameters.\n",
    "    Returns a list of dicts shaped for your RAG context:\n",
    "      {'id', 'exercise_name', 'type_of_activity', 'type_of_equipment',\n",
    "       'body_part', 'type', 'muscle_groups_activated', 'instruction'}\n",
    "    \"\"\"\n",
    "    # --- Build boosted fields list from best params ---\n",
    "    fields = [\n",
    "        f\"exercise_name^{b_exercise_name}\",\n",
    "        f\"muscle_groups_activated^{b_muscle_groups}\",\n",
    "        f\"type_of_equipment^{b_type_of_equipment}\",\n",
    "        f\"type_of_activity^{b_type_of_activity}\",\n",
    "        f\"body_part^{b_body_part}\",\n",
    "        f\"type^{b_type}\",\n",
    "        f\"instruction^{b_instruction}\",\n",
    "    ]\n",
    "\n",
    "    # --- Optional filters merged into bool.filter ---\n",
    "    es_bool_filter: List[Dict] = []\n",
    "    if filters:\n",
    "        if \"bool\" in filters and \"filter\" in filters[\"bool\"]:\n",
    "            es_bool_filter.extend(filters[\"bool\"][\"filter\"])\n",
    "        else:\n",
    "            es_bool_filter.append(filters)\n",
    "\n",
    "    # --- Vector for kNN branch ---\n",
    "    vector = embeddings.embed_query(query)\n",
    "\n",
    "    body: Dict = {\n",
    "        \"query\": {\n",
    "            \"bool\": {\n",
    "                \"must\": [\n",
    "                    {\n",
    "                        \"multi_match\": {\n",
    "                            \"query\": query,\n",
    "                            \"type\": \"cross_fields\",\n",
    "                            \"operator\": operator,  # tuned: 'or'\n",
    "                            \"fields\": fields\n",
    "                        }\n",
    "                    }\n",
    "                ],\n",
    "                **({\"filter\": es_bool_filter} if es_bool_filter else {})\n",
    "            }\n",
    "        },\n",
    "        \"knn\": {\n",
    "            \"field\": \"ei_vector\",\n",
    "            \"query_vector\": vector,\n",
    "            \"k\": int(knn_k),                         # tuned: 41\n",
    "            \"num_candidates\": int(num_candidates),   # tuned: 1763\n",
    "            \"boost\": float(knn_boost),               # tuned: ~0.839\n",
    "            **({\"filter\": es_bool_filter} if es_bool_filter else {})\n",
    "        },\n",
    "        \"size\": int(size)                            # tuned: 9\n",
    "    }\n",
    "\n",
    "    res = es_client.search(index=index_name, body=body)\n",
    "    hits = res.get(\"hits\", {}).get(\"hits\", [])\n",
    "\n",
    "    out: List[Dict[str, Any]] = []\n",
    "    for h in hits:\n",
    "        src = h.get(\"_source\", {})\n",
    "        out.append({\n",
    "            \"id\": src.get(id_field, h.get(\"_id\")),\n",
    "            \"exercise_name\":           src.get(\"exercise_name\", \"\"),\n",
    "            \"type_of_activity\":        src.get(\"type_of_activity\", \"\"),\n",
    "            \"type_of_equipment\":       src.get(\"type_of_equipment\", \"\"),\n",
    "            \"body_part\":               src.get(\"body_part\", \"\"),\n",
    "            \"type\":                    src.get(\"type\", \"\"),\n",
    "            \"muscle_groups_activated\": src.get(\"muscle_groups_activated\", \"\"),\n",
    "            \"instruction\":             src.get(\"instruction\", \"\")\n",
    "        })\n",
    "    return out"
   ]
  },
  {
   "cell_type": "markdown",
   "id": "f87c821a-906b-4f8e-a66e-66c2e44cf013",
   "metadata": {},
   "source": [
    "## RAG evaluation (LLM as a Judge)"
   ]
  },
  {
   "cell_type": "code",
   "execution_count": 125,
   "id": "f74bb061-4386-40b4-863e-8b635fc0dd17",
   "metadata": {},
   "outputs": [],
   "source": [
    "prompt2_template = \"\"\"\n",
    "You are an expert evaluator for a (RAG) system.\n",
    "Your task is to analyze the relevance of the generated answer to the given question.\n",
    "Based on the relevance of the generated answer, you will classify it\n",
    "as \"NON_RELEVANT\", \"PARTLY_RELEVANT\", or \"RELEVANT\".\n",
    "\n",
    "Here is the data for evaluation:\n",
    "\n",
    "Question: {question}\n",
    "Generated Answer: {answer_llm}\n",
    "\n",
    "Please analyze the content and context of the generated answer in relation to the question\n",
    "and provide your evaluation in parsable JSON without using code blocks:\n",
    "\n",
    "{{\n",
    "  \"Relevance\": \"NON_RELEVANT\" | \"PARTLY_RELEVANT\" | \"RELEVANT\",\n",
    "  \"Explanation\": \"[Provide a brief explanation for your evaluation]\"\n",
    "}}\n",
    "\"\"\".strip()"
   ]
  },
  {
   "cell_type": "code",
   "execution_count": 126,
   "id": "5b205b9f-eb85-485e-912e-fbfac45a6cf1",
   "metadata": {},
   "outputs": [
    {
     "data": {
      "text/plain": [
       "{'id': 0,\n",
       " 'question': 'What equipment do I need to perform the Push-Up Hold exercise?'}"
      ]
     },
     "execution_count": 126,
     "metadata": {},
     "output_type": "execute_result"
    }
   ],
   "source": [
    "ground_truth[0]"
   ]
  },
  {
   "cell_type": "code",
   "execution_count": 127,
   "id": "a9126ef6-c573-4319-ae03-c2333e14e6d2",
   "metadata": {},
   "outputs": [],
   "source": [
    "def rag(query):\n",
    "    search_results = hybrid_search_with_ids_improved(query)\n",
    "    prompt = build_prompt(query, search_results)\n",
    "    answer = llm(prompt)\n",
    "    return answer"
   ]
  },
  {
   "cell_type": "code",
   "execution_count": 128,
   "id": "6bb6f2bd-d125-49f6-955c-5e55a01a0a59",
   "metadata": {},
   "outputs": [],
   "source": [
    "record = ground_truth[0]\n",
    "question = record['question']\n",
    "answer_llm = rag(question)"
   ]
  },
  {
   "cell_type": "code",
   "execution_count": 129,
   "id": "7ff3bab4-26ef-4624-b338-1bf6c1a0a911",
   "metadata": {},
   "outputs": [
    {
     "data": {
      "text/plain": [
       "[{'id': 15,\n",
       "  'exercise_name': 'Push-Up',\n",
       "  'type_of_activity': 'strength',\n",
       "  'type_of_equipment': 'jump rope',\n",
       "  'body_part': 'lower',\n",
       "  'type': 'pull',\n",
       "  'muscle_groups_activated': 'calves, quads, glutes',\n",
       "  'instruction': 'Setup: Prepare equipment: jump rope. Ensure stable setup and safe load. Brace core, keep neutral spine, drive through whole foot. Primary focus: calves, quads, glutes. Movement: Lower chest between hands with elbows ~45°, keep body in one line; press back up without flaring. Tempo: 3‑1‑1‑0. Dose: 3–4 sets × 6–10 reps. Rest 45–90s between sets. Breathing: Inhale to prepare; exhale on the effort; inhale on the return. Coaching cues: keep neck long, ribs down, and elbows close. Common mistakes: avoid shrugging or using momentum. Avoid collapsing posture or losing core brace. Safety: Stop if you feel sharp pain, dizziness, or pins‑and‑needles.'},\n",
       " {'id': 0,\n",
       "  'exercise_name': 'Push-Up Hold',\n",
       "  'type_of_activity': 'mobility',\n",
       "  'type_of_equipment': 'dip belt',\n",
       "  'body_part': 'lower',\n",
       "  'type': 'stretch',\n",
       "  'muscle_groups_activated': 'glutes, quads, hamstrings',\n",
       "  'instruction': 'Setup: Prepare equipment: dip belt. Ensure stable setup and safe load. Brace core, keep neutral spine, drive through whole foot. Primary focus: glutes, quads, hamstrings. Movement: Gently enter the stretch until a mild pull is felt; hold without bouncing and keep breathing. Tempo: 2‑2‑2‑0. Dose: 1–2 sets × 30–60 sec each side. Rest 45–90s between sets. Breathing: Slow nasal breaths; exhale to deepen slightly, no pain. Coaching cues: keep neck long, ribs down, and knees tracking over toes. Common mistakes: avoid bouncing; stay within mild discomfort. Do not bounce or hyperextend joints. Safety: Never force end range; joints should feel stable.'},\n",
       " {'id': 458,\n",
       "  'exercise_name': 'Seated Push-Up',\n",
       "  'type_of_activity': 'cardio',\n",
       "  'type_of_equipment': 'dip belt',\n",
       "  'body_part': 'full body',\n",
       "  'type': 'stretch',\n",
       "  'muscle_groups_activated': 'chest, core, back',\n",
       "  'instruction': 'Setup: Prepare equipment: dip belt. Ensure stable setup and safe load. Maintain tall posture, neutral spine, and steady breathing. Primary focus: chest, core, back. Movement: Gently enter the stretch until a mild pull is felt; hold without bouncing and keep breathing. Tempo: 2‑2‑2‑0. Dose: 1–2 sets × 30–60 sec each side. Rest 45–90s between sets. Breathing: Slow nasal breaths; exhale to deepen slightly, no pain. Coaching cues: keep neck long, ribs down, and shoulders down. Common mistakes: avoid bouncing; stay within mild discomfort. Do not bounce or hyperextend joints. Safety: Keep posture tall; reduce pace if form degrades.'},\n",
       " {'id': 237,\n",
       "  'exercise_name': 'Push-Up Twist',\n",
       "  'type_of_activity': 'strength',\n",
       "  'type_of_equipment': 'pull-up bar',\n",
       "  'body_part': 'upper',\n",
       "  'type': 'stretch',\n",
       "  'muscle_groups_activated': 'chest, biceps, deltoids',\n",
       "  'instruction': 'Setup: Prepare equipment: pull-up bar. Ensure stable setup and safe load. Draw ribs down, keep shoulders packed and away from ears. Primary focus: chest, biceps, deltoids. Movement: Gently enter the stretch until a mild pull is felt; hold without bouncing and keep breathing. Tempo: 3‑1‑1‑0. Dose: 1–2 sets × 30–60 sec each side. Rest 45–90s between sets. Breathing: Slow nasal breaths; exhale to deepen slightly, no pain. Coaching cues: keep neck long, ribs down, and shoulders down. Common mistakes: avoid bouncing; stay within mild discomfort. Do not bounce or hyperextend joints. Safety: Stop if you feel sharp pain, dizziness, or pins‑and‑needles.'},\n",
       " {'id': 106,\n",
       "  'exercise_name': 'Explosive Push-Up',\n",
       "  'type_of_activity': 'cardio',\n",
       "  'type_of_equipment': 'bike',\n",
       "  'body_part': 'lower',\n",
       "  'type': 'hold',\n",
       "  'muscle_groups_activated': 'quads, glutes, hamstrings',\n",
       "  'instruction': 'Setup: Prepare equipment: bike. Ensure stable setup and safe load. Brace core, keep neutral spine, drive through whole foot. Primary focus: quads, glutes, hamstrings. Movement: Lower chest between hands with elbows ~45°, keep body in one line; press back up without flaring. Tempo: steady pace. Dose: 5–15 minutes (RPE 6–7/10). Rest 45–90s between sets. Breathing: Breathe light and steady; do not brace with a breath hold. Coaching cues: keep neck long, ribs down, and knees tracking over toes. Common mistakes: avoid holding breath; keep steady tension. Avoid collapsing posture or losing core brace. Safety: Keep posture tall; reduce pace if form degrades.'},\n",
       " {'id': 422,\n",
       "  'exercise_name': 'Dynamic Push-Up',\n",
       "  'type_of_activity': 'mobility',\n",
       "  'type_of_equipment': 'assisted machine',\n",
       "  'body_part': 'lower',\n",
       "  'type': 'hold',\n",
       "  'muscle_groups_activated': 'calves, quads, glutes',\n",
       "  'instruction': 'Setup: Adjust machine seat and lever to align joints with pivots. Brace core, keep neutral spine, drive through whole foot. Primary focus: calves, quads, glutes. Movement: Lower chest between hands with elbows ~45°, keep body in one line; press back up without flaring. Tempo: 2‑2‑2‑0. Dose: 1–2 sets × 30–60 sec each side. Rest 45–90s between sets. Breathing: Breathe light and steady; do not brace with a breath hold. Coaching cues: keep neck long, ribs down, and knees tracking over toes. Common mistakes: avoid holding breath; keep steady tension. Avoid collapsing posture or losing core brace. Safety: Never force end range; joints should feel stable.'},\n",
       " {'id': 301,\n",
       "  'exercise_name': 'Push-Up Iso',\n",
       "  'type_of_activity': 'mobility',\n",
       "  'type_of_equipment': 'bodyweight',\n",
       "  'body_part': 'lower',\n",
       "  'type': 'hold',\n",
       "  'muscle_groups_activated': 'hamstrings, glutes, calves',\n",
       "  'instruction': 'Setup: Bodyweight only—use controlled tempo and balance. Brace core, keep neutral spine, drive through whole foot. Primary focus: hamstrings, glutes, calves. Movement: Lower chest between hands with elbows ~45°, keep body in one line; press back up without flaring. Tempo: 2‑2‑2‑0. Dose: 1–2 sets × 30–60 sec each side. Rest 45–90s between sets. Breathing: Breathe light and steady; do not brace with a breath hold. Coaching cues: keep neck long, ribs down, and knees tracking over toes. Common mistakes: avoid holding breath; keep steady tension. Avoid collapsing posture or losing core brace. Safety: Never force end range; joints should feel stable.'},\n",
       " {'id': 175,\n",
       "  'exercise_name': 'Push-Up Variation',\n",
       "  'type_of_activity': 'strength',\n",
       "  'type_of_equipment': 'pull-up bar',\n",
       "  'body_part': 'full body',\n",
       "  'type': 'pull',\n",
       "  'muscle_groups_activated': 'legs, core, chest',\n",
       "  'instruction': 'Setup: Prepare equipment: pull-up bar. Ensure stable setup and safe load. Maintain tall posture, neutral spine, and steady breathing. Primary focus: legs, core, chest. Movement: Lower chest between hands with elbows ~45°, keep body in one line; press back up without flaring. Tempo: 3‑1‑1‑0. Dose: 3–4 sets × 6–10 reps. Rest 45–90s between sets. Breathing: Inhale to prepare; exhale on the effort; inhale on the return. Coaching cues: keep neck long, ribs down, and elbows close. Common mistakes: avoid shrugging or using momentum. Avoid collapsing posture or losing core brace. Safety: Stop if you feel sharp pain, dizziness, or pins‑and‑needles.'},\n",
       " {'id': 256,\n",
       "  'exercise_name': 'Paused Push-Up',\n",
       "  'type_of_activity': 'cardio',\n",
       "  'type_of_equipment': 'barbells',\n",
       "  'body_part': 'upper',\n",
       "  'type': 'pull',\n",
       "  'muscle_groups_activated': 'chest, deltoids, traps',\n",
       "  'instruction': 'Setup: Set barbell with collars secured; grip evenly; brace before lift. Draw ribs down, keep shoulders packed and away from ears. Primary focus: chest, deltoids, traps. Movement: Lower chest between hands with elbows ~45°, keep body in one line; press back up without flaring. Tempo: steady pace. Dose: 5–15 minutes (RPE 6–7/10). Rest 45–90s between sets. Breathing: Inhale to prepare; exhale on the effort; inhale on the return. Coaching cues: keep neck long, ribs down, and elbows close. Common mistakes: avoid shrugging or using momentum. Avoid collapsing posture or losing core brace. Safety: Start lighter than you think; add load gradually. Keep posture tall; reduce pace if form degrades.'}]"
      ]
     },
     "execution_count": 129,
     "metadata": {},
     "output_type": "execute_result"
    }
   ],
   "source": [
    "hybrid_search_with_ids_improved('What equipment do I need to perform the Push-Up Hold exercise?')"
   ]
  },
  {
   "cell_type": "code",
   "execution_count": 132,
   "id": "309134b3-9c2e-466f-af24-6ec88083994d",
   "metadata": {},
   "outputs": [
    {
     "data": {
      "text/plain": [
       "[{'id': 255,\n",
       "  'exercise_name': 'Feet-Elevated Glute Bridge',\n",
       "  'type_of_activity': 'cardio',\n",
       "  'type_of_equipment': 'dip belt',\n",
       "  'body_part': 'upper',\n",
       "  'type': 'push',\n",
       "  'muscle_groups_activated': 'triceps, lats, traps',\n",
       "  'instruction': 'Setup: Prepare equipment: dip belt. Ensure stable setup and safe load. Draw ribs down, keep shoulders packed and away from ears. Primary focus: triceps, lats, traps. Movement: Drive through heels to extend hips fully; pause and squeeze glutes, then lower with control. Tempo: steady pace. Dose: 5–15 minutes (RPE 6–7/10). Rest 45–90s between sets. Breathing: Inhale to prepare; exhale on the effort; inhale on the return. Coaching cues: keep neck long, ribs down, and shoulders down. Common mistakes: avoid flaring elbows or arching the back. Avoid collapsing posture or losing core brace. Safety: Keep posture tall; reduce pace if form degrades.'},\n",
       " {'id': 84,\n",
       "  'exercise_name': 'Glute Bridge',\n",
       "  'type_of_activity': 'cardio',\n",
       "  'type_of_equipment': 'dumbbells',\n",
       "  'body_part': 'lower',\n",
       "  'type': 'push',\n",
       "  'muscle_groups_activated': 'hamstrings, quads, calves',\n",
       "  'instruction': 'Setup: Hold dumbbells with a neutral, secure grip; wrists straight. Brace core, keep neutral spine, drive through whole foot. Primary focus: hamstrings, quads, calves. Movement: Drive through heels to extend hips fully; pause and squeeze glutes, then lower with control. Tempo: steady pace. Dose: 5–15 minutes (RPE 6–7/10). Rest 45–90s between sets. Breathing: Inhale to prepare; exhale on the effort; inhale on the return. Coaching cues: keep neck long, ribs down, and knees tracking over toes. Common mistakes: avoid flaring elbows or arching the back. Avoid collapsing posture or losing core brace. Safety: Keep posture tall; reduce pace if form degrades.'},\n",
       " {'id': 110,\n",
       "  'exercise_name': 'Rotational Glute Bridge',\n",
       "  'type_of_activity': 'strength',\n",
       "  'type_of_equipment': 'barbells',\n",
       "  'body_part': 'full body',\n",
       "  'type': 'stretch',\n",
       "  'muscle_groups_activated': 'legs, chest, back',\n",
       "  'instruction': 'Setup: Set barbell with collars secured; grip evenly; brace before lift. Maintain tall posture, neutral spine, and steady breathing. Primary focus: legs, chest, back. Movement: Gently enter the stretch until a mild pull is felt; hold without bouncing and keep breathing. Tempo: 3‑1‑1‑0. Dose: 1–2 sets × 30–60 sec each side. Rest 45–90s between sets. Breathing: Slow nasal breaths; exhale to deepen slightly, no pain. Coaching cues: keep neck long, ribs down, and shoulders down. Common mistakes: avoid bouncing; stay within mild discomfort. Do not bounce or hyperextend joints. Safety: Start lighter than you think; add load gradually.'},\n",
       " {'id': 411,\n",
       "  'exercise_name': 'Incline Glute Bridge',\n",
       "  'type_of_activity': 'mobility',\n",
       "  'type_of_equipment': 'jump rope',\n",
       "  'body_part': 'lower',\n",
       "  'type': 'hold',\n",
       "  'muscle_groups_activated': 'calves, glutes, hamstrings',\n",
       "  'instruction': 'Setup: Prepare equipment: jump rope. Ensure stable setup and safe load. Brace core, keep neutral spine, drive through whole foot. Primary focus: calves, glutes, hamstrings. Movement: Drive through heels to extend hips fully; pause and squeeze glutes, then lower with control. Tempo: 2‑2‑2‑0. Dose: 1–2 sets × 30–60 sec each side. Rest 45–90s between sets. Breathing: Breathe light and steady; do not brace with a breath hold. Coaching cues: keep neck long, ribs down, and knees tracking over toes. Common mistakes: avoid holding breath; keep steady tension. Avoid collapsing posture or losing core brace. Safety: Never force end range; joints should feel stable.'},\n",
       " {'id': 168,\n",
       "  'exercise_name': 'Glute Bridge Raise',\n",
       "  'type_of_activity': 'mobility',\n",
       "  'type_of_equipment': 'jump rope',\n",
       "  'body_part': 'upper',\n",
       "  'type': 'hold',\n",
       "  'muscle_groups_activated': 'lats, traps, biceps',\n",
       "  'instruction': 'Setup: Prepare equipment: jump rope. Ensure stable setup and safe load. Draw ribs down, keep shoulders packed and away from ears. Primary focus: lats, traps, biceps. Movement: Drive through heels to extend hips fully; pause and squeeze glutes, then lower with control. Tempo: 2‑2‑2‑0. Dose: 1–2 sets × 30–60 sec each side. Rest 45–90s between sets. Breathing: Breathe light and steady; do not brace with a breath hold. Coaching cues: keep neck long, ribs down, and shoulders down. Common mistakes: avoid holding breath; keep steady tension. Avoid collapsing posture or losing core brace. Safety: Never force end range; joints should feel stable.'},\n",
       " {'id': 484,\n",
       "  'exercise_name': 'Copenhagen Glute Bridge',\n",
       "  'type_of_activity': 'warm-up',\n",
       "  'type_of_equipment': 'jump rope',\n",
       "  'body_part': 'full body',\n",
       "  'type': 'push',\n",
       "  'muscle_groups_activated': 'back, core, legs',\n",
       "  'instruction': 'Setup: Prepare equipment: jump rope. Ensure stable setup and safe load. Maintain tall posture, neutral spine, and steady breathing. Primary focus: back, core, legs. Movement: Drive through heels to extend hips fully; pause and squeeze glutes, then lower with control. Tempo: 2‑2‑2‑0. Dose: 1–2 sets × 30–60 sec each side. Rest 45–90s between sets. Breathing: Inhale to prepare; exhale on the effort; inhale on the return. Coaching cues: keep neck long, ribs down, and shoulders down. Common mistakes: avoid flaring elbows or arching the back. Avoid collapsing posture or losing core brace. Safety: Stop if you feel sharp pain, dizziness, or pins‑and‑needles.'},\n",
       " {'id': 283,\n",
       "  'exercise_name': 'Glute Bridge Hold',\n",
       "  'type_of_activity': 'strength',\n",
       "  'type_of_equipment': 'dumbbells',\n",
       "  'body_part': 'lower',\n",
       "  'type': 'pull',\n",
       "  'muscle_groups_activated': 'quads, glutes, calves',\n",
       "  'instruction': 'Setup: Hold dumbbells with a neutral, secure grip; wrists straight. Brace core, keep neutral spine, drive through whole foot. Primary focus: quads, glutes, calves. Movement: Drive through heels to extend hips fully; pause and squeeze glutes, then lower with control. Tempo: 3‑1‑1‑0. Dose: 3–4 sets × 6–10 reps. Rest 45–90s between sets. Breathing: Inhale to prepare; exhale on the effort; inhale on the return. Coaching cues: keep neck long, ribs down, and elbows close. Common mistakes: avoid shrugging or using momentum. Avoid collapsing posture or losing core brace. Safety: Stop if you feel sharp pain, dizziness, or pins‑and‑needles.'},\n",
       " {'id': 100,\n",
       "  'exercise_name': 'Isometric Glute Bridge',\n",
       "  'type_of_activity': 'strength',\n",
       "  'type_of_equipment': 'bodyweight',\n",
       "  'body_part': 'core',\n",
       "  'type': 'pull',\n",
       "  'muscle_groups_activated': 'obliques, lower back, abs',\n",
       "  'instruction': 'Setup: Bodyweight only—use controlled tempo and balance. Exhale gently to brace; avoid flaring ribs or arching low back. Primary focus: obliques, lower back, abs. Movement: Drive through heels to extend hips fully; pause and squeeze glutes, then lower with control. Tempo: 3‑1‑1‑0. Dose: 3–4 sets × 6–10 reps. Rest 45–90s between sets. Breathing: Inhale to prepare; exhale on the effort; inhale on the return. Coaching cues: keep neck long, ribs down, and elbows close. Common mistakes: avoid shrugging or using momentum. Avoid collapsing posture or losing core brace. Safety: Stop if you feel sharp pain, dizziness, or pins‑and‑needles.'},\n",
       " {'id': 224,\n",
       "  'exercise_name': 'Glute Bridge Twist',\n",
       "  'type_of_activity': 'warm-up',\n",
       "  'type_of_equipment': 'pull-up bar',\n",
       "  'body_part': 'lower',\n",
       "  'type': 'hold',\n",
       "  'muscle_groups_activated': 'calves, glutes, hamstrings',\n",
       "  'instruction': 'Setup: Prepare equipment: pull-up bar. Ensure stable setup and safe load. Brace core, keep neutral spine, drive through whole foot. Primary focus: calves, glutes, hamstrings. Movement: Drive through heels to extend hips fully; pause and squeeze glutes, then lower with control. Tempo: 2‑2‑2‑0. Dose: 1–2 sets × 30–60 sec each side. Rest 45–90s between sets. Breathing: Breathe light and steady; do not brace with a breath hold. Coaching cues: keep neck long, ribs down, and knees tracking over toes. Common mistakes: avoid holding breath; keep steady tension. Avoid collapsing posture or losing core brace. Safety: Stop if you feel sharp pain, dizziness, or pins‑and‑needles.'}]"
      ]
     },
     "execution_count": 132,
     "metadata": {},
     "output_type": "execute_result"
    }
   ],
   "source": [
    "hybrid_search_with_ids_improved('How long should I perform the Feet-Elevated Glute Bridge, and what is the intensity level?')"
   ]
  },
  {
   "cell_type": "code",
   "execution_count": 133,
   "id": "660d705b-c1cd-495e-a0c3-61bf05c52f9b",
   "metadata": {},
   "outputs": [
    {
     "data": {
      "text/plain": [
       "'NONE.'"
      ]
     },
     "execution_count": 133,
     "metadata": {},
     "output_type": "execute_result"
    }
   ],
   "source": [
    "rag('How long should I perform the Feet-Elevated Glute Bridge, and what is the intensity level?')"
   ]
  },
  {
   "cell_type": "code",
   "execution_count": 130,
   "id": "fb743ca5-57a3-46c9-8cb8-a7a4e43efe5b",
   "metadata": {},
   "outputs": [
    {
     "name": "stdout",
     "output_type": "stream",
     "text": [
      "You are an expert evaluator for a (RAG) system.\n",
      "Your task is to analyze the relevance of the generated answer to the given question.\n",
      "Based on the relevance of the generated answer, you will classify it\n",
      "as \"NON_RELEVANT\", \"PARTLY_RELEVANT\", or \"RELEVANT\".\n",
      "\n",
      "Here is the data for evaluation:\n",
      "\n",
      "Question: What equipment do I need to perform the Push-Up Hold exercise?\n",
      "Generated Answer: To perform the Push-Up Hold exercise, you need a dip belt.\n",
      "\n",
      "Please analyze the content and context of the generated answer in relation to the question\n",
      "and provide your evaluation in parsable JSON without using code blocks:\n",
      "\n",
      "{\n",
      "  \"Relevance\": \"NON_RELEVANT\" | \"PARTLY_RELEVANT\" | \"RELEVANT\",\n",
      "  \"Explanation\": \"[Provide a brief explanation for your evaluation]\"\n",
      "}\n"
     ]
    }
   ],
   "source": [
    "prompt = prompt2_template.format(question=question, answer_llm=answer_llm)\n",
    "print(prompt)"
   ]
  },
  {
   "cell_type": "code",
   "execution_count": 119,
   "id": "3702bf1a-2a29-4248-a68e-054c48c2086f",
   "metadata": {},
   "outputs": [],
   "source": [
    "df_sample = df_question.sample(n=200, random_state=1)"
   ]
  },
  {
   "cell_type": "code",
   "execution_count": 120,
   "id": "6fe876c3-bb1f-4440-9350-1698f1fb2b5e",
   "metadata": {},
   "outputs": [],
   "source": [
    "sample = df_sample.to_dict(orient='records')"
   ]
  },
  {
   "cell_type": "code",
   "execution_count": 121,
   "id": "3fcaad29-ca8d-4d62-aaab-f0ae77e0b4d6",
   "metadata": {},
   "outputs": [],
   "source": [
    "from openai import OpenAI\n",
    "\n",
    "client = OpenAI()"
   ]
  },
  {
   "cell_type": "code",
   "execution_count": 101,
   "id": "27c898ba-95f2-4616-a8ea-efc6e56e6d44",
   "metadata": {},
   "outputs": [],
   "source": [
    "def llm(prompt):\n",
    "    response = client.chat.completions.create(\n",
    "        model='gpt-4o-mini',\n",
    "        messages=[{\"role\": \"user\", \"content\": prompt}]\n",
    "    )\n",
    "    \n",
    "    return response.choices[0].message.content"
   ]
  },
  {
   "cell_type": "code",
   "execution_count": 102,
   "id": "99ddc0ef-e428-4fa7-90e3-2d3f7aa475aa",
   "metadata": {},
   "outputs": [
    {
     "data": {
      "application/vnd.jupyter.widget-view+json": {
       "model_id": "e7d97f53bc8048ddb071d7cabd1f20c4",
       "version_major": 2,
       "version_minor": 0
      },
      "text/plain": [
       "  0%|          | 0/200 [00:00<?, ?it/s]"
      ]
     },
     "metadata": {},
     "output_type": "display_data"
    }
   ],
   "source": [
    "evaluations = []\n",
    "\n",
    "for record in tqdm(sample):\n",
    "    question = record['question']\n",
    "    answer_llm = rag(question) \n",
    "\n",
    "    prompt = prompt2_template.format(\n",
    "        question=question,\n",
    "        answer_llm=answer_llm\n",
    "    )\n",
    "\n",
    "    evaluation = llm(prompt)\n",
    "    evaluation = json.loads(evaluation)\n",
    "\n",
    "    evaluations.append((record, answer_llm, evaluation))"
   ]
  },
  {
   "cell_type": "code",
   "execution_count": 105,
   "id": "935f6bb1-0312-4426-8563-edcc4fc859c2",
   "metadata": {},
   "outputs": [],
   "source": [
    "df_eval = pd.DataFrame(evaluations, columns=['record', 'answer', 'evaluation'])\n",
    "\n",
    "df_eval['id'] = df_eval.record.apply(lambda d: d['id'])\n",
    "df_eval['question'] = df_eval.record.apply(lambda d: d['question'])\n",
    "\n",
    "df_eval['relevance'] = df_eval.evaluation.apply(lambda d: d['Relevance'])\n",
    "df_eval['explanation'] = df_eval.evaluation.apply(lambda d: d['Explanation'])\n",
    "\n",
    "del df_eval['record']\n",
    "del df_eval['evaluation']"
   ]
  },
  {
   "cell_type": "code",
   "execution_count": 106,
   "id": "593c569d-c1c5-496b-86dd-4ff0bf99bde6",
   "metadata": {},
   "outputs": [
    {
     "data": {
      "text/plain": [
       "relevance\n",
       "RELEVANT           0.67\n",
       "NON_RELEVANT       0.19\n",
       "PARTLY_RELEVANT    0.14\n",
       "Name: proportion, dtype: float64"
      ]
     },
     "execution_count": 106,
     "metadata": {},
     "output_type": "execute_result"
    }
   ],
   "source": [
    "df_eval.relevance.value_counts(normalize=True)"
   ]
  },
  {
   "cell_type": "code",
   "execution_count": 107,
   "id": "5bc9c1d2-02ba-4e04-beb3-f75c4ac905a9",
   "metadata": {},
   "outputs": [],
   "source": [
    "df_eval.to_csv('../data/rag-eval-gpt-4o-mini.csv', index=False)"
   ]
  },
  {
   "cell_type": "code",
   "execution_count": 113,
   "id": "f0beaa33-177b-4996-9a7e-aa4ba46e8aaa",
   "metadata": {},
   "outputs": [
    {
     "name": "stdout",
     "output_type": "stream",
     "text": [
      "How long should I perform the Feet-Elevated Glute Bridge, and what is the intensity level?\n",
      "--------------------------------------------------------------------------------\n",
      "How many sets and duration should I aim for when doing this exercise?\n",
      "--------------------------------------------------------------------------------\n",
      "What specific muscle groups are primarily activated when performing the Static Calf Raise Reach?\n",
      "--------------------------------------------------------------------------------\n",
      "What equipment do I need to perform the Standing Tricep Extension Twist?\n",
      "--------------------------------------------------------------------------------\n",
      "How many sets and duration should I aim for when doing the Paused Push-Up Raise?\n",
      "--------------------------------------------------------------------------------\n"
     ]
    }
   ],
   "source": [
    "mask = df_eval['relevance'].eq('NON_RELEVANT')\n",
    "qs = df_eval.loc[mask, 'question']\n",
    "\n",
    "for q in qs.head():\n",
    "    print(q)\n",
    "    print('-' * 80)"
   ]
  },
  {
   "cell_type": "code",
   "execution_count": 114,
   "id": "e2d20b0f-725e-4cfb-a36b-9d3cf9357f9f",
   "metadata": {},
   "outputs": [
    {
     "data": {
      "text/plain": [
       "[{'id': 255,\n",
       "  'exercise_name': 'Feet-Elevated Glute Bridge',\n",
       "  'type_of_activity': 'cardio',\n",
       "  'type_of_equipment': 'dip belt',\n",
       "  'body_part': 'upper',\n",
       "  'type': 'push',\n",
       "  'muscle_groups_activated': 'triceps, lats, traps',\n",
       "  'instruction': 'Setup: Prepare equipment: dip belt. Ensure stable setup and safe load. Draw ribs down, keep shoulders packed and away from ears. Primary focus: triceps, lats, traps. Movement: Drive through heels to extend hips fully; pause and squeeze glutes, then lower with control. Tempo: steady pace. Dose: 5–15 minutes (RPE 6–7/10). Rest 45–90s between sets. Breathing: Inhale to prepare; exhale on the effort; inhale on the return. Coaching cues: keep neck long, ribs down, and shoulders down. Common mistakes: avoid flaring elbows or arching the back. Avoid collapsing posture or losing core brace. Safety: Keep posture tall; reduce pace if form degrades.'},\n",
       " {'id': 84,\n",
       "  'exercise_name': 'Glute Bridge',\n",
       "  'type_of_activity': 'cardio',\n",
       "  'type_of_equipment': 'dumbbells',\n",
       "  'body_part': 'lower',\n",
       "  'type': 'push',\n",
       "  'muscle_groups_activated': 'hamstrings, quads, calves',\n",
       "  'instruction': 'Setup: Hold dumbbells with a neutral, secure grip; wrists straight. Brace core, keep neutral spine, drive through whole foot. Primary focus: hamstrings, quads, calves. Movement: Drive through heels to extend hips fully; pause and squeeze glutes, then lower with control. Tempo: steady pace. Dose: 5–15 minutes (RPE 6–7/10). Rest 45–90s between sets. Breathing: Inhale to prepare; exhale on the effort; inhale on the return. Coaching cues: keep neck long, ribs down, and knees tracking over toes. Common mistakes: avoid flaring elbows or arching the back. Avoid collapsing posture or losing core brace. Safety: Keep posture tall; reduce pace if form degrades.'},\n",
       " {'id': 110,\n",
       "  'exercise_name': 'Rotational Glute Bridge',\n",
       "  'type_of_activity': 'strength',\n",
       "  'type_of_equipment': 'barbells',\n",
       "  'body_part': 'full body',\n",
       "  'type': 'stretch',\n",
       "  'muscle_groups_activated': 'legs, chest, back',\n",
       "  'instruction': 'Setup: Set barbell with collars secured; grip evenly; brace before lift. Maintain tall posture, neutral spine, and steady breathing. Primary focus: legs, chest, back. Movement: Gently enter the stretch until a mild pull is felt; hold without bouncing and keep breathing. Tempo: 3‑1‑1‑0. Dose: 1–2 sets × 30–60 sec each side. Rest 45–90s between sets. Breathing: Slow nasal breaths; exhale to deepen slightly, no pain. Coaching cues: keep neck long, ribs down, and shoulders down. Common mistakes: avoid bouncing; stay within mild discomfort. Do not bounce or hyperextend joints. Safety: Start lighter than you think; add load gradually.'},\n",
       " {'id': 411,\n",
       "  'exercise_name': 'Incline Glute Bridge',\n",
       "  'type_of_activity': 'mobility',\n",
       "  'type_of_equipment': 'jump rope',\n",
       "  'body_part': 'lower',\n",
       "  'type': 'hold',\n",
       "  'muscle_groups_activated': 'calves, glutes, hamstrings',\n",
       "  'instruction': 'Setup: Prepare equipment: jump rope. Ensure stable setup and safe load. Brace core, keep neutral spine, drive through whole foot. Primary focus: calves, glutes, hamstrings. Movement: Drive through heels to extend hips fully; pause and squeeze glutes, then lower with control. Tempo: 2‑2‑2‑0. Dose: 1–2 sets × 30–60 sec each side. Rest 45–90s between sets. Breathing: Breathe light and steady; do not brace with a breath hold. Coaching cues: keep neck long, ribs down, and knees tracking over toes. Common mistakes: avoid holding breath; keep steady tension. Avoid collapsing posture or losing core brace. Safety: Never force end range; joints should feel stable.'},\n",
       " {'id': 168,\n",
       "  'exercise_name': 'Glute Bridge Raise',\n",
       "  'type_of_activity': 'mobility',\n",
       "  'type_of_equipment': 'jump rope',\n",
       "  'body_part': 'upper',\n",
       "  'type': 'hold',\n",
       "  'muscle_groups_activated': 'lats, traps, biceps',\n",
       "  'instruction': 'Setup: Prepare equipment: jump rope. Ensure stable setup and safe load. Draw ribs down, keep shoulders packed and away from ears. Primary focus: lats, traps, biceps. Movement: Drive through heels to extend hips fully; pause and squeeze glutes, then lower with control. Tempo: 2‑2‑2‑0. Dose: 1–2 sets × 30–60 sec each side. Rest 45–90s between sets. Breathing: Breathe light and steady; do not brace with a breath hold. Coaching cues: keep neck long, ribs down, and shoulders down. Common mistakes: avoid holding breath; keep steady tension. Avoid collapsing posture or losing core brace. Safety: Never force end range; joints should feel stable.'},\n",
       " {'id': 484,\n",
       "  'exercise_name': 'Copenhagen Glute Bridge',\n",
       "  'type_of_activity': 'warm-up',\n",
       "  'type_of_equipment': 'jump rope',\n",
       "  'body_part': 'full body',\n",
       "  'type': 'push',\n",
       "  'muscle_groups_activated': 'back, core, legs',\n",
       "  'instruction': 'Setup: Prepare equipment: jump rope. Ensure stable setup and safe load. Maintain tall posture, neutral spine, and steady breathing. Primary focus: back, core, legs. Movement: Drive through heels to extend hips fully; pause and squeeze glutes, then lower with control. Tempo: 2‑2‑2‑0. Dose: 1–2 sets × 30–60 sec each side. Rest 45–90s between sets. Breathing: Inhale to prepare; exhale on the effort; inhale on the return. Coaching cues: keep neck long, ribs down, and shoulders down. Common mistakes: avoid flaring elbows or arching the back. Avoid collapsing posture or losing core brace. Safety: Stop if you feel sharp pain, dizziness, or pins‑and‑needles.'},\n",
       " {'id': 283,\n",
       "  'exercise_name': 'Glute Bridge Hold',\n",
       "  'type_of_activity': 'strength',\n",
       "  'type_of_equipment': 'dumbbells',\n",
       "  'body_part': 'lower',\n",
       "  'type': 'pull',\n",
       "  'muscle_groups_activated': 'quads, glutes, calves',\n",
       "  'instruction': 'Setup: Hold dumbbells with a neutral, secure grip; wrists straight. Brace core, keep neutral spine, drive through whole foot. Primary focus: quads, glutes, calves. Movement: Drive through heels to extend hips fully; pause and squeeze glutes, then lower with control. Tempo: 3‑1‑1‑0. Dose: 3–4 sets × 6–10 reps. Rest 45–90s between sets. Breathing: Inhale to prepare; exhale on the effort; inhale on the return. Coaching cues: keep neck long, ribs down, and elbows close. Common mistakes: avoid shrugging or using momentum. Avoid collapsing posture or losing core brace. Safety: Stop if you feel sharp pain, dizziness, or pins‑and‑needles.'},\n",
       " {'id': 100,\n",
       "  'exercise_name': 'Isometric Glute Bridge',\n",
       "  'type_of_activity': 'strength',\n",
       "  'type_of_equipment': 'bodyweight',\n",
       "  'body_part': 'core',\n",
       "  'type': 'pull',\n",
       "  'muscle_groups_activated': 'obliques, lower back, abs',\n",
       "  'instruction': 'Setup: Bodyweight only—use controlled tempo and balance. Exhale gently to brace; avoid flaring ribs or arching low back. Primary focus: obliques, lower back, abs. Movement: Drive through heels to extend hips fully; pause and squeeze glutes, then lower with control. Tempo: 3‑1‑1‑0. Dose: 3–4 sets × 6–10 reps. Rest 45–90s between sets. Breathing: Inhale to prepare; exhale on the effort; inhale on the return. Coaching cues: keep neck long, ribs down, and elbows close. Common mistakes: avoid shrugging or using momentum. Avoid collapsing posture or losing core brace. Safety: Stop if you feel sharp pain, dizziness, or pins‑and‑needles.'},\n",
       " {'id': 224,\n",
       "  'exercise_name': 'Glute Bridge Twist',\n",
       "  'type_of_activity': 'warm-up',\n",
       "  'type_of_equipment': 'pull-up bar',\n",
       "  'body_part': 'lower',\n",
       "  'type': 'hold',\n",
       "  'muscle_groups_activated': 'calves, glutes, hamstrings',\n",
       "  'instruction': 'Setup: Prepare equipment: pull-up bar. Ensure stable setup and safe load. Brace core, keep neutral spine, drive through whole foot. Primary focus: calves, glutes, hamstrings. Movement: Drive through heels to extend hips fully; pause and squeeze glutes, then lower with control. Tempo: 2‑2‑2‑0. Dose: 1–2 sets × 30–60 sec each side. Rest 45–90s between sets. Breathing: Breathe light and steady; do not brace with a breath hold. Coaching cues: keep neck long, ribs down, and knees tracking over toes. Common mistakes: avoid holding breath; keep steady tension. Avoid collapsing posture or losing core brace. Safety: Stop if you feel sharp pain, dizziness, or pins‑and‑needles.'}]"
      ]
     },
     "execution_count": 114,
     "metadata": {},
     "output_type": "execute_result"
    }
   ],
   "source": [
    "hybrid_search_with_ids_improved('How long should I perform the Feet-Elevated Glute Bridge, and what is the intensity level?')"
   ]
  },
  {
   "cell_type": "code",
   "execution_count": 115,
   "id": "325d0c04-679c-4a5b-9455-087643150198",
   "metadata": {},
   "outputs": [
    {
     "data": {
      "text/plain": [
       "'NONE.'"
      ]
     },
     "execution_count": 115,
     "metadata": {},
     "output_type": "execute_result"
    }
   ],
   "source": [
    "rag('How long should I perform the Feet-Elevated Glute Bridge, and what is the intensity level?')"
   ]
  },
  {
   "cell_type": "markdown",
   "id": "5982562b-f7a5-444f-80fb-5cda46eaf159",
   "metadata": {},
   "source": [
    "There is information about the exercise in the search result, but the gpt4o-mini considered this as NONE"
   ]
  },
  {
   "cell_type": "code",
   "execution_count": 116,
   "id": "722bbfb7-729c-41ff-b3b1-d3574d7b6e71",
   "metadata": {},
   "outputs": [],
   "source": [
    "def llm(prompt,model='gpt-4o-mini'):\n",
    "    response = client.chat.completions.create(\n",
    "        model=model,\n",
    "        messages=[{\"role\": \"user\", \"content\": prompt}]\n",
    "    )\n",
    "    \n",
    "    return response.choices[0].message.content"
   ]
  },
  {
   "cell_type": "code",
   "execution_count": 134,
   "id": "5b71a90e-8ad3-4679-9ab3-2a0da4b63f1b",
   "metadata": {},
   "outputs": [],
   "source": [
    "def rag(query,model='gpt-4o-mini'):\n",
    "    search_results = hybrid_search_with_ids_improved(query)\n",
    "    prompt = build_prompt(query, search_results)\n",
    "    answer = llm(prompt,model=model)\n",
    "    return answer"
   ]
  },
  {
   "cell_type": "code",
   "execution_count": 140,
   "id": "e78b075c-e1d7-4450-80bd-c18dc0100548",
   "metadata": {},
   "outputs": [
    {
     "data": {
      "text/plain": [
       "'Perform the Feet-Elevated Glute Bridge for 5 to 15 minutes at an intensity level of RPE 6–7 out of 10.  \\n\\nInstructions for fitness use:  \\n- Use a dip belt for added load and ensure a stable setup.  \\n- Draw ribs down, keep shoulders packed and away from ears, and maintain good posture.  \\n- Drive through your heels to fully extend the hips, pause and squeeze the glutes, then lower with control at a steady tempo.  \\n- Rest 45–90 seconds between sets.  \\n- Breathe by inhaling to prepare, exhaling on the effort, and inhaling on the return.  \\n- Keep your neck long, ribs down, and shoulders down. Avoid flaring elbows, arching the back, collapsing posture, or losing core brace.  \\n- Reduce pace if form degrades to maintain safety.'"
      ]
     },
     "execution_count": 140,
     "metadata": {},
     "output_type": "execute_result"
    }
   ],
   "source": [
    "rag('How long should I perform the Feet-Elevated Glute Bridge, and what is the intensity level?',model='gpt-4.1-mini')"
   ]
  },
  {
   "cell_type": "code",
   "execution_count": 137,
   "id": "a57994da-6592-4cd3-b22d-7a46404b9807",
   "metadata": {},
   "outputs": [
    {
     "data": {
      "application/vnd.jupyter.widget-view+json": {
       "model_id": "450a2d83847b4dd8b038179946dc4804",
       "version_major": 2,
       "version_minor": 0
      },
      "text/plain": [
       "  0%|          | 0/200 [00:00<?, ?it/s]"
      ]
     },
     "metadata": {},
     "output_type": "display_data"
    }
   ],
   "source": [
    "evaluations_gpt4_1 = []\n",
    "\n",
    "for record in tqdm(sample):\n",
    "    question = record['question']\n",
    "    answer_llm = rag(question, model='gpt-4.1') \n",
    "\n",
    "    prompt = prompt2_template.format(\n",
    "        question=question,\n",
    "        answer_llm=answer_llm\n",
    "    )\n",
    "\n",
    "    evaluation = llm(prompt)\n",
    "    evaluation = json.loads(evaluation)\n",
    "    \n",
    "    evaluations_gpt4_1.append((record, answer_llm, evaluation))"
   ]
  },
  {
   "cell_type": "code",
   "execution_count": 141,
   "id": "1277acfa-b779-4649-959d-bcd495c86d54",
   "metadata": {},
   "outputs": [],
   "source": [
    "df_eval = pd.DataFrame(evaluations_gpt4_1, columns=['record', 'answer', 'evaluation'])\n",
    "\n",
    "df_eval['id'] = df_eval.record.apply(lambda d: d['id'])\n",
    "df_eval['question'] = df_eval.record.apply(lambda d: d['question'])\n",
    "\n",
    "df_eval['relevance'] = df_eval.evaluation.apply(lambda d: d['Relevance'])\n",
    "df_eval['explanation'] = df_eval.evaluation.apply(lambda d: d['Explanation'])\n",
    "\n",
    "del df_eval['record']\n",
    "del df_eval['evaluation']"
   ]
  },
  {
   "cell_type": "code",
   "execution_count": 142,
   "id": "2fd9e12b-7300-4ddd-91c6-8ad3bb2a8133",
   "metadata": {},
   "outputs": [
    {
     "data": {
      "text/plain": [
       "relevance\n",
       "RELEVANT           155\n",
       "PARTLY_RELEVANT     28\n",
       "NON_RELEVANT        17\n",
       "Name: count, dtype: int64"
      ]
     },
     "execution_count": 142,
     "metadata": {},
     "output_type": "execute_result"
    }
   ],
   "source": [
    "df_eval.relevance.value_counts()"
   ]
  },
  {
   "cell_type": "code",
   "execution_count": 143,
   "id": "6c62f7ba-302c-475d-b700-821fa2349f33",
   "metadata": {},
   "outputs": [
    {
     "data": {
      "text/plain": [
       "relevance\n",
       "RELEVANT           0.775\n",
       "PARTLY_RELEVANT    0.140\n",
       "NON_RELEVANT       0.085\n",
       "Name: proportion, dtype: float64"
      ]
     },
     "execution_count": 143,
     "metadata": {},
     "output_type": "execute_result"
    }
   ],
   "source": [
    "df_eval.relevance.value_counts(normalize=True)"
   ]
  },
  {
   "cell_type": "code",
   "execution_count": 144,
   "id": "688560d3-9612-4c78-a7f8-3a533d5b75b3",
   "metadata": {},
   "outputs": [],
   "source": [
    "df_eval.to_csv('../data/rag-eval-gpt-4_1.csv', index=False)"
   ]
  },
  {
   "cell_type": "code",
   "execution_count": null,
   "id": "6ed57e65-d3a1-47c1-acb0-a61d10badfda",
   "metadata": {},
   "outputs": [],
   "source": []
  }
 ],
 "metadata": {
  "kernelspec": {
   "display_name": "Python 3 (ipykernel)",
   "language": "python",
   "name": "python3"
  },
  "language_info": {
   "codemirror_mode": {
    "name": "ipython",
    "version": 3
   },
   "file_extension": ".py",
   "mimetype": "text/x-python",
   "name": "python",
   "nbconvert_exporter": "python",
   "pygments_lexer": "ipython3",
   "version": "3.12.8"
  }
 },
 "nbformat": 4,
 "nbformat_minor": 5
}
