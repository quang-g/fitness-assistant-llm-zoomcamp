{
 "cells": [
  {
   "cell_type": "markdown",
   "id": "6bfe8493-3eb2-4ff8-a297-2cec67c0119d",
   "metadata": {},
   "source": [
    "## Ingestion"
   ]
  },
  {
   "cell_type": "code",
   "execution_count": 1,
   "id": "f7ee64bd-47d8-471a-9e7a-df33aec42ad4",
   "metadata": {},
   "outputs": [],
   "source": [
    "import pandas as pd\n",
    "import json\n",
    "from tqdm.auto import tqdm\n",
    "from sentence_transformers import SentenceTransformer\n",
    "from elasticsearch import Elasticsearch"
   ]
  },
  {
   "cell_type": "code",
   "execution_count": 2,
   "id": "e42bb095-3fe7-4566-8ce6-c009e44d1c25",
   "metadata": {},
   "outputs": [],
   "source": [
    "df = pd.read_csv('../data/fitness_exercises_500.csv')"
   ]
  },
  {
   "cell_type": "code",
   "execution_count": 3,
   "id": "f141847e-a06b-4083-b94c-2ae232a838b2",
   "metadata": {},
   "outputs": [
    {
     "data": {
      "text/html": [
       "<div>\n",
       "<style scoped>\n",
       "    .dataframe tbody tr th:only-of-type {\n",
       "        vertical-align: middle;\n",
       "    }\n",
       "\n",
       "    .dataframe tbody tr th {\n",
       "        vertical-align: top;\n",
       "    }\n",
       "\n",
       "    .dataframe thead th {\n",
       "        text-align: right;\n",
       "    }\n",
       "</style>\n",
       "<table border=\"1\" class=\"dataframe\">\n",
       "  <thead>\n",
       "    <tr style=\"text-align: right;\">\n",
       "      <th></th>\n",
       "      <th>id</th>\n",
       "      <th>exercise_name</th>\n",
       "      <th>type_of_activity</th>\n",
       "      <th>type_of_equipment</th>\n",
       "      <th>body_part</th>\n",
       "      <th>type</th>\n",
       "      <th>muscle_groups_activated</th>\n",
       "      <th>instruction</th>\n",
       "    </tr>\n",
       "  </thead>\n",
       "  <tbody>\n",
       "    <tr>\n",
       "      <th>0</th>\n",
       "      <td>0</td>\n",
       "      <td>Push-Up Hold</td>\n",
       "      <td>mobility</td>\n",
       "      <td>dip belt</td>\n",
       "      <td>lower</td>\n",
       "      <td>stretch</td>\n",
       "      <td>glutes, quads, hamstrings</td>\n",
       "      <td>Setup: Prepare equipment: dip belt. Ensure sta...</td>\n",
       "    </tr>\n",
       "    <tr>\n",
       "      <th>1</th>\n",
       "      <td>1</td>\n",
       "      <td>Explosive Lateral Raise Pulse</td>\n",
       "      <td>cardio</td>\n",
       "      <td>barbells</td>\n",
       "      <td>full body</td>\n",
       "      <td>hold</td>\n",
       "      <td>back, chest, legs</td>\n",
       "      <td>Setup: Set barbell with collars secured; grip ...</td>\n",
       "    </tr>\n",
       "    <tr>\n",
       "      <th>2</th>\n",
       "      <td>2</td>\n",
       "      <td>Rotational Jumping Jack Iso</td>\n",
       "      <td>warm-up</td>\n",
       "      <td>barbells</td>\n",
       "      <td>upper</td>\n",
       "      <td>push</td>\n",
       "      <td>biceps, forearms, chest</td>\n",
       "      <td>Setup: Set barbell with collars secured; grip ...</td>\n",
       "    </tr>\n",
       "    <tr>\n",
       "      <th>3</th>\n",
       "      <td>3</td>\n",
       "      <td>Wide-Grip Running</td>\n",
       "      <td>strength</td>\n",
       "      <td>kettlebells</td>\n",
       "      <td>upper</td>\n",
       "      <td>pull</td>\n",
       "      <td>deltoids, triceps, forearms</td>\n",
       "      <td>Setup: Place kettlebell close to midline; hing...</td>\n",
       "    </tr>\n",
       "    <tr>\n",
       "      <th>4</th>\n",
       "      <td>4</td>\n",
       "      <td>Decline Dips</td>\n",
       "      <td>cardio</td>\n",
       "      <td>barbells</td>\n",
       "      <td>core</td>\n",
       "      <td>stretch</td>\n",
       "      <td>abs, lower back, obliques</td>\n",
       "      <td>Setup: Set barbell with collars secured; grip ...</td>\n",
       "    </tr>\n",
       "  </tbody>\n",
       "</table>\n",
       "</div>"
      ],
      "text/plain": [
       "   id                  exercise_name type_of_activity type_of_equipment  \\\n",
       "0   0                   Push-Up Hold         mobility          dip belt   \n",
       "1   1  Explosive Lateral Raise Pulse           cardio          barbells   \n",
       "2   2    Rotational Jumping Jack Iso          warm-up          barbells   \n",
       "3   3              Wide-Grip Running         strength       kettlebells   \n",
       "4   4                   Decline Dips           cardio          barbells   \n",
       "\n",
       "   body_part     type      muscle_groups_activated  \\\n",
       "0      lower  stretch    glutes, quads, hamstrings   \n",
       "1  full body     hold            back, chest, legs   \n",
       "2      upper     push      biceps, forearms, chest   \n",
       "3      upper     pull  deltoids, triceps, forearms   \n",
       "4       core  stretch    abs, lower back, obliques   \n",
       "\n",
       "                                         instruction  \n",
       "0  Setup: Prepare equipment: dip belt. Ensure sta...  \n",
       "1  Setup: Set barbell with collars secured; grip ...  \n",
       "2  Setup: Set barbell with collars secured; grip ...  \n",
       "3  Setup: Place kettlebell close to midline; hing...  \n",
       "4  Setup: Set barbell with collars secured; grip ...  "
      ]
     },
     "execution_count": 3,
     "metadata": {},
     "output_type": "execute_result"
    }
   ],
   "source": [
    "df.head()"
   ]
  },
  {
   "cell_type": "code",
   "execution_count": 4,
   "id": "7199db95-98bb-4ef4-82bf-bbb6f8a90eb4",
   "metadata": {},
   "outputs": [],
   "source": [
    "# import minsearch\n",
    "model_name = 'multi-qa-MiniLM-L6-cos-v1'\n",
    "model = SentenceTransformer(model_name)"
   ]
  },
  {
   "cell_type": "code",
   "execution_count": 5,
   "id": "afd24071-f88a-490b-b5e8-601b7b073de2",
   "metadata": {},
   "outputs": [
    {
     "data": {
      "text/plain": [
       "Index(['id', 'exercise_name', 'type_of_activity', 'type_of_equipment',\n",
       "       'body_part', 'type', 'muscle_groups_activated', 'instruction'],\n",
       "      dtype='object')"
      ]
     },
     "execution_count": 5,
     "metadata": {},
     "output_type": "execute_result"
    }
   ],
   "source": [
    "df.columns"
   ]
  },
  {
   "cell_type": "code",
   "execution_count": 6,
   "id": "ec851d79-8617-480a-85d3-9fc364cc750b",
   "metadata": {},
   "outputs": [],
   "source": [
    "documents = df.to_dict(orient='records')"
   ]
  },
  {
   "cell_type": "code",
   "execution_count": 7,
   "id": "3acfbdb5-a15d-482c-92cd-960f3b156e5f",
   "metadata": {},
   "outputs": [
    {
     "data": {
      "text/plain": [
       "{'id': 0,\n",
       " 'exercise_name': 'Push-Up Hold',\n",
       " 'type_of_activity': 'mobility',\n",
       " 'type_of_equipment': 'dip belt',\n",
       " 'body_part': 'lower',\n",
       " 'type': 'stretch',\n",
       " 'muscle_groups_activated': 'glutes, quads, hamstrings',\n",
       " 'instruction': 'Setup: Prepare equipment: dip belt. Ensure stable setup and safe load. Brace core, keep neutral spine, drive through whole foot. Primary focus: glutes, quads, hamstrings. Movement: Gently enter the stretch until a mild pull is felt; hold without bouncing and keep breathing. Tempo: 2‑2‑2‑0. Dose: 1–2 sets × 30–60 sec each side. Rest 45–90s between sets. Breathing: Slow nasal breaths; exhale to deepen slightly, no pain. Coaching cues: keep neck long, ribs down, and knees tracking over toes. Common mistakes: avoid bouncing; stay within mild discomfort. Do not bounce or hyperextend joints. Safety: Never force end range; joints should feel stable.'}"
      ]
     },
     "execution_count": 7,
     "metadata": {},
     "output_type": "execute_result"
    }
   ],
   "source": [
    "documents[0]"
   ]
  },
  {
   "cell_type": "code",
   "execution_count": 16,
   "id": "b6aa8b32-aab3-413e-99da-efba4ecadc62",
   "metadata": {},
   "outputs": [],
   "source": [
    "for doc in tqdm(documents):\n",
    "    question = doc['question']\n",
    "    text  = doc['text']\n",
    "    qt = question + \" \" + text\n",
    "\n",
    "    doc['question_vector'] = model.encode(question)\n",
    "    doc['text_vector'] = model.encode(text)\n",
    "    doc['question_text_vector'] = model.encode(qt)"
   ]
  },
  {
   "cell_type": "code",
   "execution_count": 17,
   "id": "48d951db-b450-4aab-9d49-93e65722e437",
   "metadata": {},
   "outputs": [
    {
     "data": {
      "text/plain": [
       "<minsearch.Index at 0x15683ff50>"
      ]
     },
     "execution_count": 17,
     "metadata": {},
     "output_type": "execute_result"
    }
   ],
   "source": [
    "index.fit(documents)"
   ]
  },
  {
   "cell_type": "code",
   "execution_count": 18,
   "id": "a6511f8a-c8f6-4a23-a63b-5d738b7434d9",
   "metadata": {},
   "outputs": [],
   "source": [
    "query = 'give me leg exercises for hamstrings'"
   ]
  },
  {
   "cell_type": "markdown",
   "id": "7e3bb792-a22f-45cb-8bc3-f45863d87fb7",
   "metadata": {},
   "source": [
    "## Implementing RAG Flow"
   ]
  },
  {
   "cell_type": "code",
   "execution_count": 19,
   "id": "8d7cff77-234f-4805-8838-a393b1fb0d20",
   "metadata": {},
   "outputs": [],
   "source": [
    "from google import genai"
   ]
  },
  {
   "cell_type": "code",
   "execution_count": 20,
   "id": "ef9f8451-5d0f-446e-b2de-9d052d8d84c2",
   "metadata": {},
   "outputs": [],
   "source": [
    "client = genai.Client()"
   ]
  },
  {
   "cell_type": "code",
   "execution_count": 21,
   "id": "6b3a7635-ae60-4e84-be7a-4dc3834c388f",
   "metadata": {},
   "outputs": [],
   "source": [
    "def search(query):\n",
    "    boost = {}\n",
    "\n",
    "    results = index.search(\n",
    "        query=query,\n",
    "        boost_dict=boost,\n",
    "        filter_dict={},\n",
    "        num_results=10\n",
    "    )\n",
    "\n",
    "    return results"
   ]
  },
  {
   "cell_type": "code",
   "execution_count": 22,
   "id": "30ed1cae-81a3-4907-af28-5144065a440b",
   "metadata": {},
   "outputs": [
    {
     "data": {
      "text/plain": [
       "{'id': 0,\n",
       " 'exercise_name': 'Push-Up Hold',\n",
       " 'type_of_activity': 'mobility',\n",
       " 'type_of_equipment': 'dip belt',\n",
       " 'body_part': 'lower',\n",
       " 'type': 'stretch',\n",
       " 'muscle_groups_activated': 'glutes, quads, hamstrings',\n",
       " 'instruction': 'Setup: Prepare equipment: dip belt. Ensure stable setup and safe load. Brace core, keep neutral spine, drive through whole foot. Primary focus: glutes, quads, hamstrings. Movement: Gently enter the stretch until a mild pull is felt; hold without bouncing and keep breathing. Tempo: 2‑2‑2‑0. Dose: 1–2 sets × 30–60 sec each side. Rest 45–90s between sets. Breathing: Slow nasal breaths; exhale to deepen slightly, no pain. Coaching cues: keep neck long, ribs down, and knees tracking over toes. Common mistakes: avoid bouncing; stay within mild discomfort. Do not bounce or hyperextend joints. Safety: Never force end range; joints should feel stable.'}"
      ]
     },
     "execution_count": 22,
     "metadata": {},
     "output_type": "execute_result"
    }
   ],
   "source": [
    "documents[0]"
   ]
  },
  {
   "cell_type": "code",
   "execution_count": 23,
   "id": "12bd96e8-13cd-4063-94ca-1f6103221c6d",
   "metadata": {},
   "outputs": [],
   "source": [
    "#We want the LLM to put the document content in the context of the answer\n",
    "prompt_template = \"\"\"\n",
    "    You're a professional fitness assistant. Answer the QUESTION based only on the CONTEXT provided from the exercise & fitness database.  \n",
    "    \n",
    "    - Use only the facts from the CONTEXT when answering the QUESTION.  \n",
    "    - If the CONTEXT does not contain the answer, respond with: NONE.  \n",
    "    - Keep your answer clear, concise, and detail with instruction for fitness use.  \n",
    "    \n",
    "    QUESTION: {question}  \n",
    "    \n",
    "    CONTEXT:  \n",
    "    {context}  \n",
    "\"\"\".strip()\n",
    "\n",
    "entry_template = \"\"\"\n",
    "exercise_name: {exercise_name}',\n",
    "type_of_activity: {type_of_activity},\n",
    "type_of_equipment: {type_of_equipment},\n",
    "body_part: {body_part},\n",
    "type: {type},\n",
    "muscle_groups_activated: {muscle_groups_activated},\n",
    "instruction: {instruction}\n",
    "\"\"\".strip()\n",
    "\n",
    "def build_prompt(query, search_results):    \n",
    "    context = \"\"\n",
    "    \n",
    "    for doc in search_results:\n",
    "        context = context + entry_template.format(**doc) + \"\\n\\n\"\n",
    "    \n",
    "    prompt = prompt_template.format(question=query, context=context).strip()\n",
    "    return prompt"
   ]
  },
  {
   "cell_type": "code",
   "execution_count": 24,
   "id": "bc69caa8-966a-4d38-b519-e779ad8055fa",
   "metadata": {},
   "outputs": [],
   "source": [
    "def llm(prompt):\n",
    "    response = client.models.generate_content(\n",
    "    model=\"gemini-2.5-flash\",\n",
    "    contents=prompt\n",
    "    )\n",
    "\n",
    "    return response.text"
   ]
  },
  {
   "cell_type": "code",
   "execution_count": 25,
   "id": "24513518-6e49-49d1-80b5-088158b21395",
   "metadata": {},
   "outputs": [],
   "source": [
    "def rag(query):\n",
    "    search_results = search(query)\n",
    "    prompt = build_prompt(query, search_results)\n",
    "    answer = llm(prompt)\n",
    "    return answer"
   ]
  },
  {
   "cell_type": "code",
   "execution_count": 26,
   "id": "03a1cd39-82b5-40bb-b1df-6f0802207614",
   "metadata": {},
   "outputs": [
    {
     "name": "stdout",
     "output_type": "stream",
     "text": [
      "Here are some core exercises that also help your back:\n",
      "\n",
      "**1. Wide-Grip Face Pull Twist**\n",
      "*   **Equipment:** Kettlebells\n",
      "*   **Muscle Groups Activated:** Lower back, abs, obliques\n",
      "*   **Instructions:** Place kettlebell close to midline; hinge to grip; pack shoulders. Exhale gently to brace; avoid flaring ribs or arching low back. Pull elbows back toward hips, squeeze shoulder blades, then return slowly without shrugging. Keep neck long, ribs down, and shoulders down. Avoid flaring elbows or arching the back. Avoid collapsing posture or losing core brace. Keep bell close to centerline to protect lower back.\n",
      "*   **Dose:** 3–4 sets × 6–10 reps. Rest 45–90s between sets.\n",
      "\n",
      "**2. Feet-Elevated Deadlift Combo**\n",
      "*   **Equipment:** Dip belt\n",
      "*   **Muscle Groups Activated:** Abs, obliques, lower back\n",
      "*   **Instructions:** Prepare equipment: dip belt. Ensure stable setup and safe load. Exhale gently to brace; avoid flaring ribs or arching low back. Hinge at hips with a flat back, push hips back, then extend to stand tall; keep bar/bell close to shins. Keep neck long, ribs down, and shoulders down. Avoid flaring elbows or arching the back. Avoid collapsing posture or losing core brace. Stop if you feel sharp pain, dizziness, or pins‑and‑needles.\n",
      "*   **Dose:** 3–4 sets × 6–10 reps. Rest 45–90s between sets.\n",
      "\n",
      "**3. Face Pull Series**\n",
      "*   **Equipment:** Treadmill\n",
      "*   **Muscle Groups Activated:** Lower back, obliques, abs\n",
      "*   **Instructions:** Prepare equipment: treadmill. Ensure stable setup and safe load. Exhale gently to brace; avoid flaring ribs or arching low back. Pull elbows back toward hips, squeeze shoulder blades, then return slowly without shrugging. Keep neck long, ribs down, and shoulders down. Avoid flaring elbows or arching the back. Avoid collapsing posture or losing core brace. Stop if you feel sharp pain, dizziness, or pins‑and‑needles.\n",
      "*   **Dose:** 1–2 sets × 30–60 sec each side. Rest 45–90s between sets.\n",
      "\n",
      "**4. Tempo Face Pull Iso**\n",
      "*   **Equipment:** Bike\n",
      "*   **Muscle Groups Activated:** Obliques, lower back, abs\n",
      "*   **Instructions:** Prepare equipment: bike. Ensure stable setup and safe load. Exhale gently to brace; avoid flaring ribs or arching low back. Pull elbows back toward hips, squeeze shoulder blades, then return slowly without shrugging. Keep neck long, ribs down, and shoulders down. Avoid flaring elbows or arching the back. Avoid collapsing posture or losing core brace. Stop if you feel sharp pain, dizziness, or pins‑and‑needles.\n",
      "*   **Dose:** 3–4 sets × 6–10 reps. Rest 45–90s between sets.\n",
      "\n",
      "**5. Isometric Deadlift Iso**\n",
      "*   **Equipment:** Bike\n",
      "*   **Muscle Groups Activated:** Abs, lower back, obliques\n",
      "*   **Instructions:** Prepare equipment: bike. Ensure stable setup and safe load. Exhale gently to brace; avoid flaring ribs or arching low back. Hinge at hips with a flat back, push hips back, then extend to stand tall; keep bar/bell close to shins. Breathe light and steady; do not brace with a breath hold. Keep neck long, ribs down, and shoulders down. Avoid holding breath; keep steady tension. Avoid collapsing posture or losing core brace. Stop if you feel sharp pain, dizziness, or pins‑and‑needles.\n",
      "*   **Dose:** 1–2 sets × 30–60 sec each side. Rest 45–90s between sets.\n",
      "\n",
      "**6. Wide-Grip Deadlift March**\n",
      "*   **Equipment:** Assisted machine\n",
      "*   **Muscle Groups Activated:** Abs, lower back, obliques\n",
      "*   **Instructions:** Adjust machine seat and lever to align joints with pivots. Exhale gently to brace; avoid flaring ribs or arching low back. Hinge at hips with a flat back, push hips back, then extend to stand tall; keep bar/bell close to shins. Breathe light and steady; do not brace with a breath hold. Keep neck long, ribs down, and shoulders down. Avoid holding breath; keep steady tension. Avoid collapsing posture or losing core brace. Stop if you feel sharp pain, dizziness, or pins‑and‑needles.\n",
      "*   **Dose:** 3–5 sets × 20–40 sec hold. Rest 45–90s between sets.\n",
      "\n",
      "**7. Incline Lunge**\n",
      "*   **Equipment:** Bike\n",
      "*   **Muscle Groups Activated:** Lower back, abs, obliques\n",
      "*   **Instructions:** Prepare equipment: bike. Ensure stable setup and safe load. Exhale gently to brace; avoid flaring ribs or arching low back. Step and lower until front thigh is near parallel, back knee under hip; drive through front foot to stand. Keep neck long, ribs down, and shoulders down. Avoid flaring elbows or arching the back. Avoid collapsing posture or losing core brace. Stop if you feel sharp pain, dizziness, or pins‑and‑needles.\n",
      "*   **Dose:** 1–2 sets × 30–60 sec each side. Rest 45–90s between sets.\n",
      "\n",
      "**8. Rowing Hold**\n",
      "*   **Equipment:** Kettlebells\n",
      "*   **Muscle Groups Activated:** Abs, obliques, lower back\n",
      "*   **Instructions:** Place kettlebell close to midline; hinge to grip; pack shoulders. Exhale gently to brace; avoid flaring ribs or arching low back. Pull elbows back toward hips, squeeze shoulder blades, then return slowly without shrugging. Keep neck long, ribs down, and elbows close. Avoid shrugging or using momentum. Avoid collapsing posture or losing core brace. Keep posture tall; reduce pace if form degrades. Keep bell close to centerline to protect lower back.\n",
      "*   **Dose:** 5–15 minutes (RPE 6–7/10). Rest 45–90s between sets.\n",
      "\n",
      "**9. Copenhagen Lunge Variation**\n",
      "*   **Equipment:** Rower\n",
      "*   **Muscle Groups Activated:** Abs, lower back, obliques\n",
      "*   **Instructions:** Prepare equipment: rower. Ensure stable setup and safe load. Exhale gently to brace; avoid flaring ribs or arching low back. Step and lower until front thigh is near parallel, back knee under hip; drive through front foot to stand. Keep neck long, ribs down, and shoulders down. Avoid flaring elbows or arching the back. Avoid collapsing posture or losing core brace. Keep posture tall; reduce pace if form degrades.\n",
      "*   **Dose:** 5–15 minutes (RPE 6–7/10). Rest 45–90s between sets.\n",
      "\n",
      "**10. Incline Pull-Up Series**\n",
      "*   **Equipment:** Bike\n",
      "*   **Muscle Groups Activated:** Abs, obliques, lower back\n",
      "*   **Instructions:** Prepare equipment: bike. Ensure stable setup and safe load. Exhale gently to brace; avoid flaring ribs or arching low back. Pull elbows back toward hips, squeeze shoulder blades, then return slowly without shrugging. Keep neck long, ribs down, and elbows close. Avoid shrugging or using momentum. Avoid collapsing posture or losing core brace. Stop if you feel sharp pain, dizziness, or pins‑and‑needles.\n",
      "*   **Dose:** 1–2 sets × 30–60 sec each side. Rest 45–90s between sets.\n"
     ]
    }
   ],
   "source": [
    "query = 'I want some core exercises that also help my back'\n",
    "\n",
    "answer = rag(query)\n",
    "print(answer)"
   ]
  },
  {
   "cell_type": "markdown",
   "id": "db05fd5c-6dd3-48fb-a114-7e3b1ceb91a2",
   "metadata": {},
   "source": [
    "## Retrieval Evalutation"
   ]
  },
  {
   "cell_type": "code",
   "execution_count": 30,
   "id": "f987e4c1-9447-415c-ab10-4d8a03b1795f",
   "metadata": {},
   "outputs": [],
   "source": [
    "df_question = pd.read_csv('../data/ground-truth-retrieval.csv')"
   ]
  },
  {
   "cell_type": "code",
   "execution_count": 31,
   "id": "0b3199f2-af36-4055-97dc-efe3876574b8",
   "metadata": {},
   "outputs": [
    {
     "data": {
      "text/html": [
       "<div>\n",
       "<style scoped>\n",
       "    .dataframe tbody tr th:only-of-type {\n",
       "        vertical-align: middle;\n",
       "    }\n",
       "\n",
       "    .dataframe tbody tr th {\n",
       "        vertical-align: top;\n",
       "    }\n",
       "\n",
       "    .dataframe thead th {\n",
       "        text-align: right;\n",
       "    }\n",
       "</style>\n",
       "<table border=\"1\" class=\"dataframe\">\n",
       "  <thead>\n",
       "    <tr style=\"text-align: right;\">\n",
       "      <th></th>\n",
       "      <th>id</th>\n",
       "      <th>question</th>\n",
       "    </tr>\n",
       "  </thead>\n",
       "  <tbody>\n",
       "    <tr>\n",
       "      <th>0</th>\n",
       "      <td>0</td>\n",
       "      <td>What equipment do I need to perform the Push-U...</td>\n",
       "    </tr>\n",
       "    <tr>\n",
       "      <th>1</th>\n",
       "      <td>0</td>\n",
       "      <td>How long should I hold each side during the Pu...</td>\n",
       "    </tr>\n",
       "    <tr>\n",
       "      <th>2</th>\n",
       "      <td>0</td>\n",
       "      <td>What should I focus on to ensure proper form w...</td>\n",
       "    </tr>\n",
       "    <tr>\n",
       "      <th>3</th>\n",
       "      <td>0</td>\n",
       "      <td>What common mistakes should I avoid when doing...</td>\n",
       "    </tr>\n",
       "    <tr>\n",
       "      <th>4</th>\n",
       "      <td>0</td>\n",
       "      <td>How should I breathe during the Push-Up Hold t...</td>\n",
       "    </tr>\n",
       "  </tbody>\n",
       "</table>\n",
       "</div>"
      ],
      "text/plain": [
       "   id                                           question\n",
       "0   0  What equipment do I need to perform the Push-U...\n",
       "1   0  How long should I hold each side during the Pu...\n",
       "2   0  What should I focus on to ensure proper form w...\n",
       "3   0  What common mistakes should I avoid when doing...\n",
       "4   0  How should I breathe during the Push-Up Hold t..."
      ]
     },
     "execution_count": 31,
     "metadata": {},
     "output_type": "execute_result"
    }
   ],
   "source": [
    "df_question.head()"
   ]
  },
  {
   "cell_type": "code",
   "execution_count": 32,
   "id": "62ef8e55-6868-420b-b66f-d68d93678fa0",
   "metadata": {},
   "outputs": [],
   "source": [
    "ground_truth = df_question.to_dict(orient='records')"
   ]
  },
  {
   "cell_type": "code",
   "execution_count": 33,
   "id": "6fa83929-f5f6-465c-859b-d0c06e349711",
   "metadata": {},
   "outputs": [
    {
     "data": {
      "text/plain": [
       "{'id': 0,\n",
       " 'question': 'What equipment do I need to perform the Push-Up Hold exercise?'}"
      ]
     },
     "execution_count": 33,
     "metadata": {},
     "output_type": "execute_result"
    }
   ],
   "source": [
    "ground_truth[0]"
   ]
  },
  {
   "cell_type": "code",
   "execution_count": 34,
   "id": "db8cf554-5f20-4d9a-a696-4959a336318a",
   "metadata": {},
   "outputs": [],
   "source": [
    "def hit_rate(relevance_total):\n",
    "    cnt = 0\n",
    "\n",
    "    for line in relevance_total:\n",
    "        if True in line:\n",
    "            cnt = cnt + 1\n",
    "\n",
    "    return cnt / len(relevance_total)\n",
    "\n",
    "def mrr(relevance_total):\n",
    "    total_score = 0.0\n",
    "\n",
    "    for line in relevance_total:\n",
    "        for rank in range(len(line)):\n",
    "            if line[rank] == True:\n",
    "                total_score = total_score + 1 / (rank + 1)\n",
    "\n",
    "    return total_score / len(relevance_total)"
   ]
  },
  {
   "cell_type": "code",
   "execution_count": 35,
   "id": "67f35ba4-a868-4d6e-a4ef-ebcd32a32f6e",
   "metadata": {},
   "outputs": [
    {
     "data": {
      "text/plain": [
       "{'id': 0,\n",
       " 'exercise_name': 'Push-Up Hold',\n",
       " 'type_of_activity': 'mobility',\n",
       " 'type_of_equipment': 'dip belt',\n",
       " 'body_part': 'lower',\n",
       " 'type': 'stretch',\n",
       " 'muscle_groups_activated': 'glutes, quads, hamstrings',\n",
       " 'instruction': 'Setup: Prepare equipment: dip belt. Ensure stable setup and safe load. Brace core, keep neutral spine, drive through whole foot. Primary focus: glutes, quads, hamstrings. Movement: Gently enter the stretch until a mild pull is felt; hold without bouncing and keep breathing. Tempo: 2‑2‑2‑0. Dose: 1–2 sets × 30–60 sec each side. Rest 45–90s between sets. Breathing: Slow nasal breaths; exhale to deepen slightly, no pain. Coaching cues: keep neck long, ribs down, and knees tracking over toes. Common mistakes: avoid bouncing; stay within mild discomfort. Do not bounce or hyperextend joints. Safety: Never force end range; joints should feel stable.'}"
      ]
     },
     "execution_count": 35,
     "metadata": {},
     "output_type": "execute_result"
    }
   ],
   "source": [
    "documents[0]"
   ]
  },
  {
   "cell_type": "code",
   "execution_count": 36,
   "id": "c0d459e4-27a2-4f0f-b70e-e046a746faf3",
   "metadata": {},
   "outputs": [],
   "source": [
    "def minsearch_search(query):\n",
    "    # boost = {'exercise_name':3, 'muscle_groups_activated':1}\n",
    "    boost = {}\n",
    "\n",
    "    results = index.search(\n",
    "        query=query,\n",
    "        filter_dict={},\n",
    "        boost_dict=boost,\n",
    "        num_results=10\n",
    "    )\n",
    "\n",
    "    return results"
   ]
  },
  {
   "cell_type": "code",
   "execution_count": 37,
   "id": "4372a90e-40fb-47de-b337-e4c949c8f333",
   "metadata": {},
   "outputs": [],
   "source": [
    "def evaluate(ground_truth, search_function):\n",
    "    relevance_total = []\n",
    "\n",
    "    for q in tqdm(ground_truth):\n",
    "        doc_id = q['id']\n",
    "        results = search_function(q)\n",
    "        relevance = [d['id'] == doc_id for d in results]\n",
    "        relevance_total.append(relevance)\n",
    "\n",
    "    return {\n",
    "        'hit_rate': hit_rate(relevance_total),\n",
    "        'mrr': mrr(relevance_total),\n",
    "    }"
   ]
  },
  {
   "cell_type": "code",
   "execution_count": 38,
   "id": "7d80269c-d433-42ac-ac42-2c79a63643d8",
   "metadata": {},
   "outputs": [],
   "source": [
    "from tqdm.auto import tqdm"
   ]
  },
  {
   "cell_type": "code",
   "execution_count": 29,
   "id": "3f7fe4fe-688b-419b-821f-06a8fd8afbb4",
   "metadata": {},
   "outputs": [
    {
     "name": "stderr",
     "output_type": "stream",
     "text": [
      "100%|███████████████████████████████████████████████████████████████████████████████████████████████████████████████████████████████████████████████████████████████| 2500/2500 [00:13<00:00, 187.52it/s]\n"
     ]
    },
    {
     "data": {
      "text/plain": [
       "{'hit_rate': 0.6324, 'mrr': 0.5803822222222222}"
      ]
     },
     "execution_count": 29,
     "metadata": {},
     "output_type": "execute_result"
    }
   ],
   "source": [
    "evaluate(ground_truth, lambda q: minsearch_search(q['question']))"
   ]
  },
  {
   "cell_type": "markdown",
   "id": "f5fe783b-a1b1-43dc-986a-87930ea8f542",
   "metadata": {},
   "source": [
    "## Finding the best parameters"
   ]
  },
  {
   "cell_type": "code",
   "execution_count": 39,
   "id": "a509bd82-4a2f-49b0-9b5c-666ec83559ee",
   "metadata": {},
   "outputs": [],
   "source": [
    "df_validation = df_question[:250]\n",
    "df_test = df_question[250:]"
   ]
  },
  {
   "cell_type": "code",
   "execution_count": 40,
   "id": "d29043ff-46eb-4bae-97b9-7f55b3337b1b",
   "metadata": {},
   "outputs": [],
   "source": [
    "# from hyperopt import fmin, tpe, hp, STATUS_OK, Trials\n",
    "# from hyperopt.pyll import scope"
   ]
  },
  {
   "cell_type": "code",
   "execution_count": 41,
   "id": "48d8147c-aed4-442f-8061-438dac6f742d",
   "metadata": {},
   "outputs": [],
   "source": [
    "import random\n",
    "\n",
    "def simple_optimize(param_ranges, objective_function, n_iterations=10):\n",
    "    best_params = None\n",
    "    best_score = float('-inf')  # Assuming we're minimizing. Use float('-inf') if maximizing.\n",
    "\n",
    "    for _ in range(n_iterations):\n",
    "        # Generate random parameters\n",
    "        current_params = {}\n",
    "        for param, (min_val, max_val) in param_ranges.items():\n",
    "            if isinstance(min_val, int) and isinstance(max_val, int):\n",
    "                current_params[param] = random.randint(min_val, max_val)\n",
    "            else:\n",
    "                current_params[param] = random.uniform(min_val, max_val)\n",
    "        \n",
    "        # Evaluate the objective function\n",
    "        current_score = objective_function(current_params)\n",
    "        \n",
    "        # Update best if current is better\n",
    "        if current_score > best_score:  # Change to > if maximizing\n",
    "            best_score = current_score\n",
    "            best_params = current_params\n",
    "    \n",
    "    return best_params, best_score"
   ]
  },
  {
   "cell_type": "code",
   "execution_count": 42,
   "id": "ad461c3b-9ca7-4f66-87bf-287d397a71b2",
   "metadata": {},
   "outputs": [],
   "source": [
    "gt_val = df_validation.to_dict(orient='records')"
   ]
  },
  {
   "cell_type": "code",
   "execution_count": 43,
   "id": "b95a9968-4c2b-4617-9b70-2b71aa35eda5",
   "metadata": {},
   "outputs": [],
   "source": [
    "def minsearch_search(query, boost=None):\n",
    "    if boost is None:\n",
    "        boost = {}\n",
    "\n",
    "    results = index.search(\n",
    "        query=query,\n",
    "        filter_dict={},\n",
    "        boost_dict=boost,\n",
    "        num_results=10\n",
    "    )\n",
    "\n",
    "    return results"
   ]
  },
  {
   "cell_type": "code",
   "execution_count": 44,
   "id": "cacd7bf4-fc3c-4cfc-8fcb-7079d360c974",
   "metadata": {},
   "outputs": [],
   "source": [
    "param_ranges = {\n",
    "    'exercise_name': (0.0, 3.0),\n",
    "    'type_of_activity': (0.0, 3.0),\n",
    "    'type_of_equipment': (0.0, 3.0),\n",
    "    'body_part': (0.0, 3.0),\n",
    "    'type': (0.0, 3.0),\n",
    "    'muscle_groups_activated': (0.0, 3.0),\n",
    "    'instruction': (0.0, 3.0),\n",
    "}\n",
    "\n",
    "def objective(boost_params):\n",
    "    def search_function(q):\n",
    "        return minsearch_search(q['question'], boost_params)\n",
    "\n",
    "    results = evaluate(gt_val, search_function)\n",
    "    return results['mrr']"
   ]
  },
  {
   "cell_type": "code",
   "execution_count": 40,
   "id": "093f39a0-b593-40fa-9c25-03737212e468",
   "metadata": {},
   "outputs": [
    {
     "name": "stderr",
     "output_type": "stream",
     "text": [
      "100%|█████████████████████████████████████████████████████████████████████████████████████████████████████████████████████████████████████████████████████████████████| 250/250 [00:01<00:00, 184.36it/s]\n",
      "100%|█████████████████████████████████████████████████████████████████████████████████████████████████████████████████████████████████████████████████████████████████| 250/250 [00:01<00:00, 183.49it/s]\n",
      "100%|█████████████████████████████████████████████████████████████████████████████████████████████████████████████████████████████████████████████████████████████████| 250/250 [00:01<00:00, 187.49it/s]\n",
      "100%|█████████████████████████████████████████████████████████████████████████████████████████████████████████████████████████████████████████████████████████████████| 250/250 [00:01<00:00, 188.81it/s]\n",
      "100%|█████████████████████████████████████████████████████████████████████████████████████████████████████████████████████████████████████████████████████████████████| 250/250 [00:01<00:00, 189.60it/s]\n",
      "100%|█████████████████████████████████████████████████████████████████████████████████████████████████████████████████████████████████████████████████████████████████| 250/250 [00:01<00:00, 190.47it/s]\n",
      "100%|█████████████████████████████████████████████████████████████████████████████████████████████████████████████████████████████████████████████████████████████████| 250/250 [00:01<00:00, 190.04it/s]\n",
      "100%|█████████████████████████████████████████████████████████████████████████████████████████████████████████████████████████████████████████████████████████████████| 250/250 [00:01<00:00, 189.52it/s]\n",
      "100%|█████████████████████████████████████████████████████████████████████████████████████████████████████████████████████████████████████████████████████████████████| 250/250 [00:01<00:00, 189.89it/s]\n",
      "100%|█████████████████████████████████████████████████████████████████████████████████████████████████████████████████████████████████████████████████████████████████| 250/250 [00:01<00:00, 187.77it/s]\n",
      "100%|█████████████████████████████████████████████████████████████████████████████████████████████████████████████████████████████████████████████████████████████████| 250/250 [00:01<00:00, 184.10it/s]\n",
      "100%|█████████████████████████████████████████████████████████████████████████████████████████████████████████████████████████████████████████████████████████████████| 250/250 [00:01<00:00, 186.93it/s]\n",
      "100%|█████████████████████████████████████████████████████████████████████████████████████████████████████████████████████████████████████████████████████████████████| 250/250 [00:01<00:00, 189.04it/s]\n",
      "100%|█████████████████████████████████████████████████████████████████████████████████████████████████████████████████████████████████████████████████████████████████| 250/250 [00:01<00:00, 190.65it/s]\n",
      "100%|█████████████████████████████████████████████████████████████████████████████████████████████████████████████████████████████████████████████████████████████████| 250/250 [00:01<00:00, 189.75it/s]\n",
      "100%|█████████████████████████████████████████████████████████████████████████████████████████████████████████████████████████████████████████████████████████████████| 250/250 [00:01<00:00, 190.61it/s]\n",
      "100%|█████████████████████████████████████████████████████████████████████████████████████████████████████████████████████████████████████████████████████████████████| 250/250 [00:01<00:00, 188.56it/s]\n",
      "100%|█████████████████████████████████████████████████████████████████████████████████████████████████████████████████████████████████████████████████████████████████| 250/250 [00:01<00:00, 186.82it/s]\n",
      "100%|█████████████████████████████████████████████████████████████████████████████████████████████████████████████████████████████████████████████████████████████████| 250/250 [00:01<00:00, 171.05it/s]\n",
      "100%|█████████████████████████████████████████████████████████████████████████████████████████████████████████████████████████████████████████████████████████████████| 250/250 [00:01<00:00, 168.38it/s]\n"
     ]
    },
    {
     "data": {
      "text/plain": [
       "({'exercise_name': 2.4883345828618713,\n",
       "  'type_of_activity': 1.3629230346257846,\n",
       "  'type_of_equipment': 2.227694809207545,\n",
       "  'body_part': 0.5312951324427708,\n",
       "  'type': 2.530050595897771,\n",
       "  'muscle_groups_activated': 0.05965456620525866,\n",
       "  'instruction': 0.5190037713702332},\n",
       " 0.6020777777777778)"
      ]
     },
     "execution_count": 40,
     "metadata": {},
     "output_type": "execute_result"
    }
   ],
   "source": [
    "simple_optimize(param_ranges, objective, n_iterations=20)"
   ]
  },
  {
   "cell_type": "markdown",
   "id": "16e5216a-a468-470d-8246-e10e9b9f341a",
   "metadata": {},
   "source": [
    "The MRR is 2% better than the basic non-boosting method: 'mrr': 0.5803822222222222"
   ]
  },
  {
   "cell_type": "code",
   "execution_count": 46,
   "id": "6d9ea3b3-0ff2-41b1-86c2-8a499343b5db",
   "metadata": {},
   "outputs": [],
   "source": [
    "def minsearch_improved(query, boost=None):\n",
    "    if boost is None:\n",
    "        boost = {\n",
    "            'exercise_name': 2.5,\n",
    "            'type_of_activity': 1.4,\n",
    "            'type_of_equipment': 2.2,\n",
    "            'body_part': 0.5,\n",
    "            'type': 2.5,\n",
    "            'muscle_groups_activated': 0.06,\n",
    "            'instruction': 0.5\n",
    "        }\n",
    "\n",
    "    results = index.search(\n",
    "        query=query,\n",
    "        filter_dict={},\n",
    "        boost_dict=boost,\n",
    "        num_results=10\n",
    "    )\n",
    "\n",
    "    return results"
   ]
  },
  {
   "cell_type": "code",
   "execution_count": null,
   "id": "9ce5c078-ed9c-4868-96c6-b49ef392f1d3",
   "metadata": {},
   "outputs": [],
   "source": [
    "evaluate(ground_truth, lambda q: minsearch_improved(q['question']))"
   ]
  },
  {
   "cell_type": "markdown",
   "id": "f87c821a-906b-4f8e-a66e-66c2e44cf013",
   "metadata": {},
   "source": [
    "## RAG evaluation"
   ]
  },
  {
   "cell_type": "code",
   "execution_count": 47,
   "id": "f74bb061-4386-40b4-863e-8b635fc0dd17",
   "metadata": {},
   "outputs": [],
   "source": [
    "prompt2_template = \"\"\"\n",
    "You are an expert evaluator for a (RAG) system.\n",
    "Your task is to analyze the relevance of the generated answer to the given question.\n",
    "Based on the relevance of the generated answer, you will classify it\n",
    "as \"NON_RELEVANT\", \"PARTLY_RELEVANT\", or \"RELEVANT\".\n",
    "\n",
    "Here is the data for evaluation:\n",
    "\n",
    "Question: {question}\n",
    "Generated Answer: {answer_llm}\n",
    "\n",
    "Please analyze the content and context of the generated answer in relation to the question\n",
    "and provide your evaluation in parsable JSON without using code blocks:\n",
    "\n",
    "{{\n",
    "  \"Relevance\": \"NON_RELEVANT\" | \"PARTLY_RELEVANT\" | \"RELEVANT\",\n",
    "  \"Explanation\": \"[Provide a brief explanation for your evaluation]\"\n",
    "}}\n",
    "\"\"\".strip()"
   ]
  },
  {
   "cell_type": "code",
   "execution_count": 48,
   "id": "5b205b9f-eb85-485e-912e-fbfac45a6cf1",
   "metadata": {},
   "outputs": [
    {
     "data": {
      "text/plain": [
       "{'id': 0,\n",
       " 'question': 'What equipment do I need to perform the Push-Up Hold exercise?'}"
      ]
     },
     "execution_count": 48,
     "metadata": {},
     "output_type": "execute_result"
    }
   ],
   "source": [
    "ground_truth[0]"
   ]
  },
  {
   "cell_type": "code",
   "execution_count": 41,
   "id": "6bb6f2bd-d125-49f6-955c-5e55a01a0a59",
   "metadata": {},
   "outputs": [],
   "source": [
    "record = ground_truth[0]\n",
    "question = record['question']\n",
    "answer_llm = rag(question)"
   ]
  },
  {
   "cell_type": "code",
   "execution_count": 49,
   "id": "7ff3bab4-26ef-4624-b338-1bf6c1a0a911",
   "metadata": {},
   "outputs": [
    {
     "data": {
      "text/plain": [
       "[{'id': 139,\n",
       "  'exercise_name': 'Step-Up Hold',\n",
       "  'type_of_activity': 'warm-up',\n",
       "  'type_of_equipment': 'kettlebells',\n",
       "  'body_part': 'lower',\n",
       "  'type': 'hold',\n",
       "  'muscle_groups_activated': 'quads, calves, glutes',\n",
       "  'instruction': 'Setup: Place kettlebell close to midline; hinge to grip; pack shoulders. Brace core, keep neutral spine, drive through whole foot. Primary focus: quads, calves, glutes. Movement: Hold/maintain to a controlled end range, then return under control (Find a stable, aligned position and sustain tension without shaking.). Tempo: 2‑2‑2‑0. Dose: 1–2 sets × 30–60 sec each side. Rest 45–90s between sets. Breathing: Breathe light and steady; do not brace with a breath hold. Coaching cues: keep neck long, ribs down, and knees tracking over toes. Common mistakes: avoid holding breath; keep steady tension. Avoid collapsing posture or losing core brace. Safety: Keep bell close to centerline to protect lower back.'},\n",
       " {'id': 204,\n",
       "  'exercise_name': 'Explosive Farmer Carry',\n",
       "  'type_of_activity': 'warm-up',\n",
       "  'type_of_equipment': 'pull-up bar',\n",
       "  'body_part': 'core',\n",
       "  'type': 'hold',\n",
       "  'muscle_groups_activated': 'obliques, abs, lower back',\n",
       "  'instruction': 'Setup: Prepare equipment: pull-up bar. Ensure stable setup and safe load. Exhale gently to brace; avoid flaring ribs or arching low back. Primary focus: obliques, abs, lower back. Movement: Hold/maintain to a controlled end range, then return under control (Find a stable, aligned position and sustain tension without shaking.). Tempo: 2‑2‑2‑0. Dose: 1–2 sets × 30–60 sec each side. Rest 45–90s between sets. Breathing: Breathe light and steady; do not brace with a breath hold. Coaching cues: keep neck long, ribs down, and shoulders down. Common mistakes: avoid holding breath; keep steady tension. Avoid collapsing posture or losing core brace. Safety: Stop if you feel sharp pain, dizziness, or pins‑and‑needles.'},\n",
       " {'id': 282,\n",
       "  'exercise_name': 'Tempo Burpee Iso',\n",
       "  'type_of_activity': 'warm-up',\n",
       "  'type_of_equipment': 'pull-up bar',\n",
       "  'body_part': 'core',\n",
       "  'type': 'hold',\n",
       "  'muscle_groups_activated': 'abs, obliques, lower back',\n",
       "  'instruction': 'Setup: Prepare equipment: pull-up bar. Ensure stable setup and safe load. Exhale gently to brace; avoid flaring ribs or arching low back. Primary focus: abs, obliques, lower back. Movement: Hold/maintain to a controlled end range, then return under control (Find a stable, aligned position and sustain tension without shaking.). Tempo: 2‑2‑2‑0. Dose: 1–2 sets × 30–60 sec each side. Rest 45–90s between sets. Breathing: Breathe light and steady; do not brace with a breath hold. Coaching cues: keep neck long, ribs down, and shoulders down. Common mistakes: avoid holding breath; keep steady tension. Avoid collapsing posture or losing core brace. Safety: Stop if you feel sharp pain, dizziness, or pins‑and‑needles.'},\n",
       " {'id': 433,\n",
       "  'exercise_name': 'Single-Leg Calf Raise',\n",
       "  'type_of_activity': 'warm-up',\n",
       "  'type_of_equipment': 'pull-up bar',\n",
       "  'body_part': 'core',\n",
       "  'type': 'hold',\n",
       "  'muscle_groups_activated': 'lower back, obliques, abs',\n",
       "  'instruction': 'Setup: Prepare equipment: pull-up bar. Ensure stable setup and safe load. Exhale gently to brace; avoid flaring ribs or arching low back. Primary focus: lower back, obliques, abs. Movement: Hold/maintain to a controlled end range, then return under control (Find a stable, aligned position and sustain tension without shaking.). Tempo: 2‑2‑2‑0. Dose: 1–2 sets × 30–60 sec each side. Rest 45–90s between sets. Breathing: Breathe light and steady; do not brace with a breath hold. Coaching cues: keep neck long, ribs down, and shoulders down. Common mistakes: avoid holding breath; keep steady tension. Avoid collapsing posture or losing core brace. Safety: Stop if you feel sharp pain, dizziness, or pins‑and‑needles.'},\n",
       " {'id': 202,\n",
       "  'exercise_name': 'Static Cycling Pulse',\n",
       "  'type_of_activity': 'warm-up',\n",
       "  'type_of_equipment': 'pull-up bar',\n",
       "  'body_part': 'lower',\n",
       "  'type': 'hold',\n",
       "  'muscle_groups_activated': 'glutes, hamstrings, quads',\n",
       "  'instruction': 'Setup: Prepare equipment: pull-up bar. Ensure stable setup and safe load. Brace core, keep neutral spine, drive through whole foot. Primary focus: glutes, hamstrings, quads. Movement: Hold/maintain to a controlled end range, then return under control (Find a stable, aligned position and sustain tension without shaking.). Tempo: 2‑2‑2‑0. Dose: 1–2 sets × 30–60 sec each side. Rest 45–90s between sets. Breathing: Breathe light and steady; do not brace with a breath hold. Coaching cues: keep neck long, ribs down, and knees tracking over toes. Common mistakes: avoid holding breath; keep steady tension. Avoid collapsing posture or losing core brace. Safety: Stop if you feel sharp pain, dizziness, or pins‑and‑needles.'},\n",
       " {'id': 107,\n",
       "  'exercise_name': 'Farmer Carry Series',\n",
       "  'type_of_activity': 'warm-up',\n",
       "  'type_of_equipment': 'pull-up bar',\n",
       "  'body_part': 'lower',\n",
       "  'type': 'hold',\n",
       "  'muscle_groups_activated': 'quads, calves, hamstrings',\n",
       "  'instruction': 'Setup: Prepare equipment: pull-up bar. Ensure stable setup and safe load. Brace core, keep neutral spine, drive through whole foot. Primary focus: quads, calves, hamstrings. Movement: Hold/maintain to a controlled end range, then return under control (Find a stable, aligned position and sustain tension without shaking.). Tempo: 2‑2‑2‑0. Dose: 1–2 sets × 30–60 sec each side. Rest 45–90s between sets. Breathing: Breathe light and steady; do not brace with a breath hold. Coaching cues: keep neck long, ribs down, and knees tracking over toes. Common mistakes: avoid holding breath; keep steady tension. Avoid collapsing posture or losing core brace. Safety: Stop if you feel sharp pain, dizziness, or pins‑and‑needles.'},\n",
       " {'id': 230,\n",
       "  'exercise_name': 'Tall-Kneeling Bicep Curl',\n",
       "  'type_of_activity': 'warm-up',\n",
       "  'type_of_equipment': 'pull-up bar',\n",
       "  'body_part': 'upper',\n",
       "  'type': 'hold',\n",
       "  'muscle_groups_activated': 'forearms, triceps, traps',\n",
       "  'instruction': 'Setup: Prepare equipment: pull-up bar. Ensure stable setup and safe load. Draw ribs down, keep shoulders packed and away from ears. Primary focus: forearms, triceps, traps. Movement: Hold/maintain to a controlled end range, then return under control (Find a stable, aligned position and sustain tension without shaking.). Tempo: 2‑2‑2‑0. Dose: 1–2 sets × 30–60 sec each side. Rest 45–90s between sets. Breathing: Breathe light and steady; do not brace with a breath hold. Coaching cues: keep neck long, ribs down, and shoulders down. Common mistakes: avoid holding breath; keep steady tension. Avoid collapsing posture or losing core brace. Safety: Stop if you feel sharp pain, dizziness, or pins‑and‑needles.'},\n",
       " {'id': 227,\n",
       "  'exercise_name': 'Seated Rowing March',\n",
       "  'type_of_activity': 'warm-up',\n",
       "  'type_of_equipment': 'pull-up bar',\n",
       "  'body_part': 'core',\n",
       "  'type': 'hold',\n",
       "  'muscle_groups_activated': 'obliques, lower back, abs',\n",
       "  'instruction': 'Setup: Prepare equipment: pull-up bar. Ensure stable setup and safe load. Exhale gently to brace; avoid flaring ribs or arching low back. Primary focus: obliques, lower back, abs. Movement: Pull elbows back toward hips, squeeze shoulder blades, then return slowly without shrugging. Tempo: 2‑2‑2‑0. Dose: 1–2 sets × 30–60 sec each side. Rest 45–90s between sets. Breathing: Breathe light and steady; do not brace with a breath hold. Coaching cues: keep neck long, ribs down, and shoulders down. Common mistakes: avoid holding breath; keep steady tension. Avoid collapsing posture or losing core brace. Safety: Stop if you feel sharp pain, dizziness, or pins‑and‑needles.'},\n",
       " {'id': 224,\n",
       "  'exercise_name': 'Glute Bridge Twist',\n",
       "  'type_of_activity': 'warm-up',\n",
       "  'type_of_equipment': 'pull-up bar',\n",
       "  'body_part': 'lower',\n",
       "  'type': 'hold',\n",
       "  'muscle_groups_activated': 'calves, glutes, hamstrings',\n",
       "  'instruction': 'Setup: Prepare equipment: pull-up bar. Ensure stable setup and safe load. Brace core, keep neutral spine, drive through whole foot. Primary focus: calves, glutes, hamstrings. Movement: Drive through heels to extend hips fully; pause and squeeze glutes, then lower with control. Tempo: 2‑2‑2‑0. Dose: 1–2 sets × 30–60 sec each side. Rest 45–90s between sets. Breathing: Breathe light and steady; do not brace with a breath hold. Coaching cues: keep neck long, ribs down, and knees tracking over toes. Common mistakes: avoid holding breath; keep steady tension. Avoid collapsing posture or losing core brace. Safety: Stop if you feel sharp pain, dizziness, or pins‑and‑needles.'},\n",
       " {'id': 420,\n",
       "  'exercise_name': 'Front Raise Hold',\n",
       "  'type_of_activity': 'strength',\n",
       "  'type_of_equipment': 'pull-up bar',\n",
       "  'body_part': 'full body',\n",
       "  'type': 'hold',\n",
       "  'muscle_groups_activated': 'back, core, legs',\n",
       "  'instruction': 'Setup: Prepare equipment: pull-up bar. Ensure stable setup and safe load. Maintain tall posture, neutral spine, and steady breathing. Primary focus: back, core, legs. Movement: Hold/maintain to a controlled end range, then return under control (Find a stable, aligned position and sustain tension without shaking.). Tempo: 3‑1‑1‑0. Dose: 3–5 sets × 20–40 sec hold. Rest 45–90s between sets. Breathing: Breathe light and steady; do not brace with a breath hold. Coaching cues: keep neck long, ribs down, and shoulders down. Common mistakes: avoid holding breath; keep steady tension. Avoid collapsing posture or losing core brace. Safety: Stop if you feel sharp pain, dizziness, or pins‑and‑needles.'}]"
      ]
     },
     "execution_count": 49,
     "metadata": {},
     "output_type": "execute_result"
    }
   ],
   "source": [
    "minsearch_improved('What equipment do I need to perform the Push-Up Hold exercise?')"
   ]
  },
  {
   "cell_type": "code",
   "execution_count": null,
   "id": "3702bf1a-2a29-4248-a68e-054c48c2086f",
   "metadata": {},
   "outputs": [],
   "source": [
    "def rag(query):\n",
    "    search_results = search(query)\n",
    "    prompt = build_prompt(query, search_results)\n",
    "    answer = llm(prompt)\n",
    "    return answer"
   ]
  },
  {
   "cell_type": "code",
   "execution_count": 37,
   "id": "b57d8043-4b32-49fe-a641-beda6b89c9da",
   "metadata": {},
   "outputs": [
    {
     "data": {
      "text/plain": [
       "'What equipment do I need to perform the Push-Up Hold exercise?'"
      ]
     },
     "execution_count": 37,
     "metadata": {},
     "output_type": "execute_result"
    }
   ],
   "source": [
    "question"
   ]
  },
  {
   "cell_type": "code",
   "execution_count": 40,
   "id": "a0c74d4d-728a-40b7-81b4-7db37e6e9322",
   "metadata": {},
   "outputs": [
    {
     "data": {
      "text/plain": [
       "{'id': 0,\n",
       " 'exercise_name': 'Push-Up Hold',\n",
       " 'type_of_activity': 'mobility',\n",
       " 'type_of_equipment': 'dip belt',\n",
       " 'body_part': 'lower',\n",
       " 'type': 'stretch',\n",
       " 'muscle_groups_activated': 'glutes, quads, hamstrings',\n",
       " 'instruction': 'Setup: Prepare equipment: dip belt. Ensure stable setup and safe load. Brace core, keep neutral spine, drive through whole foot. Primary focus: glutes, quads, hamstrings. Movement: Gently enter the stretch until a mild pull is felt; hold without bouncing and keep breathing. Tempo: 2‑2‑2‑0. Dose: 1–2 sets × 30–60 sec each side. Rest 45–90s between sets. Breathing: Slow nasal breaths; exhale to deepen slightly, no pain. Coaching cues: keep neck long, ribs down, and knees tracking over toes. Common mistakes: avoid bouncing; stay within mild discomfort. Do not bounce or hyperextend joints. Safety: Never force end range; joints should feel stable.'}"
      ]
     },
     "execution_count": 40,
     "metadata": {},
     "output_type": "execute_result"
    }
   ],
   "source": [
    "documents[0]"
   ]
  },
  {
   "cell_type": "code",
   "execution_count": null,
   "id": "6fe876c3-bb1f-4440-9350-1698f1fb2b5e",
   "metadata": {},
   "outputs": [],
   "source": [
    "prompt = prompt2_template.format(**record)\n",
    "print(prompt)"
   ]
  }
 ],
 "metadata": {
  "kernelspec": {
   "display_name": "Python 3 (ipykernel)",
   "language": "python",
   "name": "python3"
  },
  "language_info": {
   "codemirror_mode": {
    "name": "ipython",
    "version": 3
   },
   "file_extension": ".py",
   "mimetype": "text/x-python",
   "name": "python",
   "nbconvert_exporter": "python",
   "pygments_lexer": "ipython3",
   "version": "3.12.8"
  }
 },
 "nbformat": 4,
 "nbformat_minor": 5
}
