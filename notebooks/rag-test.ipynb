{
 "cells": [
  {
   "cell_type": "markdown",
   "id": "6bfe8493-3eb2-4ff8-a297-2cec67c0119d",
   "metadata": {},
   "source": [
    "## Ingestion"
   ]
  },
  {
   "cell_type": "code",
   "execution_count": 1,
   "id": "f7ee64bd-47d8-471a-9e7a-df33aec42ad4",
   "metadata": {},
   "outputs": [],
   "source": [
    "import pandas as pd"
   ]
  },
  {
   "cell_type": "code",
   "execution_count": 21,
   "id": "e42bb095-3fe7-4566-8ce6-c009e44d1c25",
   "metadata": {},
   "outputs": [],
   "source": [
    "df = pd.read_csv('../data/fitness_exercises_500.csv')"
   ]
  },
  {
   "cell_type": "code",
   "execution_count": 23,
   "id": "f141847e-a06b-4083-b94c-2ae232a838b2",
   "metadata": {},
   "outputs": [
    {
     "data": {
      "text/html": [
       "<div>\n",
       "<style scoped>\n",
       "    .dataframe tbody tr th:only-of-type {\n",
       "        vertical-align: middle;\n",
       "    }\n",
       "\n",
       "    .dataframe tbody tr th {\n",
       "        vertical-align: top;\n",
       "    }\n",
       "\n",
       "    .dataframe thead th {\n",
       "        text-align: right;\n",
       "    }\n",
       "</style>\n",
       "<table border=\"1\" class=\"dataframe\">\n",
       "  <thead>\n",
       "    <tr style=\"text-align: right;\">\n",
       "      <th></th>\n",
       "      <th>id</th>\n",
       "      <th>exercise_name</th>\n",
       "      <th>type_of_activity</th>\n",
       "      <th>type_of_equipment</th>\n",
       "      <th>body_part</th>\n",
       "      <th>type</th>\n",
       "      <th>muscle_groups_activated</th>\n",
       "      <th>instruction</th>\n",
       "    </tr>\n",
       "  </thead>\n",
       "  <tbody>\n",
       "    <tr>\n",
       "      <th>0</th>\n",
       "      <td>0</td>\n",
       "      <td>Push-Up Hold</td>\n",
       "      <td>mobility</td>\n",
       "      <td>dip belt</td>\n",
       "      <td>lower</td>\n",
       "      <td>stretch</td>\n",
       "      <td>glutes, quads, hamstrings</td>\n",
       "      <td>Setup: Prepare equipment: dip belt. Ensure sta...</td>\n",
       "    </tr>\n",
       "    <tr>\n",
       "      <th>1</th>\n",
       "      <td>1</td>\n",
       "      <td>Explosive Lateral Raise Pulse</td>\n",
       "      <td>cardio</td>\n",
       "      <td>barbells</td>\n",
       "      <td>full body</td>\n",
       "      <td>hold</td>\n",
       "      <td>back, chest, legs</td>\n",
       "      <td>Setup: Set barbell with collars secured; grip ...</td>\n",
       "    </tr>\n",
       "    <tr>\n",
       "      <th>2</th>\n",
       "      <td>2</td>\n",
       "      <td>Rotational Jumping Jack Iso</td>\n",
       "      <td>warm-up</td>\n",
       "      <td>barbells</td>\n",
       "      <td>upper</td>\n",
       "      <td>push</td>\n",
       "      <td>biceps, forearms, chest</td>\n",
       "      <td>Setup: Set barbell with collars secured; grip ...</td>\n",
       "    </tr>\n",
       "    <tr>\n",
       "      <th>3</th>\n",
       "      <td>3</td>\n",
       "      <td>Wide-Grip Running</td>\n",
       "      <td>strength</td>\n",
       "      <td>kettlebells</td>\n",
       "      <td>upper</td>\n",
       "      <td>pull</td>\n",
       "      <td>deltoids, triceps, forearms</td>\n",
       "      <td>Setup: Place kettlebell close to midline; hing...</td>\n",
       "    </tr>\n",
       "    <tr>\n",
       "      <th>4</th>\n",
       "      <td>4</td>\n",
       "      <td>Decline Dips</td>\n",
       "      <td>cardio</td>\n",
       "      <td>barbells</td>\n",
       "      <td>core</td>\n",
       "      <td>stretch</td>\n",
       "      <td>abs, lower back, obliques</td>\n",
       "      <td>Setup: Set barbell with collars secured; grip ...</td>\n",
       "    </tr>\n",
       "  </tbody>\n",
       "</table>\n",
       "</div>"
      ],
      "text/plain": [
       "   id                  exercise_name type_of_activity type_of_equipment  \\\n",
       "0   0                   Push-Up Hold         mobility          dip belt   \n",
       "1   1  Explosive Lateral Raise Pulse           cardio          barbells   \n",
       "2   2    Rotational Jumping Jack Iso          warm-up          barbells   \n",
       "3   3              Wide-Grip Running         strength       kettlebells   \n",
       "4   4                   Decline Dips           cardio          barbells   \n",
       "\n",
       "   body_part     type      muscle_groups_activated  \\\n",
       "0      lower  stretch    glutes, quads, hamstrings   \n",
       "1  full body     hold            back, chest, legs   \n",
       "2      upper     push      biceps, forearms, chest   \n",
       "3      upper     pull  deltoids, triceps, forearms   \n",
       "4       core  stretch    abs, lower back, obliques   \n",
       "\n",
       "                                         instruction  \n",
       "0  Setup: Prepare equipment: dip belt. Ensure sta...  \n",
       "1  Setup: Set barbell with collars secured; grip ...  \n",
       "2  Setup: Set barbell with collars secured; grip ...  \n",
       "3  Setup: Place kettlebell close to midline; hing...  \n",
       "4  Setup: Set barbell with collars secured; grip ...  "
      ]
     },
     "execution_count": 23,
     "metadata": {},
     "output_type": "execute_result"
    }
   ],
   "source": [
    "df.head()"
   ]
  },
  {
   "cell_type": "code",
   "execution_count": 24,
   "id": "7199db95-98bb-4ef4-82bf-bbb6f8a90eb4",
   "metadata": {},
   "outputs": [],
   "source": [
    "import minsearch"
   ]
  },
  {
   "cell_type": "code",
   "execution_count": 25,
   "id": "afd24071-f88a-490b-b5e8-601b7b073de2",
   "metadata": {},
   "outputs": [
    {
     "data": {
      "text/plain": [
       "Index(['id', 'exercise_name', 'type_of_activity', 'type_of_equipment',\n",
       "       'body_part', 'type', 'muscle_groups_activated', 'instruction'],\n",
       "      dtype='object')"
      ]
     },
     "execution_count": 25,
     "metadata": {},
     "output_type": "execute_result"
    }
   ],
   "source": [
    "df.columns"
   ]
  },
  {
   "cell_type": "code",
   "execution_count": 26,
   "id": "ec851d79-8617-480a-85d3-9fc364cc750b",
   "metadata": {},
   "outputs": [],
   "source": [
    "documents = df.to_dict(orient='records')"
   ]
  },
  {
   "cell_type": "code",
   "execution_count": 27,
   "id": "b6aa8b32-aab3-413e-99da-efba4ecadc62",
   "metadata": {},
   "outputs": [],
   "source": [
    "index = minsearch.Index(\n",
    "    text_fields=['exercise_name', 'type_of_activity', 'type_of_equipment', 'body_part',\n",
    "       'type', 'muscle_groups_activated', 'instruction'],\n",
    "    keyword_fields=['id']\n",
    ")"
   ]
  },
  {
   "cell_type": "code",
   "execution_count": 28,
   "id": "48d951db-b450-4aab-9d49-93e65722e437",
   "metadata": {},
   "outputs": [
    {
     "data": {
      "text/plain": [
       "<minsearch.minsearch.Index at 0x14e6aea20>"
      ]
     },
     "execution_count": 28,
     "metadata": {},
     "output_type": "execute_result"
    }
   ],
   "source": [
    "index.fit(documents)"
   ]
  },
  {
   "cell_type": "code",
   "execution_count": 9,
   "id": "a6511f8a-c8f6-4a23-a63b-5d738b7434d9",
   "metadata": {},
   "outputs": [],
   "source": [
    "query = 'give me leg exercises for hamstrings'"
   ]
  },
  {
   "cell_type": "markdown",
   "id": "7e3bb792-a22f-45cb-8bc3-f45863d87fb7",
   "metadata": {},
   "source": [
    "## Implementing RAG Flow"
   ]
  },
  {
   "cell_type": "code",
   "execution_count": 31,
   "id": "8d7cff77-234f-4805-8838-a393b1fb0d20",
   "metadata": {},
   "outputs": [],
   "source": [
    "from google import genai"
   ]
  },
  {
   "cell_type": "code",
   "execution_count": 32,
   "id": "ef9f8451-5d0f-446e-b2de-9d052d8d84c2",
   "metadata": {},
   "outputs": [],
   "source": [
    "client = genai.Client()"
   ]
  },
  {
   "cell_type": "code",
   "execution_count": 33,
   "id": "6b3a7635-ae60-4e84-be7a-4dc3834c388f",
   "metadata": {},
   "outputs": [],
   "source": [
    "def search(query):\n",
    "    boost = {}\n",
    "\n",
    "    results = index.search(\n",
    "        query=query,\n",
    "        boost_dict=boost,\n",
    "        filter_dict={},\n",
    "        num_results=10\n",
    "    )\n",
    "\n",
    "    return results"
   ]
  },
  {
   "cell_type": "code",
   "execution_count": 34,
   "id": "30ed1cae-81a3-4907-af28-5144065a440b",
   "metadata": {},
   "outputs": [
    {
     "data": {
      "text/plain": [
       "{'id': 0,\n",
       " 'exercise_name': 'Push-Up Hold',\n",
       " 'type_of_activity': 'mobility',\n",
       " 'type_of_equipment': 'dip belt',\n",
       " 'body_part': 'lower',\n",
       " 'type': 'stretch',\n",
       " 'muscle_groups_activated': 'glutes, quads, hamstrings',\n",
       " 'instruction': 'Setup: Prepare equipment: dip belt. Ensure stable setup and safe load. Brace core, keep neutral spine, drive through whole foot. Primary focus: glutes, quads, hamstrings. Movement: Gently enter the stretch until a mild pull is felt; hold without bouncing and keep breathing. Tempo: 2‑2‑2‑0. Dose: 1–2 sets × 30–60 sec each side. Rest 45–90s between sets. Breathing: Slow nasal breaths; exhale to deepen slightly, no pain. Coaching cues: keep neck long, ribs down, and knees tracking over toes. Common mistakes: avoid bouncing; stay within mild discomfort. Do not bounce or hyperextend joints. Safety: Never force end range; joints should feel stable.'}"
      ]
     },
     "execution_count": 34,
     "metadata": {},
     "output_type": "execute_result"
    }
   ],
   "source": [
    "documents[0]"
   ]
  },
  {
   "cell_type": "code",
   "execution_count": null,
   "id": "12bd96e8-13cd-4063-94ca-1f6103221c6d",
   "metadata": {},
   "outputs": [],
   "source": [
    "#We want the LLM to put the document content in the context of the answer\n",
    "prompt_template = \"\"\"\n",
    "    You're a professional fitness assistant. Answer the QUESTION based only on the CONTEXT provided from the exercise & fitness database.  \n",
    "    \n",
    "    - Use only the facts from the CONTEXT when answering the QUESTION.  \n",
    "    - If the CONTEXT does not contain the answer, respond with: NONE.  \n",
    "    - Keep your answer clear, concise, and detail with instruction for fitness use.  \n",
    "    \n",
    "    QUESTION: {question}  \n",
    "    \n",
    "    CONTEXT:  \n",
    "    {context}  \n",
    "\"\"\".strip()\n",
    "\n",
    "entry_template = \"\"\"\n",
    "exercise_name: {exercise_name}',\n",
    "type_of_activity: {type_of_activity},\n",
    "type_of_equipment: {type_of_equipment},\n",
    "body_part: {body_part},\n",
    "type: {type},\n",
    "muscle_groups_activated: {muscle_groups_activated},\n",
    "instruction: {instruction}\n",
    "\"\"\".strip()\n",
    "\n",
    "def build_prompt(query, search_results):    \n",
    "    context = \"\"\n",
    "    \n",
    "    for doc in search_results:\n",
    "        context = context + entry_template.format(**doc) + \"\\n\\n\"\n",
    "    \n",
    "    prompt = prompt_template.format(question=query, context=context).strip()\n",
    "    return prompt"
   ]
  },
  {
   "cell_type": "code",
   "execution_count": null,
   "id": "bc69caa8-966a-4d38-b519-e779ad8055fa",
   "metadata": {},
   "outputs": [],
   "source": [
    "def llm(prompt):\n",
    "    response = client.models.generate_content(\n",
    "    model=\"gemini-2.5-flash\",\n",
    "    contents=prompt\n",
    "    )\n",
    "\n",
    "    return response.text"
   ]
  },
  {
   "cell_type": "code",
   "execution_count": null,
   "id": "24513518-6e49-49d1-80b5-088158b21395",
   "metadata": {},
   "outputs": [],
   "source": [
    "def rag(query):\n",
    "    search_results = search(query)\n",
    "    prompt = build_prompt(query, search_results)\n",
    "    answer = llm(prompt)\n",
    "    return answer"
   ]
  },
  {
   "cell_type": "code",
   "execution_count": null,
   "id": "03a1cd39-82b5-40bb-b1df-6f0802207614",
   "metadata": {},
   "outputs": [],
   "source": [
    "query = 'I want some core exercises that also help my back'\n",
    "\n",
    "answer = rag(query)\n",
    "print(answer)"
   ]
  },
  {
   "cell_type": "code",
   "execution_count": null,
   "id": "a2b8b55f-0bd5-4f0e-a60d-5e76114a63bd",
   "metadata": {},
   "outputs": [],
   "source": []
  }
 ],
 "metadata": {
  "kernelspec": {
   "display_name": "Python 3 (ipykernel)",
   "language": "python",
   "name": "python3"
  },
  "language_info": {
   "codemirror_mode": {
    "name": "ipython",
    "version": 3
   },
   "file_extension": ".py",
   "mimetype": "text/x-python",
   "name": "python",
   "nbconvert_exporter": "python",
   "pygments_lexer": "ipython3",
   "version": "3.12.8"
  }
 },
 "nbformat": 4,
 "nbformat_minor": 5
}
