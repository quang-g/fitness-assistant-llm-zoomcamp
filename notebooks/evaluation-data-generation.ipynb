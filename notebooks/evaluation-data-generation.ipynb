{
 "cells": [
  {
   "cell_type": "markdown",
   "id": "6bfe8493-3eb2-4ff8-a297-2cec67c0119d",
   "metadata": {},
   "source": [
    "## Ingestion"
   ]
  },
  {
   "cell_type": "code",
   "execution_count": 20,
   "id": "f7ee64bd-47d8-471a-9e7a-df33aec42ad4",
   "metadata": {},
   "outputs": [],
   "source": [
    "import pandas as pd"
   ]
  },
  {
   "cell_type": "code",
   "execution_count": 21,
   "id": "e42bb095-3fe7-4566-8ce6-c009e44d1c25",
   "metadata": {},
   "outputs": [],
   "source": [
    "df = pd.read_csv('../data/fitness_exercises_500.csv')\n",
    "documents = df.to_dict(orient='records')"
   ]
  },
  {
   "cell_type": "code",
   "execution_count": 22,
   "id": "f141847e-a06b-4083-b94c-2ae232a838b2",
   "metadata": {},
   "outputs": [
    {
     "data": {
      "text/html": [
       "<div>\n",
       "<style scoped>\n",
       "    .dataframe tbody tr th:only-of-type {\n",
       "        vertical-align: middle;\n",
       "    }\n",
       "\n",
       "    .dataframe tbody tr th {\n",
       "        vertical-align: top;\n",
       "    }\n",
       "\n",
       "    .dataframe thead th {\n",
       "        text-align: right;\n",
       "    }\n",
       "</style>\n",
       "<table border=\"1\" class=\"dataframe\">\n",
       "  <thead>\n",
       "    <tr style=\"text-align: right;\">\n",
       "      <th></th>\n",
       "      <th>id</th>\n",
       "      <th>exercise_name</th>\n",
       "      <th>type_of_activity</th>\n",
       "      <th>type_of_equipment</th>\n",
       "      <th>body_part</th>\n",
       "      <th>type</th>\n",
       "      <th>muscle_groups_activated</th>\n",
       "      <th>instruction</th>\n",
       "    </tr>\n",
       "  </thead>\n",
       "  <tbody>\n",
       "    <tr>\n",
       "      <th>0</th>\n",
       "      <td>0</td>\n",
       "      <td>Push-Up Hold</td>\n",
       "      <td>mobility</td>\n",
       "      <td>dip belt</td>\n",
       "      <td>lower</td>\n",
       "      <td>stretch</td>\n",
       "      <td>glutes, quads, hamstrings</td>\n",
       "      <td>Setup: Prepare equipment: dip belt. Ensure sta...</td>\n",
       "    </tr>\n",
       "    <tr>\n",
       "      <th>1</th>\n",
       "      <td>1</td>\n",
       "      <td>Explosive Lateral Raise Pulse</td>\n",
       "      <td>cardio</td>\n",
       "      <td>barbells</td>\n",
       "      <td>full body</td>\n",
       "      <td>hold</td>\n",
       "      <td>back, chest, legs</td>\n",
       "      <td>Setup: Set barbell with collars secured; grip ...</td>\n",
       "    </tr>\n",
       "    <tr>\n",
       "      <th>2</th>\n",
       "      <td>2</td>\n",
       "      <td>Rotational Jumping Jack Iso</td>\n",
       "      <td>warm-up</td>\n",
       "      <td>barbells</td>\n",
       "      <td>upper</td>\n",
       "      <td>push</td>\n",
       "      <td>biceps, forearms, chest</td>\n",
       "      <td>Setup: Set barbell with collars secured; grip ...</td>\n",
       "    </tr>\n",
       "    <tr>\n",
       "      <th>3</th>\n",
       "      <td>3</td>\n",
       "      <td>Wide-Grip Running</td>\n",
       "      <td>strength</td>\n",
       "      <td>kettlebells</td>\n",
       "      <td>upper</td>\n",
       "      <td>pull</td>\n",
       "      <td>deltoids, triceps, forearms</td>\n",
       "      <td>Setup: Place kettlebell close to midline; hing...</td>\n",
       "    </tr>\n",
       "    <tr>\n",
       "      <th>4</th>\n",
       "      <td>4</td>\n",
       "      <td>Decline Dips</td>\n",
       "      <td>cardio</td>\n",
       "      <td>barbells</td>\n",
       "      <td>core</td>\n",
       "      <td>stretch</td>\n",
       "      <td>abs, lower back, obliques</td>\n",
       "      <td>Setup: Set barbell with collars secured; grip ...</td>\n",
       "    </tr>\n",
       "  </tbody>\n",
       "</table>\n",
       "</div>"
      ],
      "text/plain": [
       "   id                  exercise_name type_of_activity type_of_equipment  \\\n",
       "0   0                   Push-Up Hold         mobility          dip belt   \n",
       "1   1  Explosive Lateral Raise Pulse           cardio          barbells   \n",
       "2   2    Rotational Jumping Jack Iso          warm-up          barbells   \n",
       "3   3              Wide-Grip Running         strength       kettlebells   \n",
       "4   4                   Decline Dips           cardio          barbells   \n",
       "\n",
       "   body_part     type      muscle_groups_activated  \\\n",
       "0      lower  stretch    glutes, quads, hamstrings   \n",
       "1  full body     hold            back, chest, legs   \n",
       "2      upper     push      biceps, forearms, chest   \n",
       "3      upper     pull  deltoids, triceps, forearms   \n",
       "4       core  stretch    abs, lower back, obliques   \n",
       "\n",
       "                                         instruction  \n",
       "0  Setup: Prepare equipment: dip belt. Ensure sta...  \n",
       "1  Setup: Set barbell with collars secured; grip ...  \n",
       "2  Setup: Set barbell with collars secured; grip ...  \n",
       "3  Setup: Place kettlebell close to midline; hing...  \n",
       "4  Setup: Set barbell with collars secured; grip ...  "
      ]
     },
     "execution_count": 22,
     "metadata": {},
     "output_type": "execute_result"
    }
   ],
   "source": [
    "df.head()"
   ]
  },
  {
   "cell_type": "code",
   "execution_count": 43,
   "id": "8d7cff77-234f-4805-8838-a393b1fb0d20",
   "metadata": {},
   "outputs": [],
   "source": [
    "from openai import OpenAI\n",
    "\n",
    "client = OpenAI()"
   ]
  },
  {
   "cell_type": "code",
   "execution_count": 26,
   "id": "12bd96e8-13cd-4063-94ca-1f6103221c6d",
   "metadata": {},
   "outputs": [],
   "source": [
    "prompt_template = \"\"\"\n",
    "You emulate a user of our fitness assistant application.\n",
    "Formulate 5 questions this user might ask based on a provided exercise.\n",
    "Make the questions specific to this exercise.\n",
    "The record should contain the answer to the questions, and the questions should\n",
    "be complete and not too short. Use as fewer words as possible from the record. \n",
    "\n",
    "The record:\n",
    "\n",
    "exercise_name: {exercise_name}\n",
    "type_of_activity: {type_of_activity}\n",
    "type_of_equipment: {type_of_equipment}\n",
    "body_part: {body_part}\n",
    "type: {type}\n",
    "muscle_groups_activated: {muscle_groups_activated}\n",
    "instruction: {instruction}\n",
    "\n",
    "Provide the output in parsable JSON without using code blocks:\n",
    "\n",
    "{{\"questions\": [\"question1\", \"question2\", ..., \"question5\"]}}\n",
    "\"\"\".strip()"
   ]
  },
  {
   "cell_type": "code",
   "execution_count": 28,
   "id": "759ca52a-0a93-4823-aab1-83710724cf79",
   "metadata": {},
   "outputs": [],
   "source": [
    "prompt = prompt_template.format(**documents[0])"
   ]
  },
  {
   "cell_type": "code",
   "execution_count": 44,
   "id": "bc69caa8-966a-4d38-b519-e779ad8055fa",
   "metadata": {},
   "outputs": [],
   "source": [
    "def llm(prompt):\n",
    "    response = client.chat.completions.create(\n",
    "        model='gpt-4o-mini',\n",
    "        messages=[{\"role\": \"user\", \"content\": prompt}]\n",
    "    )\n",
    "    \n",
    "    return response.choices[0].message.content"
   ]
  },
  {
   "cell_type": "code",
   "execution_count": 45,
   "id": "fe0d646b-4235-4e73-9cba-7276c150b419",
   "metadata": {},
   "outputs": [],
   "source": [
    "questions = llm(prompt)"
   ]
  },
  {
   "cell_type": "code",
   "execution_count": 46,
   "id": "c0dc8471-3fd1-4108-95b9-8ec2f885cc45",
   "metadata": {},
   "outputs": [],
   "source": [
    "import json"
   ]
  },
  {
   "cell_type": "code",
   "execution_count": 47,
   "id": "f1ba296c-97be-4848-968e-d517097b74da",
   "metadata": {},
   "outputs": [
    {
     "data": {
      "text/plain": [
       "{'questions': ['What preparation is needed before starting the Push-Up Hold exercise?',\n",
       "  'How should I breathe during the Push-Up Hold to ensure effectiveness and safety?',\n",
       "  'What muscles are primarily activated during the Push-Up Hold?',\n",
       "  'How long should I hold the stretch for each side during the Push-Up Hold?',\n",
       "  'What common mistakes should I avoid while performing the Push-Up Hold?']}"
      ]
     },
     "execution_count": 47,
     "metadata": {},
     "output_type": "execute_result"
    }
   ],
   "source": [
    "json.loads(questions)"
   ]
  },
  {
   "cell_type": "code",
   "execution_count": 48,
   "id": "24513518-6e49-49d1-80b5-088158b21395",
   "metadata": {},
   "outputs": [],
   "source": [
    "def generate_questions(doc):\n",
    "    prompt = prompt_template.format(**doc)\n",
    "\n",
    "    response = client.chat.completions.create(\n",
    "        model='gpt-4o-mini',\n",
    "        messages=[{\"role\": \"user\", \"content\": prompt}]\n",
    "    )\n",
    "\n",
    "    json_response = response.choices[0].message.content\n",
    "    return json_response"
   ]
  },
  {
   "cell_type": "code",
   "execution_count": 49,
   "id": "03a1cd39-82b5-40bb-b1df-6f0802207614",
   "metadata": {},
   "outputs": [
    {
     "name": "stderr",
     "output_type": "stream",
     "text": [
      "/opt/miniconda3/envs/py312/lib/python3.12/site-packages/tqdm/auto.py:21: TqdmWarning: IProgress not found. Please update jupyter and ipywidgets. See https://ipywidgets.readthedocs.io/en/stable/user_install.html\n",
      "  from .autonotebook import tqdm as notebook_tqdm\n"
     ]
    }
   ],
   "source": [
    "from tqdm.auto import tqdm"
   ]
  },
  {
   "cell_type": "code",
   "execution_count": 50,
   "id": "a2b8b55f-0bd5-4f0e-a60d-5e76114a63bd",
   "metadata": {},
   "outputs": [],
   "source": [
    "results = {}"
   ]
  },
  {
   "cell_type": "code",
   "execution_count": 51,
   "id": "17e3f09c-8bf0-4661-ad5b-d9fe89f24a23",
   "metadata": {},
   "outputs": [
    {
     "name": "stderr",
     "output_type": "stream",
     "text": [
      "100%|█████████████████████████████████████████████████████████████████████████████████████████████████████████████████| 500/500 [19:55<00:00,  2.39s/it]\n"
     ]
    }
   ],
   "source": [
    "for doc in tqdm(documents): \n",
    "    doc_id = doc['id']\n",
    "    if doc_id in results:\n",
    "        continue\n",
    "\n",
    "    questions_raw = generate_questions(doc)\n",
    "    questions = json.loads(questions_raw)\n",
    "    results[doc_id] = questions['questions']"
   ]
  },
  {
   "cell_type": "code",
   "execution_count": 54,
   "id": "626b2533-8b9c-4b91-9e06-848190866de7",
   "metadata": {},
   "outputs": [],
   "source": [
    "final_results = []\n",
    "\n",
    "for doc_id, questions in results.items():\n",
    "    for q in questions:\n",
    "        final_results.append((doc_id, q))"
   ]
  },
  {
   "cell_type": "code",
   "execution_count": 56,
   "id": "6e1e50ab-4ef2-42ed-873d-23641b9bb73e",
   "metadata": {},
   "outputs": [],
   "source": [
    "df_results = pd.DataFrame(final_results, columns=['id', 'question'])"
   ]
  },
  {
   "cell_type": "code",
   "execution_count": 57,
   "id": "f2e59e59-3fa9-4271-8506-bc83c1b9cfa1",
   "metadata": {},
   "outputs": [],
   "source": [
    "df_results.to_csv('../data/ground-truth-retrieval.csv', index=False)"
   ]
  },
  {
   "cell_type": "code",
   "execution_count": null,
   "id": "11705bad-3477-4075-8c0e-d83136dc1eee",
   "metadata": {},
   "outputs": [],
   "source": []
  }
 ],
 "metadata": {
  "kernelspec": {
   "display_name": "Python 3 (ipykernel)",
   "language": "python",
   "name": "python3"
  },
  "language_info": {
   "codemirror_mode": {
    "name": "ipython",
    "version": 3
   },
   "file_extension": ".py",
   "mimetype": "text/x-python",
   "name": "python",
   "nbconvert_exporter": "python",
   "pygments_lexer": "ipython3",
   "version": "3.12.8"
  }
 },
 "nbformat": 4,
 "nbformat_minor": 5
}
